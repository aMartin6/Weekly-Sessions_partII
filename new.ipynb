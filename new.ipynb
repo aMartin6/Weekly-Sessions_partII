{
 "cells": [
  {
   "cell_type": "markdown",
   "metadata": {},
   "source": [
    "# Weekly Session 8\n",
    "\n",
    "## Goal\n",
    "To develop a basic familiarity and proficiency with numerical rootfinding.\n",
    "\n",
    "## Readings\n",
    "We will skip the remainder of the linear equations material (6.2) and move directly onto solutions of nonlinear equations.\n",
    "\n",
    "    6.3.1 Relaxation Method\n",
    "    \n",
    "    6.3.2 Convergence Rate\n",
    "    \n",
    "    6.3.4 Binary search -- a.k.a. the bisection method\n",
    "\n",
    "    6.3.5 Newton's method -- a.k.a. the Newton-Raphson method\n",
    "\n",
    "Although we will not specifically cover extremization in this week's handout, you should also read enough to get a basic idea of what is possible:\n",
    "\n",
    "    6.4 Maxima and minima of functions\n",
    "    \n",
    "## Overview\n",
    "\n",
    "We will start with a brief introduction to solving non-linear equations, using the relaxation method.  Then you will build up your own module named ```rootfind```, containing functions which implement each of the basic numerical rootfinding methods: the **bisection** method, the **Newton-Raphson** method (for when the derivative is known), and the **Dekker secant** method (for when it is not).  You will also see the value in *hybridizing* these latter two methods with the bisection method.  \n",
    "\n",
    "As always, scipy has some beautiful versions of these codes available.  So after you have written your own **Newton-Raphson** method, we will switch over to using library functions.\n",
    "\n",
    "https://docs.scipy.org/doc/scipy-0.15.1/reference/generated/scipy.optimize.newton.html"
   ]
  },
  {
   "cell_type": "code",
<<<<<<< HEAD
   "execution_count": 3,
   "metadata": {
    "collapsed": false
   },
=======
   "execution_count": 9,
   "metadata": {},
>>>>>>> 442af8e851ebb9d2bdb0bb4366fedf69dca4eb85
   "outputs": [
    {
     "data": {
      "text/html": [
       "<style>\n",
       "div.warn {\n",
       "    background-color: black;\n",
       "    border-color: #dFb5b4;\n",
       "    border-left: 5px solid #dfb5b4;\n",
       "    padding: 0.5em\n",
       "    color: white;\n",
       "    }\n",
       " </style>\n",
       "\n",
       " <style>\n",
       " div.answer {\n",
       "     background-color: lightblue;\n",
       "     border-color: #dFb5b4;\n",
       "     border-left: 5px solid #dfb5b4;\n",
       "     padding: 0.5em\n",
       "     }\n",
       "  </style>\n"
      ],
      "text/plain": [
       "<IPython.core.display.HTML object>"
      ]
     },
<<<<<<< HEAD
     "execution_count": 3,
=======
     "execution_count": 9,
>>>>>>> 442af8e851ebb9d2bdb0bb4366fedf69dca4eb85
     "metadata": {},
     "output_type": "execute_result"
    }
   ],
   "source": [
    "#For colored cells, currently blue cells, black text \n",
    "#https://stackoverflow.com/questions/18024769/adding-custom-styled-paragraphs-in-markdown-cells\n",
    "from IPython.core.display import HTML\n",
    "def css_styling():\n",
    "    styles = open(\"style.css\", \"r\").read()\n",
    "    return HTML(styles)\n",
    "css_styling()"
   ]
  },
  {
   "cell_type": "markdown",
   "metadata": {},
   "source": [
    "<div class=answer>\n",
    "*This should be a blue cell with black font if you set the filepath correctly*</font>\n",
    "<div/>"
   ]
  },
  {
   "cell_type": "markdown",
   "metadata": {},
   "source": [
    "## Exercise 0 - Jupyter Notebook \n",
    "\n",
    "### Keyboard Shortcuts\n",
    "\n",
    "Read this and try some out.\n",
    "http://maxmelnick.com/2016/04/19/python-beginner-tips-and-tricks.html\n",
    "\n",
    "My favorites are \"B,\" \"M,\" and \"Enter\" so far, but I'm working on more."
   ]
  },
  {
   "cell_type": "markdown",
   "metadata": {},
   "source": [
    "### Some plotting tricks\n",
    "\n",
    "Run the following code cell.  Notice the last (active) line resets the default font on your plots to a larger size.  You can use similar calls to change many more plotting defaults [link](https://matplotlib.org/api/matplotlib_configuration_api.html)."
   ]
  },
  {
   "cell_type": "code",
<<<<<<< HEAD
   "execution_count": 4,
=======
   "execution_count": 10,
>>>>>>> 442af8e851ebb9d2bdb0bb4366fedf69dca4eb85
   "metadata": {
    "collapsed": true
   },
   "outputs": [],
   "source": [
    "import math\n",
    "import numpy as np\n",
    "import matplotlib.pylab as plt\n",
    "%matplotlib inline\n",
    "plt.rcParams['font.size']=14\n",
    "\n",
    "#line below prints all possible default variables stored in the dictionary rcParams\n",
    "#plt.rcParams.keys()  "
   ]
  },
  {
   "cell_type": "markdown",
   "metadata": {},
   "source": [
    "### Passing function arguments\n",
    "These semester you have become very experienced passing functions as arguments in other functions.  For instance: "
   ]
  },
  {
   "cell_type": "code",
<<<<<<< HEAD
   "execution_count": 5,
   "metadata": {
    "collapsed": false
   },
=======
   "execution_count": 11,
   "metadata": {},
>>>>>>> 442af8e851ebb9d2bdb0bb4366fedf69dca4eb85
   "outputs": [
    {
     "name": "stdout",
     "output_type": "stream",
     "text": [
      "2\n"
     ]
    }
   ],
   "source": [
    "def q(x):\n",
    "    '''Calculates a simple mathematic function \n",
    "    \n",
    "    It is written using numpy's exponential function (not math) so it can operate on numpy arrays.\n",
    "    accepts: x - float\n",
    "    returns f(x) - float\n",
    "    '''\n",
    "    \n",
    "    return x\n",
    "\n",
    "def g(f,x):\n",
    "    '''Calls another function f(x) and prints its return value \n",
    "    \n",
    "    accepts: \n",
    "        x - float\n",
    "        f(x) - float\n",
    "    returns \n",
    "        None\n",
    "    '''\n",
    "    \n",
    "    print(f(x))\n",
    "    return None\n",
    "\n",
    "#call g to act on q at x=2, which prints q(x)=x.  \n",
    "#Very convoluted way to do something simple\n",
    "g(q,2)"
   ]
  },
  {
   "cell_type": "markdown",
   "metadata": {},
   "source": [
    "But what if we want to work with a more complicated function?  For instance what if I want to call the following: "
   ]
  },
  {
   "cell_type": "code",
<<<<<<< HEAD
   "execution_count": 6,
=======
   "execution_count": 12,
>>>>>>> 442af8e851ebb9d2bdb0bb4366fedf69dca4eb85
   "metadata": {
    "collapsed": true
   },
   "outputs": [],
   "source": [
    "def r(x,y,z):\n",
    "    return x+y+z"
   ]
  },
  {
   "cell_type": "markdown",
   "metadata": {},
   "source": [
    "You are probably thinking, this is easy - we can just do the same thing you did with ```x``` above, by passing it to g(f,x) as a separate argument.  But notice that you would have to redefine the function ```g``` to be ```g(f,x,y,z).```  Doesn't this seem inefficient?  \n",
    "\n",
    "*For instance, what if you want to write ```g``` so it could print the output of any function, not just design it for a single function?*\n",
    "\n",
    "Lets do that.  The method for doing so is to use a function parameter named ```*args``` or \"star args\".  "
   ]
  },
  {
   "cell_type": "code",
<<<<<<< HEAD
   "execution_count": 7,
=======
   "execution_count": 13,
>>>>>>> 442af8e851ebb9d2bdb0bb4366fedf69dca4eb85
   "metadata": {
    "collapsed": true
   },
   "outputs": [],
   "source": [
    "def g1(f,*args):\n",
    "    '''Calls another function f(x) and prints its return value \n",
    "    \n",
    "    accepts: \n",
    "        x - float\n",
    "        f(x) - float\n",
    "    returns \n",
    "        None\n",
    "    '''\n",
    "    \n",
    "    print(\"You passed the function (object): \",f, \"with arguments:\" ,*args)\n",
    "    for key in args:\n",
    "        print (\"Arguement: \", key)\n",
    "\n",
    "    print(f(*args))\n",
    "    return None"
   ]
  },
  {
   "cell_type": "markdown",
   "metadata": {},
   "source": [
    "So lets run ```g1``` on the function r:"
   ]
  },
  {
   "cell_type": "code",
<<<<<<< HEAD
   "execution_count": 8,
   "metadata": {
    "collapsed": false
   },
=======
   "execution_count": 14,
   "metadata": {},
>>>>>>> 442af8e851ebb9d2bdb0bb4366fedf69dca4eb85
   "outputs": [
    {
     "name": "stdout",
     "output_type": "stream",
     "text": [
<<<<<<< HEAD
      "You passed the function (object):  <function r at 0x000000000743DC80> with arguments: 1 2 3\n",
=======
      "You passed the function (object):  <function r at 0x000002519726C620> with arguments: 1 2 3\n",
>>>>>>> 442af8e851ebb9d2bdb0bb4366fedf69dca4eb85
      "Arguement:  1\n",
      "Arguement:  2\n",
      "Arguement:  3\n",
      "6\n"
     ]
    }
   ],
   "source": [
    "g1(r,1,2,3)"
   ]
  },
  {
   "cell_type": "markdown",
   "metadata": {},
   "source": [
    "Play around with the codes above.  For instance, \n",
    "* call ```g1``` on another function which takes 2 or 4 arguments (instead of 1 or 3). \n",
    "* print individual values of ```*args``` - **see the last link below for this**\n",
    "\n",
    "<div class=answer>\n",
    "Answer below.  Add code cells as necessary.\n",
    "<div/>"
   ]
  },
  {
   "cell_type": "code",
<<<<<<< HEAD
   "execution_count": 9,
   "metadata": {
    "collapsed": false
   },
=======
   "execution_count": 15,
   "metadata": {},
>>>>>>> 442af8e851ebb9d2bdb0bb4366fedf69dca4eb85
   "outputs": [
    {
     "name": "stdout",
     "output_type": "stream",
     "text": [
<<<<<<< HEAD
      "You passed the function (object):  <function s at 0x0000000007450400> with arguments: 2 4 6 8\n",
=======
      "You passed the function (object):  <function s at 0x0000025197364D08> with arguments: 2 4 6 8\n",
>>>>>>> 442af8e851ebb9d2bdb0bb4366fedf69dca4eb85
      "Arguement:  2\n",
      "Arguement:  4\n",
      "Arguement:  6\n",
      "Arguement:  8\n",
      "20\n"
     ]
    }
   ],
   "source": [
    "def s(x,y,z,q):\n",
    "    return x+y+z+q\n",
    "\n",
    "g1(s,2,4,6,8)"
   ]
  },
  {
   "cell_type": "markdown",
   "metadata": {},
   "source": [
    "Want to know more?  Here are a few links to show you the big picture:\n",
    "* https://www.python-course.eu/passing_arguments.php\n",
    "* http://www.informit.com/articles/article.aspx?p=2314818\n",
    "* https://www.saltycrane.com/blog/2008/01/how-to-use-args-and-kwargs-in-python/"
   ]
  },
  {
   "cell_type": "markdown",
   "metadata": {},
   "source": [
    "## Exercise 1: Intro to the Relaxation Method and Convergence\n",
    "\n",
    "Newman uses $f(x) = 2 - e^{-x}$ as his first test case.  Let's start by plotting that and simply checking that the solution in Newman 6.3.1 is approximately correct.  "
   ]
  },
  {
   "cell_type": "code",
<<<<<<< HEAD
   "execution_count": 10,
   "metadata": {
    "collapsed": false
   },
=======
   "execution_count": 18,
   "metadata": {},
>>>>>>> 442af8e851ebb9d2bdb0bb4366fedf69dca4eb85
   "outputs": [
    {
     "data": {
      "image/png": "iVBORw0KGgoAAAANSUhEUgAAAb0AAAG1CAYAAABtfSopAAAABHNCSVQICAgIfAhkiAAAAAlwSFlz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\n",
      "text/plain": [
<<<<<<< HEAD
       "<matplotlib.figure.Figure at 0x744ea90>"
=======
       "<matplotlib.figure.Figure at 0x251973c8b38>"
>>>>>>> 442af8e851ebb9d2bdb0bb4366fedf69dca4eb85
      ]
     },
     "metadata": {},
     "output_type": "display_data"
    }
   ],
   "source": [
    "def f(x):\n",
    "    '''Calculates a simple mathematic function from Newman 6.3.1\n",
    "    \n",
    "    It is written using numpy's exponential function (not math) so it can operate on numpy arrays.\n",
    "    accepts: x - float\n",
    "    returns f(x) - float\n",
    "    '''\n",
    "    \n",
    "    return 2 - np.exp(-x)\n",
    "\n",
    "#define the x-range\n",
    "x = np.linspace(0,3)\n",
    "\n",
    "#set up the plot\n",
    "fig = plt.figure(figsize=(7,7))\n",
    "ax = fig.add_subplot(111)\n",
    "\n",
    "#plot the function - both left hand side and right hand side\n",
    "ax.plot(x,f(x),label=r\"$2-e^{-x}$\")\n",
    "ax.plot(x,x,label=r\"$x$\",ls='--')\n",
    "\n",
    "#add good labels\n",
    "ax.legend(loc='best')\n",
    "ax.set_xlabel('x')\n",
    "ax.set_ylabel('f(x)')\n",
    "ax.set_aspect('equal')\n",
    "\n",
    "#add a label to be extra transparent\n",
    "text1 = ax.annotate(r'solution, $x^* \\approx 1.84$', xy=(1.84, 1.84), xytext=(1.8, 1.0),\n",
    "            arrowprops=dict(facecolor='black', shrink=0.05),\n",
    "            )"
   ]
  },
  {
   "cell_type": "markdown",
   "metadata": {},
   "source": [
    "*Notice how I added an arrow and text to the figure above?  This is very useful.*\n",
    "\n",
    "### Solve the equation $x=2-e^{-x}$ as in Newman, and include a measure of the error at each step."
   ]
  },
  {
   "cell_type": "code",
<<<<<<< HEAD
   "execution_count": 11,
   "metadata": {
    "collapsed": false
   },
=======
   "execution_count": 20,
   "metadata": {},
>>>>>>> 442af8e851ebb9d2bdb0bb4366fedf69dca4eb85
   "outputs": [
    {
     "name": "stdout",
     "output_type": "stream",
     "text": [
      "x Values: 1.63212055883 Error: 0.632120558829\n",
      "x Values: 1.80448546585 Error: 0.172364907019\n",
      "x Values: 1.83544089392 Error: 0.0309554280746\n",
      "x Values: 1.84045685534 Error: 0.00501596142149\n",
      "x Values: 1.84125511391 Error: 0.000798258567897\n",
      "x Values: 1.84138178281 Error: 0.000126668901436\n",
      "x Values: 1.84140187354 Error: 2.00907228571e-05\n",
      "x Values: 1.84140505985 Error: 3.18631899665e-06\n",
      "x Values: 1.84140556519 Error: 5.05333265455e-07\n",
      "x Values: 1.84140564533 Error: 8.01430233288e-08\n"
     ]
    }
   ],
   "source": [
    "x = 1.0\n",
    "for k in range (10):\n",
    "    xOld = x\n",
    "    x = 2-np.exp(-x)\n",
    "    error = (x-xOld)\n",
    "    print(\"x Values:\", x, \"Error:\", error)\n"
   ]
  },
  {
   "cell_type": "markdown",
   "metadata": {},
   "source": [
    "#### Prove mathematically that the Relaxation Method will work on the function above.  Show your work and briefly explain"
   ]
  },
  {
   "cell_type": "markdown",
   "metadata": {},
   "source": [
    "<div class=answer>\n",
    "<div/>\n",
    "The difference between the calcualted value and the actual value becomes smaller by a factor of f'(x*) at each iteration. So f'(x*) must be less than 1."
   ]
  },
  {
   "cell_type": "code",
<<<<<<< HEAD
   "execution_count": 12,
   "metadata": {
    "collapsed": false
   },
=======
   "execution_count": 21,
   "metadata": {},
>>>>>>> 442af8e851ebb9d2bdb0bb4366fedf69dca4eb85
   "outputs": [
    {
     "data": {
      "text/plain": [
       "0.1585952372788415"
      ]
     },
<<<<<<< HEAD
     "execution_count": 12,
=======
     "execution_count": 21,
>>>>>>> 442af8e851ebb9d2bdb0bb4366fedf69dca4eb85
     "metadata": {},
     "output_type": "execute_result"
    }
   ],
   "source": [
    "math.exp(-1.8414)"
   ]
  },
  {
   "cell_type": "markdown",
   "metadata": {},
   "source": [
    "## Exercise 2\n",
    "\n",
    "### Newman's Exercise 6.10: The percolation transition\n",
    "\n",
    "Consider the equation $x = 1 - \\ e^{-cx}$, where $c$ is a known parameter and $x$ is unknown.  This equation arises in a variety of situations, including the physics of contact processes, mathematical models of epidemics, and the theory of random graphs.\n",
    "\n",
    "####  First plot the function for the case $c=2$.  \n",
    "Mark both the trivial solution and the (approximate) non-trivial solution. \n",
    "\n",
    "**Lab-like exercise: **\n",
    "Write a full description of your plots for this section, as if you were in lab.  While it might not be so clear why this is named *the percolation transition* hopefully it is very clear why this is called *the epidemic threshold*.  Please include some insights related to this name in your description of these plots."
   ]
  },
  {
   "cell_type": "code",
<<<<<<< HEAD
   "execution_count": 13,
   "metadata": {
    "collapsed": false
   },
=======
   "execution_count": 22,
   "metadata": {},
>>>>>>> 442af8e851ebb9d2bdb0bb4366fedf69dca4eb85
   "outputs": [
    {
     "data": {
      "image/png": "iVBORw0KGgoAAAANSUhEUgAAAb0AAAG1CAYAAABtfSopAAAABHNCSVQICAgIfAhkiAAAAAlwSFlz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\n",
      "text/plain": [
<<<<<<< HEAD
       "<matplotlib.figure.Figure at 0x77d3828>"
=======
       "<matplotlib.figure.Figure at 0x251984addd8>"
>>>>>>> 442af8e851ebb9d2bdb0bb4366fedf69dca4eb85
      ]
     },
     "metadata": {},
     "output_type": "display_data"
    }
   ],
   "source": [
    "def f2(x, c):\n",
    "    '''Calculates a simple mathematic function from Newman 6.3.1\n",
    "    \n",
    "    It is written using numpy's exponential function (not math) so it can operate on numpy arrays.\n",
    "    accepts: x - float\n",
    "    returns f(x) - float\n",
    "    '''\n",
    "    \n",
    "    return 1 - np.exp(-c*x)\n",
    "\n",
    "#define the x-range\n",
    "x = np.linspace(0,3)\n",
    "\n",
    "#set up the plot\n",
    "fig = plt.figure(figsize=(7,7))\n",
    "ax = fig.add_subplot(111)\n",
    "\n",
    "#plot the function - both left hand side and right hand side\n",
    "ax.plot(x,f2(x, 2),label=r\"$1-e^{-2x}$\")\n",
    "ax.plot(x,x,label=r\"$x$\",ls='--')\n",
    "\n",
    "#add good labels\n",
    "ax.legend(loc='best')\n",
    "ax.set_xlabel('x')\n",
    "ax.set_ylabel('f2(x)')\n",
    "ax.set_aspect('equal')\n",
    "\n",
    "#add a label to be extra transparent\n",
    "text1 = ax.annotate(r'solution, $x^* \\approx 0.8$', xy=(0.8, 0.8), xytext=(2.0, 0.2),\n",
    "            arrowprops=dict(facecolor='black', shrink=0.05),\n",
    "            )"
   ]
  },
  {
   "cell_type": "markdown",
   "metadata": {},
   "source": [
    "#### Write a program to solve this equation for $x$ using the relaxation method for the case $c=2$.  \n",
    "Calculate your solution to an accuracy of at least $10^{-6}$."
   ]
  },
  {
   "cell_type": "code",
<<<<<<< HEAD
   "execution_count": 14,
   "metadata": {
    "collapsed": false
   },
=======
   "execution_count": 43,
   "metadata": {},
>>>>>>> 442af8e851ebb9d2bdb0bb4366fedf69dca4eb85
   "outputs": [
    {
     "name": "stdout",
     "output_type": "stream",
     "text": [
      "x Values: 0.864664716763 Error: -0.135335283237\n",
      "x Values: 0.822596669181 Error: -0.0420680475825\n",
      "x Values: 0.807024750332 Error: -0.0155719188491\n",
      "x Values: 0.800920194237 Error: -0.00610455609513\n",
      "x Values: 0.798474708325 Error: -0.00244548591188\n",
      "x Values: 0.797486639463 Error: -0.00098806886216\n",
      "x Values: 0.797086049491 Error: -0.000400589971551\n",
      "x Values: 0.796923413762 Error: -0.000162635728866\n",
      "x Values: 0.796857348001 Error: -6.60657613076e-05\n",
      "x Values: 0.79683050468 Error: -2.68433213021e-05\n",
      "x Values: 0.796819596899 Error: -1.09077808818e-05\n",
      "x Values: 0.796815164356 Error: -4.43254298199e-06\n",
      "x Values: 0.796813363097 Error: -1.80125901883e-06\n",
      "x Values: 0.796812631112 Error: -7.31984842961e-07\n"
     ]
    },
    {
     "data": {
      "text/plain": [
       "0.79681263111184575"
      ]
     },
<<<<<<< HEAD
     "execution_count": 14,
=======
     "execution_count": 43,
>>>>>>> 442af8e851ebb9d2bdb0bb4366fedf69dca4eb85
     "metadata": {},
     "output_type": "execute_result"
    }
   ],
   "source": [
    "def relax(f, *args, tol = 1e-6, verbose = False):\n",
<<<<<<< HEAD
    "    \"\"\"Returns the numerical solution to an equation calculated using the relaxation method\n",
    "    \n",
    "    Arguements: f - the fucntion to find the roots of\n",
    "                tol - tolerence of error\n",
    "                \n",
    "    Retured: The numerical solution to f\n",
    "    \"\"\"\n",
=======
>>>>>>> 442af8e851ebb9d2bdb0bb4366fedf69dca4eb85
    "    x = 1.0\n",
    "    error = 2*tol\n",
    "    while abs(error) >= abs(tol):\n",
    "        xOld = x\n",
    "        x = f(x,*args)\n",
    "        error = (x-xOld)\n",
    "        if verbose == True:\n",
    "            print(\"x Values:\", x, \"Error:\", error)\n",
    "        \n",
    "    return x\n",
    "\n",
    "relax(f2, 2, tol = 1e-6, verbose = True)"
   ]
  },
  {
   "cell_type": "markdown",
   "metadata": {},
   "source": [
    "#### Modify your program to calculate the solution for values of $c$ from 0 to 3 in steps of 0.01 and make a plot of $x$ as a function of $c$.  \n",
    "   \n",
    "   You should see a clear transition from a regime in which $x=0$ to a regime of nonzero $x$.   This is another example of a phase transition.   In physics this transition is known as the *percolation transition*;   in epidemiology it is the *epidemic threshold*."
   ]
  },
  {
   "cell_type": "code",
<<<<<<< HEAD
   "execution_count": 15,
   "metadata": {
    "collapsed": false
   },
=======
   "execution_count": 52,
   "metadata": {},
>>>>>>> 442af8e851ebb9d2bdb0bb4366fedf69dca4eb85
   "outputs": [
    {
     "data": {
      "text/plain": [
<<<<<<< HEAD
       "[<matplotlib.lines.Line2D at 0x78950b8>]"
      ]
     },
     "execution_count": 15,
=======
       "[<matplotlib.lines.Line2D at 0x2519866c748>]"
      ]
     },
     "execution_count": 52,
>>>>>>> 442af8e851ebb9d2bdb0bb4366fedf69dca4eb85
     "metadata": {},
     "output_type": "execute_result"
    },
    {
     "data": {
<<<<<<< HEAD
      "image/png": "iVBORw0KGgoAAAANSUhEUgAAAX8AAAEGCAYAAACNaZVuAAAABHNCSVQICAgIfAhkiAAAAAlwSFlz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\n6P8DnernMGSkQGIAAAAASUVORK5CYII=\n",
      "text/plain": [
       "<matplotlib.figure.Figure at 0x7858978>"
=======
      "image/png": "iVBORw0KGgoAAAANSUhEUgAAAX0AAAEACAYAAABfxaZOAAAABHNCSVQICAgIfAhkiAAAAAlwSFlz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\nd1lchSgfAAAAAElFTkSuQmCC\n",
      "text/plain": [
       "<matplotlib.figure.Figure at 0x251985847f0>"
>>>>>>> 442af8e851ebb9d2bdb0bb4366fedf69dca4eb85
      ]
     },
     "metadata": {},
     "output_type": "display_data"
    }
   ],
   "source": [
    "xValues = np.linspace (0,3,300)\n",
    "yValues = []\n",
    "for i in np.linspace (0,3,300):\n",
    "    yValues.append(relax(f2, i))\n",
    "    \n",
    "plt.plot(xValues, yValues)"
   ]
  },
  {
   "cell_type": "markdown",
   "metadata": {},
   "source": [
    "<div class=answer>\n",
    "<div/>\n",
    "This plot shows the solution to the above function at various values of c calculated using the relaxation method. The solution is zero for values of c that are less than 1, and then they increase as c increases."
   ]
  },
  {
   "cell_type": "markdown",
   "metadata": {},
   "source": [
    "## Exercise 3: Benchmark function for rootfinding\n",
    "You will use the function\n",
    "$$\n",
    "f(x)=\\cos x - x\n",
    "$$\n",
    "\n",
    "as a benchmark  in developing the following routines.  To orient yourself, first make a plot of the benchmark function. You will want to plot it over a\n",
    "reasonably wide range, *e.g.*, $-10\\leq x \\leq 10$, since you will be playing with different choices of initial intervals and guess points in this range.\n"
   ]
  },
  {
   "cell_type": "code",
<<<<<<< HEAD
   "execution_count": 36,
   "metadata": {
    "collapsed": false
   },
=======
   "execution_count": 6,
   "metadata": {},
>>>>>>> 442af8e851ebb9d2bdb0bb4366fedf69dca4eb85
   "outputs": [
    {
     "data": {
      "text/plain": [
<<<<<<< HEAD
       "<matplotlib.lines.Line2D at 0x75092b0>"
      ]
     },
     "execution_count": 36,
=======
       "<matplotlib.lines.Line2D at 0x2519731c358>"
      ]
     },
     "execution_count": 6,
>>>>>>> 442af8e851ebb9d2bdb0bb4366fedf69dca4eb85
     "metadata": {},
     "output_type": "execute_result"
    },
    {
     "data": {
<<<<<<< HEAD
      "image/png": "iVBORw0KGgoAAAANSUhEUgAAAYAAAAHBCAYAAABgw2x2AAAABHNCSVQICAgIfAhkiAAAAAlwSFlz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\nKQBERBJKASAiklD/H0sRDdZETuYIAAAAAElFTkSuQmCC\n",
      "text/plain": [
       "<matplotlib.figure.Figure at 0x8ae1208>"
=======
      "image/png": "iVBORw0KGgoAAAANSUhEUgAAAdIAAAG1CAYAAABNkXXUAAAABHNCSVQICAgIfAhkiAAAAAlwSFlz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\nqZmZWQNuSM3MzBr4Dw3g2z6CVnIFAAAAAElFTkSuQmCC\n",
      "text/plain": [
       "<matplotlib.figure.Figure at 0x251972d2b70>"
>>>>>>> 442af8e851ebb9d2bdb0bb4366fedf69dca4eb85
      ]
     },
     "metadata": {},
     "output_type": "display_data"
    }
   ],
   "source": [
    "xValues = np.linspace (-10, 10)\n",
    "yValues = []\n",
    "for i in xValues:\n",
    "    yValues.append(math.cos(i) - i)\n",
    "    \n",
    "fig = plt.figure(figsize=(7,7))\n",
    "ax = fig.add_subplot(111)\n",
    "\n",
    "ax.plot(xValues, yValues, label = \"cos(x)-x\")\n",
    "\n",
    "ax.legend(loc='best')\n",
    "ax.set_xlabel('x')\n",
    "ax.set_ylabel('f(x)')\n",
    "ax.set_aspect('equal')\n",
    "    \n",
    "ax.axhline(y=0,ls='--',color='gray')"
   ]
  },
  {
   "cell_type": "markdown",
   "metadata": {},
   "source": [
    "## Exercise 4 - introduction to bisection"
   ]
  },
  {
   "cell_type": "markdown",
   "metadata": {},
   "source": [
    "For efficiency, I have provided a basic code on the bisection method.  Read the code below carefully and check that it is written as you would expect."
   ]
  },
  {
   "cell_type": "markdown",
   "metadata": {},
   "source": [
    "The bisection method is our baseline method, to which we will be\n",
    "comparing the other new members.  Moreover, we will be using bisection\n",
    "steps when we \"hybridize\" the bisection method with the other, more\n",
    "sophisticated rootfinding methods.  So, let us start off our new\n",
    "rootfind methods by bundling the code above into a function.  \n",
    "\n",
    "Take a close look, and make sure you understand the logic.  The loop structure is designed to provide a better starting point for the approach we will need to take with in the other rootfinding methods.\n",
    "\n",
    "For instance, all these other methods are based on the idea of finding successive approximations $x_i$ ($i=0$, $1$, $2$, $\\ldots$).  Then the \"error\" is estimated the difference between the two most recent approximate roots, *i.e.*,\n",
    "$$\n",
    "\\epsilon_i = x_i - x_{i-1}.\n",
    "$$"
   ]
  },
  {
   "cell_type": "code",
   "execution_count": 78,
   "metadata": {
    "collapsed": true
   },
   "outputs": [],
   "source": [
    "\"\"\" rootfind.py -- library of rootfinding routines\n",
    "     \n",
    "    Language: Python 3\n",
    "    Mark A. Caprio\n",
    "    University of Notre Dame\n",
    "    Written for Computational Methods in Physics, Spring 2014.\n",
    "\"\"\"\n",
    "\n",
    "def bisection(f,interval,tolerance,verbose=False, maxIterations = 100):\n",
    "    \"\"\" Find root by bisection.\n",
    "\n",
    "    The 'approximation' x_i at each iteration is defined by the\n",
    "    midpoint of the interval.\n",
    "    \n",
    "    The 'error' x_i-x_(i-1) is defined by the change in midpoint from\n",
    "    the midpoint of the last interval.  (Of course, for bisection,\n",
    "    that is always half the width of the new interval.)\n",
    "\n",
    "    Returns None if the sign of the function does not change on the\n",
    "    given interval.  Otherwise, returns final midpoint x_i when\n",
    "    termination condition is reached.\n",
    "\n",
    "    f: function for rootfinding\n",
    "    interval: tuple containing initial interval endpoints (xa,xb)\n",
    "    tolerance: difference x_i-x_(i-1) at which search should terminate\n",
    "    verbose (optional): whether or not to print iteration log\n",
    "    \"\"\"\n",
    "\n",
    "    # set up initial bracketing interval\n",
    "    #   Note: Sign of function *must* change in this interval for method to work.\n",
    "    (xa,xb) = interval\n",
    "    fxa = f(xa)\n",
    "    fxb = f(xb)\n",
    "    if (fxa*fxb >=0):\n",
    "        # no sign change in interval\n",
    "        return None\n",
    "\n",
    "    # set up for first iteration\n",
    "    xm = (xb + xa)/2\n",
    "    error = (xb - xa)/2\n",
    "    iteration_count = 0\n",
    "\n",
    "    # bisect until tolerance reached\n",
    "    while (abs(error) > tolerance and iteration_count < maxIterations):\n",
    "\n",
    "        # increment iteration count\n",
    "        iteration_count += 1\n",
    "        \n",
    "        # evaluate function\n",
    "        fxa = f(xa)\n",
    "        fxb = f(xb)\n",
    "        fxm = f(xm)\n",
    "\n",
    "        # find which subinterval contains root\n",
    "        if (fxm == 0):\n",
    "            # accidentally landed on root (often occurs for \"toy\" test intervals)\n",
    "            xa = xm\n",
    "            xb = xm\n",
    "        elif ((fxa * fxm) < 0):\n",
    "            # sign change is in left half of interval\n",
    "            xb = xm\n",
    "        else:\n",
    "            # sign change is in right half of interval\n",
    "            xa = xm\n",
    "\n",
    "        # find new midpoint (and change in midpoint)\n",
    "        xm_old = xm\n",
    "        xm = (xb + xa)/2\n",
    "        error = xm - xm_old\n",
    "\n",
    "        # verbose iteration log\n",
    "        if (verbose):\n",
    "            print(\"iteration\", iteration_count, \"(bisection):\",\n",
    "                  \"interval\", (xa, xb), \"root\", xm)\n",
    "            \n",
    "    return xm"
   ]
  },
  {
   "cell_type": "markdown",
   "metadata": {},
   "source": [
    " When this estimated error falls below the tolerance, we terminate and return the \"last guess\" $x_i$.  We can think about the bisection method somewhat the same way (at least, we can phrase the termination condition and return value the same way) if we think of the \"midpoint\" of our interval as $x_i$.  \n",
    " \n",
    " **See the usage example below:**"
   ]
  },
  {
   "cell_type": "code",
   "execution_count": 18,
   "metadata": {
    "collapsed": false
   },
   "outputs": [
    {
     "name": "stdout",
     "output_type": "stream",
     "text": [
      "bisection(f_bench,(-1,0),1e-10,verbose=True)\n",
      "None\n",
      "bisection(f_bench,(0,1),1e-10,verbose=True)\n",
      "iteration 1 (bisection): interval (0.5, 1) root 0.75\n",
      "iteration 2 (bisection): interval (0.5, 0.75) root 0.625\n",
      "iteration 3 (bisection): interval (0.625, 0.75) root 0.6875\n",
      "iteration 4 (bisection): interval (0.6875, 0.75) root 0.71875\n",
      "iteration 5 (bisection): interval (0.71875, 0.75) root 0.734375\n",
      "iteration 6 (bisection): interval (0.734375, 0.75) root 0.7421875\n",
      "iteration 7 (bisection): interval (0.734375, 0.7421875) root 0.73828125\n",
      "iteration 8 (bisection): interval (0.73828125, 0.7421875) root 0.740234375\n",
      "iteration 9 (bisection): interval (0.73828125, 0.740234375) root 0.7392578125\n",
      "iteration 10 (bisection): interval (0.73828125, 0.7392578125) root 0.73876953125\n",
      "iteration 11 (bisection): interval (0.73876953125, 0.7392578125) root 0.739013671875\n",
      "iteration 12 (bisection): interval (0.739013671875, 0.7392578125) root 0.7391357421875\n",
      "iteration 13 (bisection): interval (0.739013671875, 0.7391357421875) root 0.73907470703125\n",
      "iteration 14 (bisection): interval (0.73907470703125, 0.7391357421875) root 0.739105224609375\n",
      "iteration 15 (bisection): interval (0.73907470703125, 0.739105224609375) root 0.7390899658203125\n",
      "iteration 16 (bisection): interval (0.73907470703125, 0.7390899658203125) root 0.7390823364257812\n",
      "iteration 17 (bisection): interval (0.7390823364257812, 0.7390899658203125) root 0.7390861511230469\n",
      "iteration 18 (bisection): interval (0.7390823364257812, 0.7390861511230469) root 0.7390842437744141\n",
      "iteration 19 (bisection): interval (0.7390842437744141, 0.7390861511230469) root 0.7390851974487305\n",
      "iteration 20 (bisection): interval (0.7390842437744141, 0.7390851974487305) root 0.7390847206115723\n",
      "iteration 21 (bisection): interval (0.7390847206115723, 0.7390851974487305) root 0.7390849590301514\n",
      "iteration 22 (bisection): interval (0.7390849590301514, 0.7390851974487305) root 0.7390850782394409\n",
      "iteration 23 (bisection): interval (0.7390850782394409, 0.7390851974487305) root 0.7390851378440857\n",
      "iteration 24 (bisection): interval (0.7390850782394409, 0.7390851378440857) root 0.7390851080417633\n",
      "iteration 25 (bisection): interval (0.7390851080417633, 0.7390851378440857) root 0.7390851229429245\n",
      "iteration 26 (bisection): interval (0.7390851229429245, 0.7390851378440857) root 0.7390851303935051\n",
      "iteration 27 (bisection): interval (0.7390851303935051, 0.7390851378440857) root 0.7390851341187954\n",
      "iteration 28 (bisection): interval (0.7390851303935051, 0.7390851341187954) root 0.7390851322561502\n",
      "iteration 29 (bisection): interval (0.7390851322561502, 0.7390851341187954) root 0.7390851331874728\n",
      "iteration 30 (bisection): interval (0.7390851331874728, 0.7390851341187954) root 0.7390851336531341\n",
      "iteration 31 (bisection): interval (0.7390851331874728, 0.7390851336531341) root 0.7390851334203035\n",
      "iteration 32 (bisection): interval (0.7390851331874728, 0.7390851334203035) root 0.7390851333038881\n",
      "iteration 33 (bisection): interval (0.7390851331874728, 0.7390851333038881) root 0.7390851332456805\n",
      "0.7390851332456805\n"
     ]
    }
   ],
   "source": [
    "# test code\n",
    "if (__name__ == \"__main__\"):\n",
    "\n",
    "    # read in external libraries\n",
    "    import math\n",
    "\n",
    "    # define function for rootfinding\n",
    "    def f_bench(x):\n",
    "        return math.cos(x) - x\n",
    "    def fp_bench(x):\n",
    "        return -math.sin(x) - 1\n",
    "\n",
    "    # bisection tests\n",
    "\n",
    "    print(\"bisection(f_bench,(-1,0),1e-10,verbose=True)\")\n",
    "    print(bisection(f_bench,(-1,0),1e-10,verbose=True))\n",
    "\n",
    "    print(\"bisection(f_bench,(0,1),1e-10,verbose=True)\")\n",
    "    print(bisection(f_bench,(0,1),1e-10,verbose=True))"
   ]
  },
  {
   "cell_type": "markdown",
   "metadata": {},
   "source": [
    "If the tolerance is $10^{-3}$, how many bisections do you expect to need?  What if the tolerance is $10^{-6}$ ?  Or $10^{-9}$ ?  Try this out, and record the number of iteration and the approximate root (or, rather, root-containing interval) you find in each case, for $\\cos x - x$.\n",
    " \n",
    " *Hint:* An incredibly-convenient almost-equality is $2^{10} = 1024 \\approx 1000 = 10^3$.  Remember this.  Forever.  This is why 1024 bytes make a \"kilobyte\" to a computer scientist."
   ]
  },
  {
   "cell_type": "code",
   "execution_count": 28,
   "metadata": {
    "collapsed": false
   },
   "outputs": [
    {
     "name": "stdout",
     "output_type": "stream",
     "text": [
      "bisection(f_bench,(0,1),1e-3,verbose=True)\n",
      "iteration 1 (bisection): interval (0.5, 1) root 0.75\n",
      "iteration 2 (bisection): interval (0.5, 0.75) root 0.625\n",
      "iteration 3 (bisection): interval (0.625, 0.75) root 0.6875\n",
      "iteration 4 (bisection): interval (0.6875, 0.75) root 0.71875\n",
      "iteration 5 (bisection): interval (0.71875, 0.75) root 0.734375\n",
      "iteration 6 (bisection): interval (0.734375, 0.75) root 0.7421875\n",
      "iteration 7 (bisection): interval (0.734375, 0.7421875) root 0.73828125\n",
      "iteration 8 (bisection): interval (0.73828125, 0.7421875) root 0.740234375\n",
      "iteration 9 (bisection): interval (0.73828125, 0.740234375) root 0.7392578125\n",
      "0.7392578125\n"
     ]
    }
   ],
   "source": [
    "print(\"bisection(f_bench,(0,1),1e-3,verbose=True)\")\n",
    "print(bisection(f_bench,(0,1),1e-3,verbose=True))"
   ]
  },
  {
   "cell_type": "code",
   "execution_count": 29,
   "metadata": {
    "collapsed": false
   },
   "outputs": [
    {
     "name": "stdout",
     "output_type": "stream",
     "text": [
      "bisection(f_bench,(0,1),1e-6,verbose=True)\n",
      "iteration 1 (bisection): interval (0.5, 1) root 0.75\n",
      "iteration 2 (bisection): interval (0.5, 0.75) root 0.625\n",
      "iteration 3 (bisection): interval (0.625, 0.75) root 0.6875\n",
      "iteration 4 (bisection): interval (0.6875, 0.75) root 0.71875\n",
      "iteration 5 (bisection): interval (0.71875, 0.75) root 0.734375\n",
      "iteration 6 (bisection): interval (0.734375, 0.75) root 0.7421875\n",
      "iteration 7 (bisection): interval (0.734375, 0.7421875) root 0.73828125\n",
      "iteration 8 (bisection): interval (0.73828125, 0.7421875) root 0.740234375\n",
      "iteration 9 (bisection): interval (0.73828125, 0.740234375) root 0.7392578125\n",
      "iteration 10 (bisection): interval (0.73828125, 0.7392578125) root 0.73876953125\n",
      "iteration 11 (bisection): interval (0.73876953125, 0.7392578125) root 0.739013671875\n",
      "iteration 12 (bisection): interval (0.739013671875, 0.7392578125) root 0.7391357421875\n",
      "iteration 13 (bisection): interval (0.739013671875, 0.7391357421875) root 0.73907470703125\n",
      "iteration 14 (bisection): interval (0.73907470703125, 0.7391357421875) root 0.739105224609375\n",
      "iteration 15 (bisection): interval (0.73907470703125, 0.739105224609375) root 0.7390899658203125\n",
      "iteration 16 (bisection): interval (0.73907470703125, 0.7390899658203125) root 0.7390823364257812\n",
      "iteration 17 (bisection): interval (0.7390823364257812, 0.7390899658203125) root 0.7390861511230469\n",
      "iteration 18 (bisection): interval (0.7390823364257812, 0.7390861511230469) root 0.7390842437744141\n",
      "iteration 19 (bisection): interval (0.7390842437744141, 0.7390861511230469) root 0.7390851974487305\n",
      "0.7390851974487305\n"
     ]
    }
   ],
   "source": [
    "print(\"bisection(f_bench,(0,1),1e-6,verbose=True)\")\n",
    "print(bisection(f_bench,(0,1),1e-6,verbose=True))"
   ]
  },
  {
   "cell_type": "code",
   "execution_count": 30,
   "metadata": {
    "collapsed": false
   },
   "outputs": [
    {
     "name": "stdout",
     "output_type": "stream",
     "text": [
      "bisection(f_bench,(0,1),1e-9,verbose=True)\n",
      "iteration 1 (bisection): interval (0.5, 1) root 0.75\n",
      "iteration 2 (bisection): interval (0.5, 0.75) root 0.625\n",
      "iteration 3 (bisection): interval (0.625, 0.75) root 0.6875\n",
      "iteration 4 (bisection): interval (0.6875, 0.75) root 0.71875\n",
      "iteration 5 (bisection): interval (0.71875, 0.75) root 0.734375\n",
      "iteration 6 (bisection): interval (0.734375, 0.75) root 0.7421875\n",
      "iteration 7 (bisection): interval (0.734375, 0.7421875) root 0.73828125\n",
      "iteration 8 (bisection): interval (0.73828125, 0.7421875) root 0.740234375\n",
      "iteration 9 (bisection): interval (0.73828125, 0.740234375) root 0.7392578125\n",
      "iteration 10 (bisection): interval (0.73828125, 0.7392578125) root 0.73876953125\n",
      "iteration 11 (bisection): interval (0.73876953125, 0.7392578125) root 0.739013671875\n",
      "iteration 12 (bisection): interval (0.739013671875, 0.7392578125) root 0.7391357421875\n",
      "iteration 13 (bisection): interval (0.739013671875, 0.7391357421875) root 0.73907470703125\n",
      "iteration 14 (bisection): interval (0.73907470703125, 0.7391357421875) root 0.739105224609375\n",
      "iteration 15 (bisection): interval (0.73907470703125, 0.739105224609375) root 0.7390899658203125\n",
      "iteration 16 (bisection): interval (0.73907470703125, 0.7390899658203125) root 0.7390823364257812\n",
      "iteration 17 (bisection): interval (0.7390823364257812, 0.7390899658203125) root 0.7390861511230469\n",
      "iteration 18 (bisection): interval (0.7390823364257812, 0.7390861511230469) root 0.7390842437744141\n",
      "iteration 19 (bisection): interval (0.7390842437744141, 0.7390861511230469) root 0.7390851974487305\n",
      "iteration 20 (bisection): interval (0.7390842437744141, 0.7390851974487305) root 0.7390847206115723\n",
      "iteration 21 (bisection): interval (0.7390847206115723, 0.7390851974487305) root 0.7390849590301514\n",
      "iteration 22 (bisection): interval (0.7390849590301514, 0.7390851974487305) root 0.7390850782394409\n",
      "iteration 23 (bisection): interval (0.7390850782394409, 0.7390851974487305) root 0.7390851378440857\n",
      "iteration 24 (bisection): interval (0.7390850782394409, 0.7390851378440857) root 0.7390851080417633\n",
      "iteration 25 (bisection): interval (0.7390851080417633, 0.7390851378440857) root 0.7390851229429245\n",
      "iteration 26 (bisection): interval (0.7390851229429245, 0.7390851378440857) root 0.7390851303935051\n",
      "iteration 27 (bisection): interval (0.7390851303935051, 0.7390851378440857) root 0.7390851341187954\n",
      "iteration 28 (bisection): interval (0.7390851303935051, 0.7390851341187954) root 0.7390851322561502\n",
      "iteration 29 (bisection): interval (0.7390851322561502, 0.7390851341187954) root 0.7390851331874728\n",
      "0.7390851331874728\n"
     ]
    }
   ],
   "source": [
    "print(\"bisection(f_bench,(0,1),1e-9,verbose=True)\")\n",
    "print(bisection(f_bench,(0,1),1e-9,verbose=True))"
   ]
  },
  {
   "cell_type": "markdown",
   "metadata": {},
   "source": [
    "<div class=answer>\n",
    "<div/>\n",
    "For a tolerence of 10^-3 there were 9 iterations. For a tolerence of 10^-6 there were 19 iterations. For a tolerence of 10^-9 there were 29 iterations. "
   ]
  },
  {
   "cell_type": "markdown",
   "metadata": {},
   "source": [
    "Try ```bisection``` out on the benchmark function, using the interval $(0,1)$ and a tolerance $10^{-10}$.  How many iterations are required? "
   ]
  },
  {
   "cell_type": "code",
   "execution_count": 31,
   "metadata": {
    "collapsed": false
   },
   "outputs": [
    {
     "name": "stdout",
     "output_type": "stream",
     "text": [
      "bisection(f_bench,(0,1),1e-10,verbose=True)\n",
      "iteration 1 (bisection): interval (0.5, 1) root 0.75\n",
      "iteration 2 (bisection): interval (0.5, 0.75) root 0.625\n",
      "iteration 3 (bisection): interval (0.625, 0.75) root 0.6875\n",
      "iteration 4 (bisection): interval (0.6875, 0.75) root 0.71875\n",
      "iteration 5 (bisection): interval (0.71875, 0.75) root 0.734375\n",
      "iteration 6 (bisection): interval (0.734375, 0.75) root 0.7421875\n",
      "iteration 7 (bisection): interval (0.734375, 0.7421875) root 0.73828125\n",
      "iteration 8 (bisection): interval (0.73828125, 0.7421875) root 0.740234375\n",
      "iteration 9 (bisection): interval (0.73828125, 0.740234375) root 0.7392578125\n",
      "iteration 10 (bisection): interval (0.73828125, 0.7392578125) root 0.73876953125\n",
      "iteration 11 (bisection): interval (0.73876953125, 0.7392578125) root 0.739013671875\n",
      "iteration 12 (bisection): interval (0.739013671875, 0.7392578125) root 0.7391357421875\n",
      "iteration 13 (bisection): interval (0.739013671875, 0.7391357421875) root 0.73907470703125\n",
      "iteration 14 (bisection): interval (0.73907470703125, 0.7391357421875) root 0.739105224609375\n",
      "iteration 15 (bisection): interval (0.73907470703125, 0.739105224609375) root 0.7390899658203125\n",
      "iteration 16 (bisection): interval (0.73907470703125, 0.7390899658203125) root 0.7390823364257812\n",
      "iteration 17 (bisection): interval (0.7390823364257812, 0.7390899658203125) root 0.7390861511230469\n",
      "iteration 18 (bisection): interval (0.7390823364257812, 0.7390861511230469) root 0.7390842437744141\n",
      "iteration 19 (bisection): interval (0.7390842437744141, 0.7390861511230469) root 0.7390851974487305\n",
      "iteration 20 (bisection): interval (0.7390842437744141, 0.7390851974487305) root 0.7390847206115723\n",
      "iteration 21 (bisection): interval (0.7390847206115723, 0.7390851974487305) root 0.7390849590301514\n",
      "iteration 22 (bisection): interval (0.7390849590301514, 0.7390851974487305) root 0.7390850782394409\n",
      "iteration 23 (bisection): interval (0.7390850782394409, 0.7390851974487305) root 0.7390851378440857\n",
      "iteration 24 (bisection): interval (0.7390850782394409, 0.7390851378440857) root 0.7390851080417633\n",
      "iteration 25 (bisection): interval (0.7390851080417633, 0.7390851378440857) root 0.7390851229429245\n",
      "iteration 26 (bisection): interval (0.7390851229429245, 0.7390851378440857) root 0.7390851303935051\n",
      "iteration 27 (bisection): interval (0.7390851303935051, 0.7390851378440857) root 0.7390851341187954\n",
      "iteration 28 (bisection): interval (0.7390851303935051, 0.7390851341187954) root 0.7390851322561502\n",
      "iteration 29 (bisection): interval (0.7390851322561502, 0.7390851341187954) root 0.7390851331874728\n",
      "iteration 30 (bisection): interval (0.7390851331874728, 0.7390851341187954) root 0.7390851336531341\n",
      "iteration 31 (bisection): interval (0.7390851331874728, 0.7390851336531341) root 0.7390851334203035\n",
      "iteration 32 (bisection): interval (0.7390851331874728, 0.7390851334203035) root 0.7390851333038881\n",
      "iteration 33 (bisection): interval (0.7390851331874728, 0.7390851333038881) root 0.7390851332456805\n",
      "0.7390851332456805\n"
     ]
    }
   ],
   "source": [
    "    print(\"bisection(f_bench,(0,1),1e-10,verbose=True)\")\n",
    "    print(bisection(f_bench,(0,1),1e-10,verbose=True))"
   ]
  },
  {
   "cell_type": "markdown",
   "metadata": {},
   "source": [
    "<div class=answer>\n",
    "<div/>\n",
    "There were 33 iterations"
   ]
  },
  {
   "cell_type": "markdown",
   "metadata": {},
   "source": [
    "What happens if you ask for a tolerance of $10^{-21}$?  Does it take as many iterations as you expect?  Do you get what you asked for?  Explain roughly what is going on. "
   ]
  },
  {
   "cell_type": "code",
   "execution_count": 33,
   "metadata": {
    "collapsed": false
   },
   "outputs": [
    {
     "name": "stdout",
     "output_type": "stream",
     "text": [
      "bisection(f_bench,(0,1),1e-21,verbose=True)\n",
      "iteration 1 (bisection): interval (0.5, 1) root 0.75\n",
      "iteration 2 (bisection): interval (0.5, 0.75) root 0.625\n",
      "iteration 3 (bisection): interval (0.625, 0.75) root 0.6875\n",
      "iteration 4 (bisection): interval (0.6875, 0.75) root 0.71875\n",
      "iteration 5 (bisection): interval (0.71875, 0.75) root 0.734375\n",
      "iteration 6 (bisection): interval (0.734375, 0.75) root 0.7421875\n",
      "iteration 7 (bisection): interval (0.734375, 0.7421875) root 0.73828125\n",
      "iteration 8 (bisection): interval (0.73828125, 0.7421875) root 0.740234375\n",
      "iteration 9 (bisection): interval (0.73828125, 0.740234375) root 0.7392578125\n",
      "iteration 10 (bisection): interval (0.73828125, 0.7392578125) root 0.73876953125\n",
      "iteration 11 (bisection): interval (0.73876953125, 0.7392578125) root 0.739013671875\n",
      "iteration 12 (bisection): interval (0.739013671875, 0.7392578125) root 0.7391357421875\n",
      "iteration 13 (bisection): interval (0.739013671875, 0.7391357421875) root 0.73907470703125\n",
      "iteration 14 (bisection): interval (0.73907470703125, 0.7391357421875) root 0.739105224609375\n",
      "iteration 15 (bisection): interval (0.73907470703125, 0.739105224609375) root 0.7390899658203125\n",
      "iteration 16 (bisection): interval (0.73907470703125, 0.7390899658203125) root 0.7390823364257812\n",
      "iteration 17 (bisection): interval (0.7390823364257812, 0.7390899658203125) root 0.7390861511230469\n",
      "iteration 18 (bisection): interval (0.7390823364257812, 0.7390861511230469) root 0.7390842437744141\n",
      "iteration 19 (bisection): interval (0.7390842437744141, 0.7390861511230469) root 0.7390851974487305\n",
      "iteration 20 (bisection): interval (0.7390842437744141, 0.7390851974487305) root 0.7390847206115723\n",
      "iteration 21 (bisection): interval (0.7390847206115723, 0.7390851974487305) root 0.7390849590301514\n",
      "iteration 22 (bisection): interval (0.7390849590301514, 0.7390851974487305) root 0.7390850782394409\n",
      "iteration 23 (bisection): interval (0.7390850782394409, 0.7390851974487305) root 0.7390851378440857\n",
      "iteration 24 (bisection): interval (0.7390850782394409, 0.7390851378440857) root 0.7390851080417633\n",
      "iteration 25 (bisection): interval (0.7390851080417633, 0.7390851378440857) root 0.7390851229429245\n",
      "iteration 26 (bisection): interval (0.7390851229429245, 0.7390851378440857) root 0.7390851303935051\n",
      "iteration 27 (bisection): interval (0.7390851303935051, 0.7390851378440857) root 0.7390851341187954\n",
      "iteration 28 (bisection): interval (0.7390851303935051, 0.7390851341187954) root 0.7390851322561502\n",
      "iteration 29 (bisection): interval (0.7390851322561502, 0.7390851341187954) root 0.7390851331874728\n",
      "iteration 30 (bisection): interval (0.7390851331874728, 0.7390851341187954) root 0.7390851336531341\n",
      "iteration 31 (bisection): interval (0.7390851331874728, 0.7390851336531341) root 0.7390851334203035\n",
      "iteration 32 (bisection): interval (0.7390851331874728, 0.7390851334203035) root 0.7390851333038881\n",
      "iteration 33 (bisection): interval (0.7390851331874728, 0.7390851333038881) root 0.7390851332456805\n",
      "iteration 34 (bisection): interval (0.7390851331874728, 0.7390851332456805) root 0.7390851332165767\n",
      "iteration 35 (bisection): interval (0.7390851331874728, 0.7390851332165767) root 0.7390851332020247\n",
      "iteration 36 (bisection): interval (0.7390851332020247, 0.7390851332165767) root 0.7390851332093007\n",
      "iteration 37 (bisection): interval (0.7390851332093007, 0.7390851332165767) root 0.7390851332129387\n",
      "iteration 38 (bisection): interval (0.7390851332129387, 0.7390851332165767) root 0.7390851332147577\n",
      "iteration 39 (bisection): interval (0.7390851332147577, 0.7390851332165767) root 0.7390851332156672\n",
      "iteration 40 (bisection): interval (0.7390851332147577, 0.7390851332156672) root 0.7390851332152124\n",
      "iteration 41 (bisection): interval (0.7390851332147577, 0.7390851332152124) root 0.739085133214985\n",
      "iteration 42 (bisection): interval (0.739085133214985, 0.7390851332152124) root 0.7390851332150987\n",
      "iteration 43 (bisection): interval (0.7390851332150987, 0.7390851332152124) root 0.7390851332151556\n",
      "iteration 44 (bisection): interval (0.7390851332151556, 0.7390851332152124) root 0.739085133215184\n",
      "iteration 45 (bisection): interval (0.7390851332151556, 0.739085133215184) root 0.7390851332151698\n",
      "iteration 46 (bisection): interval (0.7390851332151556, 0.7390851332151698) root 0.7390851332151627\n",
      "iteration 47 (bisection): interval (0.7390851332151556, 0.7390851332151627) root 0.7390851332151591\n",
      "iteration 48 (bisection): interval (0.7390851332151591, 0.7390851332151627) root 0.7390851332151609\n",
      "iteration 49 (bisection): interval (0.7390851332151591, 0.7390851332151609) root 0.73908513321516\n",
      "iteration 50 (bisection): interval (0.73908513321516, 0.7390851332151609) root 0.7390851332151605\n",
      "iteration 51 (bisection): interval (0.7390851332151605, 0.7390851332151609) root 0.7390851332151607\n",
      "iteration 52 (bisection): interval (0.7390851332151607, 0.7390851332151607) root 0.7390851332151607\n",
      "0.7390851332151607\n"
     ]
    }
   ],
   "source": [
    "print(\"bisection(f_bench,(0,1),1e-21,verbose=True)\")\n",
    "print(bisection(f_bench,(0,1),1e-21,verbose=True))"
   ]
  },
  {
   "cell_type": "markdown",
   "metadata": {},
   "source": [
    "<div class=answer>\n",
    "<div/>\n",
    "Our guess is 69 becuase the number of iterations seems to increase by 10 for every 10^-3 power. The actual number of iterations was 52. This is not what we expected but it is close. Since the length of the interval is getting so small that the rouding error is becoming a factor, the computer thinks that we have reached our desired accuracy when we have not. "
   ]
  },
  {
   "cell_type": "markdown",
   "metadata": {},
   "source": [
    "What happens if you use the interval $(-1,0)$, and why?"
   ]
  },
  {
   "cell_type": "markdown",
   "metadata": {},
   "source": [
    "<div class=answer>\n",
    "<div/>\n",
    "An output of \"none\" occurs. This is becasue there are no roots in the interval, and we know this because the two outer points of the interval have the same sign."
   ]
  },
  {
   "cell_type": "markdown",
   "metadata": {},
   "source": [
    "## Exercise 5: Wien's Displacement Constant\n",
    "Work out Newman's 6.13 **in a lab format**.  As in the percolation problem, \n",
    "* plot and label the numerical function you are trying to solve before \"cranking away.\"  \n",
    "* write a thoughtful description about each plot\n",
    "* take note of the tolerance you choose and the number of steps required to solve.\n",
    "\n",
    "You may use the scipy constants library if you like:\n",
    "https://docs.scipy.org/doc/scipy/reference/constants.html"
   ]
  },
  {
   "cell_type": "code",
<<<<<<< HEAD
   "execution_count": 43,
   "metadata": {
    "collapsed": false
   },
=======
   "execution_count": 3,
   "metadata": {},
>>>>>>> 442af8e851ebb9d2bdb0bb4366fedf69dca4eb85
   "outputs": [
    {
     "name": "stdout",
     "output_type": "stream",
     "text": [
      "299792458.0\n",
      "299792458.0\n",
      "6.62606957e-34\n",
      "1.3806488e-23\n"
     ]
    }
   ],
   "source": [
    "from scipy.constants import c\n",
    "print(c)\n",
    "\n",
    "#or even better, remember to track where your functions come from:\n",
    "from scipy import constants as const\n",
    "print(const.c)\n",
    "print(const.h)\n",
    "print(const.k)"
   ]
  },
  {
   "cell_type": "code",
   "execution_count": 63,
   "metadata": {
    "collapsed": false
   },
   "outputs": [
    {
     "data": {
      "text/plain": [
       "<matplotlib.lines.Line2D at 0x908c3c8>"
      ]
     },
     "execution_count": 63,
     "metadata": {},
     "output_type": "execute_result"
    },
    {
     "data": {
      "image/png": "iVBORw0KGgoAAAANSUhEUgAAAcUAAAHACAYAAADTDHM3AAAABHNCSVQICAgIfAhkiAAAAAlwSFlz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\nAAAASUVORK5CYII=\n",
      "text/plain": [
       "<matplotlib.figure.Figure at 0x8e6d080>"
      ]
     },
     "metadata": {},
     "output_type": "display_data"
    }
   ],
   "source": [
    "T = 5000\n",
    "alpha = (const.h * const.c) / (const.k)\n",
    "\n",
    "def plankEquation (x):\n",
    "    \"\"\"Calculates the nemerical model for Plank's law of radiation\n",
    "    \n",
    "    Arguements: x - h*c/lambda*kb*T\n",
    "                \n",
    "    Retured: The numerical solution at x\n",
    "    \"\"\"\n",
    "    return 5*math.exp(-x) + x - 5\n",
    "\n",
    "xValues = np.linspace (0, 10)\n",
    "yValues = []\n",
    "for i in xValues:\n",
    "    yValues.append(plankEquation (i))\n",
    "    \n",
    "fig = plt.figure(figsize=(7,7))\n",
    "ax = fig.add_subplot(111)\n",
    "\n",
    "ax.plot(xValues, yValues, label = \"Numerical Model\")\n",
    "\n",
    "ax.legend(loc='best')\n",
    "ax.set_xlabel('x')\n",
    "ax.set_ylabel('f(x)')\n",
    "#ax.set_aspect('equal')\n",
    "    \n",
    "ax.axhline(y=0,ls='--',color='gray')"
   ]
  },
  {
   "cell_type": "code",
   "execution_count": 64,
   "metadata": {
    "collapsed": false
   },
   "outputs": [
    {
     "name": "stdout",
     "output_type": "stream",
     "text": [
      "4.965113639831543\n"
     ]
    }
   ],
   "source": [
    "# Part b\n",
    "solution = bisection(plankEquation,(4,6),1e-6)\n",
    "print (solution)"
   ]
  },
  {
   "cell_type": "code",
   "execution_count": 65,
   "metadata": {
    "collapsed": false
   },
   "outputs": [
    {
     "name": "stdout",
     "output_type": "stream",
     "text": [
      "0.002897772466759956\n"
     ]
    }
   ],
   "source": [
    "displacementConstant = alpha / solution\n",
    "print (displacementConstant)"
   ]
  },
  {
   "cell_type": "code",
   "execution_count": 66,
   "metadata": {
    "collapsed": false
   },
   "outputs": [
    {
     "name": "stdout",
     "output_type": "stream",
     "text": [
      "5772.455113067641\n"
     ]
    }
   ],
   "source": [
    "# Part c\n",
    "sunTemp = displacementConstant / 502e-9\n",
    "print (sunTemp)"
   ]
  },
  {
   "cell_type": "markdown",
   "metadata": {},
   "source": [
    "## Exercise 6: Newton-Raphson method\n",
    "\n",
    "Now let us go ahead and code a function to implement the Newton-Raphson method.  I have gotten us started by defining the interface:"
   ]
  },
  {
   "cell_type": "code",
   "execution_count": 75,
   "metadata": {
    "collapsed": false
   },
   "outputs": [],
   "source": [
    "def newton(f,fp,x_guess,tolerance,verbose=False,max_iterations=100):\n",
    "    \"\"\" Find root by Newton's method.\n",
    "\n",
    "    The 'approximation' x_i at each iteration is defined by Newton's\n",
    "    method, in terms of the previous approximation x_(i-1).\n",
    "    \n",
    "    The 'error' x_i-x_(i-1) is defined by the difference in successive\n",
    "    approximations.\n",
    "\n",
    "    Returns None if the maximum number of iterations is reached\n",
    "    without satisfying the tolerance.  Also returns None if\n",
    "    rootfinding lands on point where f has zero slope.  Otherwise,\n",
    "    returns final approximation x_i when termination condition is\n",
    "    reached.\n",
    "\n",
    "    f: function for rootfinding\n",
    "    fp: derivative of function for rootfinding (i.e., 'f prime')\n",
    "    x_guess: initial guess point\n",
    "    tolerance: error at which search should terminate\n",
    "    verbose (optional): whether or not to print iteration log\n",
    "    max_iterations (optional): limit on number of iterations\n",
    "    \"\"\"\n",
    "\n",
    "    # set up for first iteration\n",
    "    x = x_guess\n",
    "    error = 2*tolerance  # set error big enough to get past while condition\n",
    "    iteration_count = 0\n",
    "\n",
    "    while abs(error) > tolerance and iteration_count < max_iterations:\n",
    "        xp = x - (f(x) / fp(x))\n",
    "        error = xp - x\n",
    "        x = xp\n",
    "        if verbose == True:\n",
    "            print (xp, error)\n",
    "        iteration_count += 1\n",
    "        \n",
    "    return x\n"
   ]
  },
  {
   "cell_type": "markdown",
   "metadata": {},
   "source": [
    "Notice that, in case of complete failure, we should put in a maximum number of iterations as a \"safety net\", to avoid an infinite loop.\n",
    "\n",
    "Try your function out on our benchmark function, picking starting points reasonably near the root.  Actually, when it comes time to print out a test case to hand in, please use $x_0=0.5$.\n",
    "\n",
    "Now, we probably thought of bisection as being pretty \"fast\" as a way to get to the root.  After all, we saw in **Exercise 3** the error in the bisection method falls exponentially with the number of iterations\n",
    "$$\n",
    "\\epsilon_i \\propto \\frac{1}{2^i}.\n",
    "$$\n",
    "And \"exponential\" is \"fast\", right?  But from Newman you have seen that we expect the Newton-Raphson method to be even faster, at least, once we have gotten close enough to a root that the function is basically described by the first couple of terms in its Taylor series around that root.\n",
    " \n",
    "So let us actually compare the performance of ```bisect``` and ```newton```.  We have already run the necessary test cases.  For ```bisect```, we started with the initial interval $(0,1)$, and, for ```newton```, \n",
    "we used $x_0=0.5$, which is the midpoint of this interval.  So it seems reasonable to compare these test cases.  Based on your log of iterations (from the verbose output) make a table indicating how many how many digits of\n",
    "the answer $x_i$ are correct, with each method, after each iteration ($i=0$, $1$, $2$, $\\ldots$)."
   ]
  },
  {
   "cell_type": "code",
   "execution_count": 77,
   "metadata": {
    "collapsed": false
   },
   "outputs": [
    {
     "name": "stdout",
     "output_type": "stream",
     "text": [
      "0.7552224171056364 0.2552224171056364\n",
      "0.7391416661498792 -0.016080750955757228\n",
      "0.7390851339208068 -5.653222907242572e-05\n",
      "0.7390851332151607 -7.056460971099909e-10\n"
     ]
    },
    {
     "data": {
      "text/plain": [
       "0.7390851332151607"
      ]
     },
     "execution_count": 77,
     "metadata": {},
     "output_type": "execute_result"
    }
   ],
   "source": [
    "newton(f_bench,fp_bench,0.5,1e-8, verbose = True)"
   ]
  },
  {
   "cell_type": "code",
   "execution_count": 106,
   "metadata": {
    "collapsed": false
   },
   "outputs": [
    {
     "name": "stdout",
     "output_type": "stream",
     "text": [
      "Newton digits with  1 iterations = 2 Bisection digits with  1 iterations = 2\n",
      "Newton digits with  2 iterations = 5 Bisection digits with  2 iterations = 1\n",
      "Newton digits with  3 iterations = 10 Bisection digits with  3 iterations = 2\n",
      "Newton digits with  4 iterations = 16 Bisection digits with  4 iterations = 2\n",
      "Newton digits with  5 iterations = 16 Bisection digits with  5 iterations = 3\n",
      "Newton digits with  6 iterations = 16 Bisection digits with  6 iterations = 3\n",
      "Newton digits with  7 iterations = 16 Bisection digits with  7 iterations = 4\n",
      "Newton digits with  8 iterations = 16 Bisection digits with  8 iterations = 3\n",
      "Newton digits with  9 iterations = 16 Bisection digits with  9 iterations = 4\n",
      "Newton digits with  10 iterations = 16 Bisection digits with  10 iterations = 4\n",
      "Newton digits with  11 iterations = 16 Bisection digits with  11 iterations = 5\n",
      "Newton digits with  12 iterations = 16 Bisection digits with  12 iterations = 5\n",
      "Newton digits with  13 iterations = 16 Bisection digits with  13 iterations = 5\n",
      "Newton digits with  14 iterations = 16 Bisection digits with  14 iterations = 5\n",
      "Newton digits with  15 iterations = 16 Bisection digits with  15 iterations = 6\n",
      "Newton digits with  16 iterations = 16 Bisection digits with  16 iterations = 6\n",
      "Newton digits with  17 iterations = 16 Bisection digits with  17 iterations = 6\n",
      "Newton digits with  18 iterations = 16 Bisection digits with  18 iterations = 7\n",
      "Newton digits with  19 iterations = 16 Bisection digits with  19 iterations = 8\n",
      "Newton digits with  20 iterations = 16 Bisection digits with  20 iterations = 8\n",
      "Newton digits with  21 iterations = 16 Bisection digits with  21 iterations = 8\n",
      "Newton digits with  22 iterations = 16 Bisection digits with  22 iterations = 8\n",
      "Newton digits with  23 iterations = 16 Bisection digits with  23 iterations = 8\n",
      "Newton digits with  24 iterations = 16 Bisection digits with  24 iterations = 8\n",
      "Newton digits with  25 iterations = 16 Bisection digits with  25 iterations = 8\n",
      "Newton digits with  26 iterations = 16 Bisection digits with  26 iterations = 8\n",
      "Newton digits with  27 iterations = 16 Bisection digits with  27 iterations = 8\n",
      "Newton digits with  28 iterations = 16 Bisection digits with  28 iterations = 8\n",
      "Newton digits with  29 iterations = 16 Bisection digits with  29 iterations = 8\n",
      "Newton digits with  30 iterations = 16 Bisection digits with  30 iterations = 8\n"
     ]
    }
   ],
   "source": [
    "iteration = range(1,31)\n",
    "actual = 0.7390851332151607\n",
    "\n",
    "for i in iteration:\n",
    "    approxN = newton(f_bench,fp_bench,0.5,1e-8, max_iterations=i)\n",
    "    errorN = actual - approxN\n",
    "    digitsN = 0\n",
    "    while abs(errorN) < 1 and digitsN < 30:\n",
    "        errorN = errorN * 10\n",
    "        digitsN += 1\n",
    "        \n",
    "    if digitsN > 16:\n",
    "        digitsN = 16\n",
    "        \n",
    "    \n",
    "    approxB = bisection(f_bench,(0,1),1e-6,maxIterations=i)\n",
    "    errorB = actual - approxB\n",
    "    digitsB = 0\n",
    "    while abs(errorB) < 1 and digitsB < 30:\n",
    "        errorB = errorB * 10\n",
    "        digitsB += 1\n",
    "        \n",
    "    if digitsB > 16:\n",
    "        digitsB = 16\n",
    "        \n",
    "    print (\"Newton digits with \", i, \"iterations =\", digitsN, \"Bisection digits with \", i, \"iterations =\", digitsB)"
   ]
  },
  {
   "cell_type": "markdown",
   "metadata": {},
   "source": [
    "<div class=answer>\n",
    "<div/>\n"
   ]
  },
  {
   "cell_type": "markdown",
   "metadata": {},
   "source": [
    "For the *bisection* method, does the growth in the number of correct digits look linear in the number of iterations, or perhaps quadratic, or exponential?  How about for the *Newton-Raphson* method (the trend here may be\n",
    "harder to judge by eye)?  Explain these results in terms of the expected convergence rates (from Newman)."
   ]
  },
  {
   "cell_type": "markdown",
   "metadata": {},
   "source": [
    "<div class=answer>\n",
    "<div/>\n",
    "For the bisection method, the growth in the number of correct digits appears to be logerithmic. This makes sense, because the length of the interval decreases by a factor of 2 at each iteration. For Newton's method, the growth in the number of correct digits appears to be quadratic. This makes sense, because in Newman's explanation, the error decreses by a factor of the previous error squared. "
   ]
  },
  {
   "cell_type": "markdown",
   "metadata": {},
   "source": [
    "What happens if you start Newton's method instead with the initial guess point $x=5$?  How about $x=10$?  Explain what's going on.  It will help to look back at your plot of this function.  "
   ]
  },
  {
   "cell_type": "code",
   "execution_count": 107,
   "metadata": {
    "collapsed": false
   },
   "outputs": [
    {
     "name": "stdout",
     "output_type": "stream",
     "text": [
      "-109.82056070484798 -114.82056070484798\n",
      "15.960777561082068 125.78133826593005\n",
      "-6.615115461729538 -22.575893022811606\n",
      "4.600099704729104 11.215215166458641\n",
      "-743.6197251930475 -748.2198248977767\n",
      "3090.7583906372142 3834.378115830262\n",
      "-3606.140072709168 -6696.898463346382\n",
      "-1024.218222635432 2581.921850073736\n",
      "65.25924707762556 1089.4774697130576\n",
      "25.37140273241846 -39.8878443452071\n",
      "5.63692971597947 -19.73447301643899\n",
      "-6.52647233436393 -12.1634020503434\n",
      "3.3496519726974086 9.876124307061339\n",
      "-2.1051947424657396 -5.454846715163148\n",
      "9.340912110729942 11.446106853195682\n",
      "-0.19747756557924134 -9.538389676309183\n",
      "1.2681072760549799 1.4655848416342212\n",
      "0.771816587211259 -0.49629068884372085\n",
      "0.739313671562077 -0.03250291564918206\n",
      "0.7390851447450119 -0.00022852681706508893\n",
      "0.7390851332151607 -1.1529851184910456e-08\n",
      "0.7390851332151607 0.0\n"
     ]
    },
    {
     "data": {
      "text/plain": [
       "0.7390851332151607"
      ]
     },
     "execution_count": 107,
     "metadata": {},
     "output_type": "execute_result"
    }
   ],
   "source": [
    "newton(f_bench,fp_bench,5,1e-8, verbose = True)"
   ]
  },
  {
   "cell_type": "code",
   "execution_count": 113,
   "metadata": {
    "collapsed": false
   },
   "outputs": [
    {
     "name": "stdout",
     "output_type": "stream",
     "text": [
      "-13.770994201546603 -23.770994201546603\n",
      "199.35117751530382 213.12217171685043\n",
      "-20202.926342870745 -20402.27752038605\n",
      "31592.34177166328 51795.268114534025\n",
      "10059.580115835786 -21532.761655827493\n",
      "1671.1192026543067 -8388.46091318148\n",
      "-433.8983151322527 -2105.0175177865594\n",
      "236.00274675528692 669.9010618875396\n",
      "-142.46844918750787 -378.4711959427948\n",
      "-67.31957649476091 75.14887269274696\n",
      "-33.3442558989409 33.97532059582001\n",
      "488.41204795953547 521.7563038584764\n",
      "-87192.766475474 -87681.17852343353\n",
      "470338.1773171524 557530.9437926264\n",
      "-1806200.5661173384 -2276538.7434344906\n",
      "-903074.919692168 903125.6464251704\n",
      "-415663.71518534905 487411.20450681896\n",
      "-118233.25235400954 297430.4628313395\n",
      "146863.11334795697 265096.3657019665\n",
      "-9370.856705585727 -156233.9700535427\n",
      "9067.504535656466 18438.361241242194\n",
      "3925.0158936009684 -5142.488642055498\n",
      "-44805.14277324305 -48730.15866684402\n",
      "-8931.684440842328 35873.458332400725\n",
      "-1070.8706372661863 7860.813803576141\n",
      "714.9526285580296 1785.823265824216\n",
      "-24159.094026639432 -24874.04665519746\n",
      "7799.980014924829 31959.07404156426\n",
      "2799.8817087162097 -5000.09830620862\n",
      "-5470.789019377118 -8270.670728093328\n",
      "-2675.328509578843 2795.4605097982753\n",
      "-1314.2459516130984 1361.0825579657444\n",
      "8994.503025697262 10308.74897731036\n",
      "-1261.9938631984369 -10256.4968888957\n",
      "-560.3390668151701 701.6547963832668\n",
      "5454.891618860409 6015.230685675579\n",
      "2561.495557583518 -2893.396061276891\n",
      "-20748.26636472557 -23309.761922309088\n",
      "266641.46269220265 287389.7290569282\n",
      "128980.38913535711 -137661.07355684554\n",
      "-374601.40456448874 -503581.79369984585\n",
      "-173361.3318778897 201240.07268659904\n",
      "2074931.389862353 2248292.7217402426\n",
      "-2259426.106629567 -4334357.49649192\n",
      "-1048424.2744233722 1211001.832206195\n",
      "-375612.23133710166 672812.0430862706\n",
      "-79560.83963105257 296051.3917060491\n",
      "-450.25794402201427 79110.58168703056\n",
      "-206.75929713590494 243.49864688610933\n",
      "-73.07710650482838 133.68219063107657\n",
      "-31.265681637051635 41.81142486777674\n",
      "-3.2105634128167893 28.055118224234846\n",
      "-1.1402971187843933 2.070266294032396\n",
      "15.93093793605096 17.071235054835352\n",
      "-5.775145447615056 -21.706083383666016\n",
      "-1.302223143436299 4.472922304178757\n",
      "42.424435184724665 43.726658328160966\n",
      "-506982.9817305641 -507025.40616574883\n",
      "-228078.39003963931 278904.5916909248\n",
      "-110794.84073314031 117283.549306499\n",
      "-24805.513725102865 85989.32700803745\n",
      "-8056.477059792684 16749.03666531018\n",
      "848037.999725729 856094.4767855217\n",
      "229275.92281453032 -618762.0769111987\n",
      "86486.0800607203 -142789.84275381002\n",
      "-1037247.0273538231 -1123733.1074145434\n",
      "-51913.18543889758 985333.8419149255\n",
      "26651223.4370163 26703136.6224552\n",
      "-12103784.316555217 -38755007.75357152\n",
      "18806233.0104869 30910017.327042118\n",
      "-9746708.338285565 -28552941.348772466\n",
      "-4690441.255750039 5056267.082535527\n",
      "-1624378.3302624696 3066062.925487569\n",
      "-742484.0865076375 881894.2437548321\n",
      "63405.86351012578 805889.9500177633\n",
      "27863.292452458838 -35542.571057666944\n",
      "-26319.576664888024 -54182.86911734686\n",
      "-10210.676564537449 16108.900100350575\n",
      "9419.828227305336 19630.504791842784\n",
      "4643.0753869181635 -4776.752840387172\n",
      "-1139.6869433969377 -5782.762330315101\n",
      "2140.0316937701023 3279.71863716704\n",
      "-2844.322101006003 -4984.353794776105\n",
      "-1366.8662413077811 1477.4558596982217\n",
      "-291.3876066104781 1075.478634697303\n",
      "689.4432414023199 980.830848012798\n",
      "-73612.78630236792 -74302.22954377024\n",
      "-33785.092792315285 39827.69351005264\n",
      "22002.599277393427 55787.69206970871\n",
      "-194138.78356533227 -216141.3828427257\n",
      "766875.1604995576 961013.9440648899\n",
      "-159029.01731516898 -925904.1778147266\n",
      "456421001.0995867 456580030.1169019\n",
      "97951835.5095734 -358469165.5900133\n",
      "-1485533970.9949284 -1583485806.5045018\n",
      "-590769456.3346814 894764514.660247\n",
      "13276161028.092415 13866930484.427095\n",
      "-17081192263.640766 -30357353291.73318\n",
      "-7844308733.150286 9236883530.49048\n",
      "1110711643.7534924 8955020376.903778\n",
      "250014772.37655818 -860696871.3769342\n",
      "-676492344.840429 -926507117.2169871\n",
      "-298743609.6318328 377748735.20859617\n",
      "3958486478.44904 4257230088.0808725\n",
      "1943695581.4902785 -2014790896.9587615\n",
      "-10556647309.883276 -12500342891.373554\n",
      "-4771110347.437308 5785536962.445968\n",
      "-2221910629.0214396 2549199718.4158688\n",
      "-1099063803.4653113 1122846825.5561283\n",
      "1407230954.8416078 2506294758.306919\n",
      "-392198148.467679 -1799429103.3092868\n",
      "296361.26998877525 392494509.7376678\n",
      "128569.86227866675 -167791.4077101085\n",
      "-28590.29547148352 -157160.15775015028\n",
      "1042881.9457907003 1071472.2412621838\n",
      "-10995959.383110695 -12038841.328901395\n",
      "341460041.92590994 352456001.30902064\n",
      "-116265776.8837775 -457725818.80968744\n",
      "178298639.84825063 294564416.7320281\n",
      "-400203066.0942559 -578501705.9425066\n",
      "11986749605.32571 12386952671.419966\n",
      "5885699436.195599 -6101050169.130112\n",
      "-49984613002.06163 -55870312438.25723\n",
      "-23969692811.013847 26014920191.047783\n",
      "4122343278658.613 4146312971469.6265\n",
      "1920839169334.3242 -2201504109324.2886\n",
      "660883898222.0796 -1259955271112.2446\n",
      "-1289710172007.6282 -1950594070229.7078\n",
      "-442290353285.0513 847419818722.5769\n",
      "3793232453580.024 4235522806865.075\n",
      "-12962269203910.734 -16755501657490.758\n",
      "7095867001479474.0 7108829270683385.0\n",
      "-6.919419081785414e+16 -7.629005781933362e+16\n",
      "5.02373263823832e+16 1.1943151720023734e+17\n",
      "2.071661670500598e+16 -2.952070967737722e+16\n",
      "1184876399082648.0 -1.9531740305923332e+16\n",
      "-3.519244039505047e+16 -3.637731679413312e+16\n",
      "5067866339976976.0 4.026030673502745e+16\n",
      "-547267615545690.0 -5615133955522666.0\n",
      "-123629343320678.06 423638272225011.94\n",
      "-43743944357105.03 79885398963573.03\n",
      "47710290217557.16 91454234574662.19\n",
      "19383450076530.215 -28326840141026.94\n",
      "-8666996581680224.0 -8686380031756754.0\n",
      "3260895795200190.0 1.1927892376880414e+16\n",
      "471709893668393.0 -2789185901531797.0\n",
      "162297973650591.3 -309411920017801.7\n",
      "-5259361025126393.0 -5421658998776984.0\n",
      "8675291762147311.0 1.3934652787273704e+16\n",
      "-1.1160850976344288e+17 -1.2028380152559019e+17\n",
      "-1.7383806085159472e+16 9.422470367828341e+16\n",
      "-6742246488129012.0 1.064155959703046e+16\n",
      "7200374789985960.0 1.3942621278114972e+16\n",
      "3531826366367007.5 -3668548423618952.5\n",
      "-2358102103062601.5 -5889928469429609.0\n",
      "1105480079636293.0 3463582182698894.5\n",
      "475678458238962.4 -629801621397330.6\n",
      "-343049457242539.0 -818727915481501.4\n",
      "-141155813227261.44 201893644015277.56\n",
      "877835582513.9375 142033648809775.38\n",
      "196349777842.87256 -681485804671.065\n",
      "-2481513812553.602 -2677863590396.4746\n",
      "-1230230650315.1218 1251283162238.4802\n",
      "-593783998815.0134 636446651500.1084\n",
      "29803342348024.55 30397126346839.562\n",
      "12191868199970.8 -17611474148053.75\n",
      "6091295763775.773 -6100572436195.027\n",
      "-18844104332654.137 -24935400096429.91\n",
      "273430180755174.75 292274285087828.9\n",
      "12205155746962.688 -261225025008212.06\n",
      "-8203872487296.633 -20409028234259.32\n",
      "-3555074760621.1104 4648797726675.522\n",
      "3786988366650.843 7342063127271.953\n",
      "-406438352999.38135 -4193426719650.224\n",
      "-44853476162.01825 361584876837.3631\n",
      "14701400542.899307 59554876704.91756\n",
      "-1064636402049.883 -1079337802592.7823\n",
      "-513380784443.2643 551255617606.6188\n",
      "-102871585593.94623 410509198849.31805\n",
      "-12679079416.0932 90192506177.85303\n",
      "-3927334891.235729 8751744524.857471\n",
      "8072652119.519251 11999987010.75498\n",
      "-83725145923.21225 -91797798042.7315\n",
      "-41705422153.69361 42019723769.51864\n",
      "1470698097.785843 43176120251.479454\n",
      "388616201.82553244 -1082081895.9603105\n",
      "31113612.31526965 -357502589.5102628\n",
      "15124480.105230538 -15989132.21003911\n",
      "-1820911349.4196026 -1836035829.5248332\n",
      "26157415515.034256 27978326864.453857\n",
      "-2344837447780.1753 -2370994863295.2095\n",
      "43540405599088.72 45885243046868.89\n",
      "1600889429561.625 -41939516169527.09\n",
      "782572986136.3236 -818316443425.3014\n",
      "-40123910180461.9 -40906483166598.22\n",
      "-20007015944101.613 20116894236360.285\n",
      "59918221454130.625 79925237398232.23\n",
      "-4.526682135368382e+16 -4.532673957513795e+16\n",
      "-1.6406007604261592e+16 2.886081374942223e+16\n",
      "-7911892605241954.0 8494114999019638.0\n",
      "-3914687100821897.5 3997205504420056.5\n",
      "-1809679807384034.5 2105007293437863.0\n",
      "4230074441803489.5 6039754249187524.0\n",
      "2062559971896195.2 -2167514469907294.2\n",
      "1003360888040780.2 -1059199083855415.0\n",
      "-473338250197439.75 -1476699138238220.0\n",
      "-216883791363715.0 256454458833724.75\n",
      "-59645746573973.59 157238044789741.4\n",
      "133609282141962.25 193255028715935.84\n",
      "-9284947274208.969 -142894229416171.22\n",
      "-1162681058897.6162 8122266215311.353\n",
      "-482098755963.5094 680582302934.1068\n",
      "191477482305.42712 673576238268.9365\n",
      "-3666990439571.6196 -3858467921877.047\n",
      "-805079144663.6597 2861911294907.96\n",
      "807530572839.492 1612609717503.1516\n",
      "402865115398.3697 -404665457441.12225\n",
      "-250507641075.7221 -653372756474.0918\n",
      "14136443221.039581 264644084296.7617\n",
      "6032614300.138023 -8103828920.901558\n",
      "-17642533504.125515 -23675147804.26354\n",
      "-7968498509.830013 9674034994.295502\n",
      "-3469367497.0588818 4499131012.7711315\n",
      "-925658395.8701749 2543709101.188707\n",
      "9598128544.533749 10523786940.403923\n",
      "4706334758.113662 -4891793786.420087\n",
      "-6569928655.575141 -11276263413.688803\n",
      "152690066488.66568 159259995144.2408\n",
      "-3134603667975.161 -3287293734463.8267\n",
      "556836849410841.3 559971453078816.5\n",
      "-4.314219139044106e+17 -4.3197875075382144e+17\n",
      "-1.053862771716722e+17 3.260356367327384e+17\n",
      "7.2630275194467885e+19 7.273566147163956e+19\n",
      "2.6844959563363836e+19 -4.578531563110405e+19\n",
      "1.229218753429191e+19 -1.4552772029071925e+19\n",
      "-2.380779661608389e+19 -3.60999841503758e+19\n",
      "6.669360850215014e+19 9.050140511823403e+19\n",
      "-1.6400287681344708e+21 -1.7067223766366209e+21\n",
      "-4.321099406718505e+20 1.2079188274626203e+21\n",
      "-1.4126200005902326e+20 2.9084794061282722e+20\n",
      "-6.944515338019574e+19 7.1816846678827524e+19\n",
      "-1.224099494383027e+19 5.720415843636547e+19\n",
      "1.9931427470706237e+19 3.2172422414536507e+19\n",
      "9.868296684501326e+18 -1.0063130786204912e+19\n",
      "4.91896349926826e+18 -4.949333185233066e+18\n",
      "-2.5512065056675604e+18 -7.47017000493582e+18\n",
      "-7.128609296446413e+16 2.4799204127030963e+18\n",
      "-3.5552770428252324e+16 3.5733322536211804e+16\n",
      "-1730002723220148.0 3.3822767705032176e+16\n",
      "-681235124394185.1 1048767598825962.9\n",
      "-338739178658263.25 342495945735921.9\n",
      "8.129698788177752e+17 8.133086179964335e+17\n",
      "2.6488603956657178e+17 -5.4808383925120346e+17\n",
      "1.322804149609217e+17 -1.3260562460565008e+17\n",
      "-1.7775369098191632e+17 -3.10034105942838e+17\n",
      "9.671253518854234e+16 2.7446622617045866e+17\n",
      "-2.8008803566344915e+17 -3.768005708519915e+17\n",
      "1.3273330597214656e+17 4.128213416355957e+17\n",
      "3.752202503424714e+16 -9.521128093789942e+16\n",
      "1.0911546478862048e+16 -2.661047855538509e+16\n",
      "5196952298006347.0 -5714594180855701.0\n",
      "-2.3769440215219868e+16 -2.8966392513226216e+16\n",
      "-1872109476124244.0 2.1897330739095624e+16\n",
      "695206399010186.0 2567315875134430.0\n",
      "-2073725335827740.0 -2768931734837926.0\n",
      "-45206683340679.5 2028518652487060.5\n",
      "413514593501787.2 458721276842466.7\n",
      "194047581064243.8 -219467012437543.38\n",
      "-1411210011489969.0 -1605257592554212.8\n",
      "-163301549142354.0 1247908462347615.0\n",
      "-79639472430653.42 83662076711700.58\n",
      "2860288367694152.5 2939927840124806.0\n",
      "597347172445625.0 -2262941195248527.5\n",
      "110538339010379.31 -486808833435245.7\n",
      "-54654269960284.78 -165192608970664.1\n",
      "1610712178543966.5 1665366448504251.2\n",
      "-1.6492283764164033e+19 -1.6493894476342577e+19\n",
      "3.352607490110587e+20 3.517530327752227e+20\n",
      "-8.701916252461916e+21 -9.037177001472975e+21\n",
      "5.3943084784784475e+22 6.264500103724639e+22\n",
      "1.006022826030385e+22 -4.3882856524480625e+22\n",
      "-3.66014630316734e+21 -1.372037456347119e+22\n",
      "5.77588718760187e+22 6.141901817918604e+22\n",
      "2.4142738477152865e+22 -3.3616133398865834e+22\n",
      "-1.6566705162732226e+22 -4.070944363988509e+22\n",
      "-8.283266940135961e+21 8.283438222596264e+21\n",
      "-2.858862608593084e+21 5.424404331542877e+21\n",
      "-1.4085932118825317e+21 1.4502693967105522e+21\n",
      "-6.155187584946096e+20 7.930744533879221e+20\n",
      "-1.3964600493110034e+20 4.7587275356350926e+20\n",
      "5.141317005596259e+19 1.9105917498706294e+20\n",
      "-7.862160678588378e+19 -1.3003477684184637e+20\n",
      "2.7289043622158664e+18 8.135051114809965e+19\n",
      "1.1933123268456394e+18 -1.535592035370227e+18\n",
      "5.92048437034684e+17 -6.012638898109554e+17\n",
      "1.3709204825382694e+17 -4.549563887808571e+17\n",
      "-2.3957231230570694e+17 -3.766643605595339e+17\n",
      "1.8327969333277847e+18 2.0723692456334917e+18\n",
      "3.2266918828125005e+17 -1.5101277450465347e+18\n",
      "-2.852963121670853e+20 -2.8561898135536655e+20\n",
      "-1.4226531702107583e+20 1.4303099514600948e+20\n",
      "-2.0584070990540472e+19 1.2168124603053536e+20\n",
      "9.482281053446353e+18 3.0066352043986825e+19\n",
      "-1.195572515742597e+18 -1.067785356918895e+19\n",
      "1.0116949302927557e+18 2.2072674460353528e+18\n",
      "-2.218976547298455e+17 -1.2335925850226012e+18\n",
      "1.8723877924074317e+17 4.091364339705887e+17\n",
      "-1.2538408616846167e+18 -1.4410796409253599e+18\n",
      "1.0932395461151283e+17 1.3631648162961295e+18\n",
      "3.031191431372837e+16 -7.901204029778446e+16\n",
      "9067327384808572.0 -2.1244586928919796e+16\n",
      "2519861210553151.0 -6547466174255421.0\n",
      "1258111301431713.5 -1261749909121437.5\n",
      "-7.796573238015667e+17 -7.809154351029984e+17\n",
      "9.531455949867223e+18 1.031111327366879e+19\n",
      "3.890708388182993e+18 -5.64074756168423e+18\n",
      "-1.4044583596540125e+19 -1.7935291984723118e+19\n",
      "4.465595918590318e+20 4.606041754555719e+20\n",
      "1.5701385364957833e+20 -2.8954573820945344e+20\n",
      "-8.170320475105808e+19 -2.387170584006364e+20\n",
      "4.823690133994617e+19 1.2994010609100425e+20\n",
      "5.73117978649011e+18 -4.250572155345606e+19\n",
      "2.77621549311814e+18 -2.95496429337197e+18\n",
      "-3.4899217116464154e+18 -6.266137204764555e+18\n",
      "3.043117665671774e+20 3.0780168827882386e+20\n",
      "9.585108517239511e+19 -2.084606813947823e+20\n",
      "-9.557902758189038e+20 -1.0516413609912989e+21\n",
      "8.465960778755964e+21 9.421751054574868e+21\n",
      "4.1977409795552885e+21 -4.2682197992006757e+21\n",
      "2.043101471610899e+21 -2.1546395079443895e+21\n",
      "8.993128062711718e+20 -1.1437886653397272e+21\n",
      "3.184279248198979e+20 -5.8088488145127395e+20\n",
      "-1.869828661054243e+19 -3.371262114304403e+20\n",
      "4.186182068741607e+21 4.204880355352149e+21\n",
      "1.962130780374486e+21 -2.224051288367121e+21\n",
      "9.186413215374293e+20 -1.0434894588370567e+21\n",
      "4.039009483519037e+20 -5.147403731855256e+20\n",
      "1.6362322162207834e+20 -2.402777267298254e+20\n",
      "2.965673961832471e+19 -1.3396648200375363e+20\n",
      "1.479471750214313e+19 -1.486202211618158e+19\n",
      "-3.605051405522434e+20 -3.7529985805438655e+20\n",
      "3.0119124670420935e+21 3.372417607594337e+21\n",
      "-8.595691782169188e+27 -8.595694794081655e+27\n",
      "-1.2355279376725699e+27 7.360163844496618e+27\n",
      "-6.1490032694193734e+26 6.206276107306325e+26\n",
      "-9.128254444817859e+25 5.2361778249375876e+26\n",
      "1.0065467935431799e+26 1.9193722380249658e+26\n",
      "-3.2129453798863125e+25 -1.3278413315318111e+26\n",
      "-1.3342201029886367e+25 1.8787252768976758e+25\n",
      "-5.607230600922387e+24 7.73497042896398e+24\n",
      "8.368855545133952e+24 1.3976086146056339e+25\n",
      "7.351257655611759e+23 -7.633729779572776e+24\n",
      "-1.929918651682026e+22 -7.544249520779962e+23\n",
      "1.8717521219884832e+23 2.0647439871566858e+23\n",
      "6.043049713978572e+22 -1.267447150590626e+23\n",
      "3.0209193188378406e+22 -3.0221303951407314e+22\n",
      "-1.4392176724510023e+23 -1.7413096043347864e+23\n",
      "2.1388610673412407e+22 1.6531037791851264e+23\n",
      "-1.5869821158022047e+23 -1.800868222536329e+23\n",
      "-6.697931484414507e+22 9.17188967360754e+22\n",
      "-2.0831356710406236e+22 4.614795813373883e+22\n",
      "-7.012422206662984e+21 1.3818934503743253e+22\n",
      "2.73242561027036e+21 9.744847816933343e+21\n",
      "-6.954873325989751e+21 -9.68729893626011e+21\n",
      "-3.465073797666779e+21 3.489799528322972e+21\n",
      "-1.3174578594983114e+21 2.1476159381684675e+21\n",
      "1.0486795220257808e+21 2.366137381524092e+21\n",
      "4.4702587120458046e+20 -6.016536508212003e+20\n",
      "-3.122598968044884e+20 -7.592857680090688e+20\n",
      "2.269732508771801e+22 2.30095849845225e+22\n",
      "-1.0896755042419762e+22 -3.359408013013777e+22\n",
      "1.6218512957023317e+21 1.2518606338122093e+22\n",
      "7.453886324927971e+20 -8.764626632095346e+20\n",
      "3.6472258404678094e+20 -3.806660484460161e+20\n",
      "6.952931146688037e+18 -3.577696529000929e+20\n",
      "3.2741204376711895e+18 -3.6788107090168474e+18\n",
      "1.6213093550687619e+18 -1.6528110826024276e+18\n",
      "-8.457470817295632e+18 -1.0078780172364394e+19\n",
      "-4.2198167446940887e+18 4.2376540726015437e+18\n",
      "-2.1082635313675666e+18 2.111553213326522e+18\n",
      "3.1865280931199293e+18 5.294791624487496e+18\n",
      "-9.67632131985044e+17 -4.1541602251049733e+18\n",
      "5.551191288670545e+22 5.551288051883743e+22\n",
      "-1.1465139895242942e+25 -1.1520651808129646e+25\n",
      "9.357477495111411e+24 2.0822617390354353e+25\n",
      "3.2173258067368365e+24 -6.140151688374574e+24\n",
      "1.5339394321600614e+24 -1.683386374576775e+24\n",
      "7.000367843424607e+23 -8.339026478176007e+23\n",
      "3.49254992765654e+23 -3.507817915768067e+23\n",
      "1.6876068048221227e+23 -1.804943122834417e+23\n",
      "7.598507071417934e+22 -9.277560976803292e+22\n",
      "-5.131718668540655e+23 -5.891569375682448e+23\n",
      "4.566891095198355e+23 9.69860976373901e+23\n",
      "-2.2844057001232511e+24 -2.7410948096430867e+24\n",
      "-8.349425377241769e+23 1.4494631623990742e+24\n",
      "2.275165201660986e+24 3.110107739385163e+24\n",
      "8.976458436719105e+23 -1.3775193579890754e+24\n",
      "2.885436007577185e+23 -6.09102242914192e+23\n",
      "1.1958136700624336e+23 -1.6896223375147514e+23\n",
      "5.931717138615804e+22 -6.026419562008532e+22\n",
      "-1.0115027866260634e+23 -1.6046745004876438e+23\n",
      "-5.010571826689172e+22 5.104456039571463e+22\n",
      "3.5075483061039175e+22 8.51812013279309e+22\n",
      "1.607249215702134e+22 -1.9002990904017836e+22\n",
      "-2.762134385977054e+21 -1.8834626542998393e+22\n",
      "-3.017872539839124e+20 2.4603471319931415e+21\n",
      "8.279036854532718e+20 1.1296909394371842e+21\n",
      "3.4470774442729806e+20 -4.831959410259737e+20\n",
      "1.4136686563515682e+20 -2.0334087879214124e+20\n",
      "6.929733068302412e+19 -7.20695349521327e+19\n",
      "-1.5232846691997414e+20 -2.2162579760299826e+20\n",
      "-6.0583565797186404e+19 9.174490112278774e+19\n",
      "1.1884189077258002e+19 7.246775487444441e+19\n",
      "-4.689126001133754e+18 -1.6573315078391757e+19\n",
      "2.075709423844969e+19 2.5446220239583445e+19\n",
      "1.0004376509610815e+19 -1.0752717728838873e+19\n",
      "-1.1229010698081806e+20 -1.2229448349042888e+20\n",
      "6.329902346282261e+19 1.7558913044364067e+20\n",
      "-6.895522635262545e+19 -1.3225424981544806e+20\n",
      "4.2224223819957666e+21 4.291377608348392e+21\n",
      "1.237837992009738e+21 -2.9845843899860286e+21\n",
      "6.159754748538177e+20 -6.218625171559202e+20\n",
      "-1.1304417920444603e+21 -1.746417266898278e+21\n",
      "-5.645055584828483e+20 5.6593623356161196e+20\n",
      "-2.7961408128043647e+19 5.365441503548047e+20\n",
      "5.241725248566391e+18 3.3203133376610038e+19\n",
      "-3.5611930170431386e+19 -4.085365541899778e+19\n",
      "-5.797265880363479e+18 2.9814664290067907e+19\n",
      "-3.5503436981079654e+17 5.442231510552682e+18\n",
      "9.937448552248233e+17 1.3487792250356198e+18\n",
      "-3521180380537728.0 -9.97266035605361e+17\n",
      "1070072375691883.0 4591252756229611.0\n",
      "-2103116132402483.5 -3173188508094366.5\n",
      "1.3761942071330229e+17 1.3972253684570477e+17\n",
      "-4.301955829276759e+17 -5.678150036409782e+17\n",
      "2.5234769733501906e+18 2.9536725562778665e+18\n",
      "2.8156512032384614e+17 -2.2419118530263444e+18\n",
      "-9.025544799530734e+17 -1.1841196002769196e+18\n",
      "-3.147786122971557e+17 5.877758676559177e+17\n",
      "-1.4841657100276886e+17 1.6636204129438685e+17\n",
      "1.895189172166787e+16 1.6736846272443674e+17\n",
      "1499411417169998.0 -1.7452480304497874e+16\n",
      "698507007852614.1 -800904409317383.9\n",
      "-1241224779991439.5 -1939731787844053.5\n",
      "-536908118044223.5 704316661947216.0\n",
      "53357006178390.5 590265124222614.0\n",
      "-214811513003777.8 -268168519182168.3\n",
      "3129675130355005.0 3344486643358783.0\n",
      "-1940549621134214.0 -5070224751489219.0\n",
      "-777297912208804.2 1163251708925409.8\n",
      "1.7072085113787574e+16 1.7849383025996378e+16\n",
      "-7.609442028883746e+16 -9.316650540262502e+16\n",
      "3.1123284398741536e+17 3.873272642762528e+17\n",
      "6.033599329184064e+16 -2.5089685069557472e+17\n",
      "-2.2085257454567875e+18 -2.268861738748628e+18\n",
      "8.34933629841429e+17 3.0434593752982164e+18\n",
      "-1.1502449884970342e+17 -9.499581286911324e+17\n",
      "-2.420393826694163e+16 9.08205605827618e+16\n",
      "1.4289316931775267e+19 1.4313520870042208e+19\n",
      "7.131299329020462e+18 -7.158017602754805e+18\n",
      "6.203765248489114e+17 -6.510922804171551e+18\n",
      "2.8809075688336634e+17 -3.32285767965545e+17\n",
      "-3.8019430592199644e+18 -4.090033816103331e+18\n",
      "4.5509646985684465e+18 8.352907757788411e+18\n",
      "-1.0698085921985659e+19 -1.5249050620554105e+19\n",
      "-5.348998702475555e+18 5.349087219510104e+18\n",
      "4.430463014447905e+18 9.77946171692346e+18\n",
      "1.9543819692074563e+18 -2.4760810452404485e+18\n",
      "-4.2731772947472563e+18 -6.227559263954713e+18\n",
      "4.50186883111586e+19 4.929186560590586e+19\n",
      "2.0496473144065225e+19 -2.452221516709338e+19\n",
      "-3.8363561378711064e+20 -4.0413208693117583e+20\n",
      "-1.8640917530671527e+20 1.9722643848039537e+20\n",
      "7.443821961748364e+21 7.630231137055079e+21\n",
      "2.9761830194876635e+21 -4.4676389422607006e+21\n",
      "1.4847772760078082e+21 -1.4914057434798553e+21\n",
      "-1.8562524936832018e+22 -2.0047302212839826e+22\n",
      "1.82852758959279e+21 2.039105252642481e+22\n",
      "-1.3739043245939433e+21 -3.202431914186733e+21\n",
      "-2.6236729803682323e+20 1.1115370265571201e+21\n",
      "1.1834621543144653e+19 2.7420191957996788e+20\n",
      "-4.407026874989101e+18 -1.6241648418133754e+19\n",
      "-1.7038570609694152e+18 2.703169814019686e+18\n",
      "-2.4102372131699046e+17 1.4628333396524247e+18\n",
      "5.147271788824006e+16 2.924964392052305e+17\n",
      "1.2238205146792408e+16 -3.9234512741447656e+16\n",
      "5970271621471621.0 -6267933525320787.0\n",
      "-1470350224489315.0 -7440621845960936.0\n",
      "478622161565993.75 1948972386055308.8\n",
      "-3415844466790914.0 -3894466628356908.0\n",
      "360122267175021.5 3775966733965935.5\n",
      "-878488545443413.8 -1238610812618435.2\n",
      "731108374315627.0 1609596919759040.8\n",
      "-8.130127060488184e+16 -8.203237897919747e+16\n",
      "6.162585034907176e+17 6.975597740955994e+17\n",
      "-3.5983509987017324e+18 -4.21460950219245e+18\n",
      "-1.7869402650057743e+18 1.811410733695958e+18\n",
      "-8.904168409493751e+17 8.965234240563992e+17\n",
      "2.735950221955385e+18 3.62636706290476e+18\n",
      "-2.472834552242587e+20 -2.500194054462141e+20\n",
      "-1.2355873705409321e+20 1.2372471817016548e+20\n",
      "4.993237670363557e+22 5.005593544068966e+22\n",
      "2.166035908296099e+22 -2.827201762067458e+22\n",
      "9.450493365057462e+21 -1.220986571790353e+22\n",
      "-2.264932283323322e+21 -1.1715425648380784e+22\n",
      "-1.7054102735720966e+20 2.0943912559661123e+21\n",
      "-5.16907358510619e+18 1.6537195377210347e+20\n",
      "-1.8107336440988314e+18 3.358339941007359e+18\n",
      "-8.599827467627748e+17 9.507508973360566e+17\n",
      "-1.664336510328676e+17 6.935490957299072e+17\n",
      "-8.137379340156858e+16 8.5059857631299e+16\n",
      "-3.148575032813157e+16 4.988804307343701e+16\n",
      "-1.1648116101889744e+16 1.9837634226241824e+16\n",
      "-3175275145949266.0 8472840955940478.0\n",
      "3423893269737361.0 6599168415686627.0\n",
      "1474799054011476.8 -1949094215725884.2\n",
      "-7555095161280137.0 -9029894215291614.0\n",
      "953856056798686.0 8508951218078823.0\n",
      "-494050863889836.0 -1447906920688522.0\n",
      "-156700213671019.56 337350650218816.44\n",
      "-32434750504078.67 124265463166940.89\n",
      "9187244938293.844 41621995442372.516\n",
      "1823359955288.8389 -7363884983005.005\n",
      "333820775276.41675 -1489539180012.422\n",
      "20625975265.31494 -313194800011.1018\n",
      "-13931394909.620995 -34557370174.935936\n",
      "3403134796.770397 17334529706.39139\n",
      "-3602323111.5380964 -7005457908.308494\n",
      "-1722775189.82474 1879547921.7133565\n",
      "38609063379.601006 40331838569.42574\n",
      "2658118055.320442 -35950945324.28056\n",
      "-21064529215.34034 -23722647270.66078\n",
      "-2855177309.946415 18209351905.393925\n",
      "140726530156.05368 143581707466.0001\n",
      "-6102170773.2716675 -146828700929.32535\n",
      "30736191714.71936 36838362487.99103\n",
      "15209203979.657726 -15526987735.061634\n",
      "-56669775944.49539 -71878979924.15312\n",
      "9715663310.637787 66385439255.13318\n",
      "4712199451.937438 -5003463858.700349\n",
      "-8417806830.202691 -13130006282.14013\n",
      "1170473825.0408506 9588280655.243542\n",
      "100246277.77651656 -1070227547.2643341\n",
      "-298896088.1279449 -399142365.90446144\n",
      "-112780110.79617664 186115977.33176824\n",
      "223306666.76393548 336086777.5601121\n",
      "-1185010865.285619 -1408317532.0495546\n",
      "-555640539.9987535 629370325.2868655\n",
      "-70081555.06445181 485558984.93430173\n",
      "-24750752.78797265 45330802.27647916\n",
      "-11109039.504021566 13641713.283951085\n",
      "-2625129.1742264535 8483910.329795113\n",
      "110637100.77556685 113262229.9497933\n",
      "13511338.214978442 -97125762.5605884\n",
      "6741240.100569372 -6770098.1144090695\n",
      "-74176916.26445861 -80918156.36502798\n",
      "-29296709.56550885 44880206.69894976\n",
      "106991228.33427337 136287937.8997822\n",
      "-385798192.35398304 -492789420.6882564\n",
      "1671742308.7460494 2057540501.1000323\n",
      "124238384.98441076 -1547503923.7616386\n",
      "43903952.27726179 -80334432.70714897\n",
      "6181168.199631311 -37722784.07763048\n",
      "891338.1968764272 -5289830.002754884\n",
      "-1934262.5533328177 -2825600.750209245\n",
      "949507.4998202459 2883770.0531530636\n",
      "-11683681.824028382 -12633189.323848628\n",
      "-5773909.304413908 5909772.519614474\n",
      "151652297.11199638 157426206.4164103\n",
      "-6766804038.026621 -6918456335.1386175\n",
      "-2300748777.607003 4466055260.419618\n",
      "-1146356308.268366 1154392469.338637\n",
      "40924644.06320381 1187280952.33157\n",
      "15398653.526782136 -25525990.536421675\n",
      "-123161181.20125933 -138559834.72804147\n",
      "-60820608.23794351 62340572.96331582\n",
      "32890756.456721596 93711364.6946651\n",
      "4881635.342645902 -28009121.114075694\n",
      "1853590.402467682 -3028044.94017822\n",
      "578861.482711494 -1274728.919756188\n",
      "-3708823.832821384 -4287685.315532878\n",
      "-1641686.7110852762 2067137.1217361079\n",
      "-415812.576626373 1225874.1344589032\n",
      "-173470.3210579009 242342.2555684721\n",
      "-79254.87696438849 94215.44409351241\n",
      "-38400.737990305715 40854.13897408277\n",
      "-17842.907833541627 20557.83015676409\n",
      "-8799.82799175798 9043.079841783647\n",
      "-1617.2389607350133 7182.589031022967\n",
      "2748.8525089184077 4366.091469653421\n",
      "107.43482608672002 -2641.4176828316877\n",
      "40.02059681001053 -67.41422927670949\n",
      "16.509572252932557 -23.511024557077974\n",
      "-44.60469567876281 -61.114267931695366\n",
      "64.30563919235396 108.91033487111677\n",
      "32.12559657765819 -32.18004261469577\n",
      "13.133508368358171 -18.99208820930002\n",
      "5.138513914835592 -7.99499445352258\n",
      "-47.70054395602177 -52.83905787085736\n",
      "-17.373350589526297 30.32719336649547\n",
      "-8.619884576395071 8.753466013131225\n",
      "19.76646416498467 28.38634874137974\n",
      "9.085791522189966 -10.680672642794702\n",
      "1.559602004868844 -7.526189517321122\n",
      "0.7853737915674017 -0.7742282133014422\n",
      "0.7395356706442151 -0.04583812092318662\n",
      "0.7390851780139345 -0.00045049263028063\n",
      "0.7390851332151611 -4.479877335761273e-08\n",
      "0.7390851332151607 -4.440892098500626e-16\n"
     ]
    },
    {
     "data": {
      "text/plain": [
       "0.7390851332151607"
      ]
     },
     "execution_count": 113,
     "metadata": {},
     "output_type": "execute_result"
    }
   ],
   "source": [
    "newton(f_bench,fp_bench,10,1e-8, verbose = True, max_iterations = 1000)"
   ]
  },
  {
   "cell_type": "markdown",
   "metadata": {},
   "source": [
    "<div class=answer>\n",
    "<div/>\n",
    "When we increase x the number of iterations needed increases rapidly. This is because the first iteration projects the value of x' to a number that is very far away from the solution, so it takes much longer for the method to converge on a spot. "
   ]
  },
  {
   "cell_type": "markdown",
   "metadata": {},
   "source": [
    "## Exercise 7: More on Newton's method\n",
    "\n",
    "Here's one more illustration with Newton's method.  Let's try it out on the function\n",
    "\n",
    "$$\n",
    "\\begin{equation}\n",
    "f(x)=x^2+1.\n",
    "\\end{equation}\n",
    "$$\n",
    "\n",
    "What happens if you pick $x=0$ as the starting point?  How about\n",
    "$x=0.5$?"
   ]
  },
  {
   "cell_type": "code",
   "execution_count": 115,
   "metadata": {
    "collapsed": false
   },
   "outputs": [
    {
     "name": "stdout",
     "output_type": "stream",
     "text": [
      "1.25 0.75\n",
      "1.025 -0.2250000000000001\n",
      "1.0003048780487804 -0.02469512195121948\n",
      "1.0000000464611474 -0.00030483158763305873\n",
      "1.000000000000001 -4.6461146263609976e-08\n",
      "1.0 -1.1102230246251565e-15\n"
     ]
    },
    {
     "data": {
      "text/plain": [
       "1.0"
      ]
     },
     "execution_count": 115,
     "metadata": {},
     "output_type": "execute_result"
    }
   ],
   "source": [
    "def simpleFunc (x):\n",
    "    \"\"\"Returns the value of our test function at x\n",
    "    \n",
    "    Arguements: x - the input value\n",
    "    \n",
    "    Retured: f(x)\n",
    "    \"\"\"\n",
    "    return (x**2) - 1\n",
    "\n",
    "def simpleFuncP (x):\n",
    "    \"\"\"Returns derivative value of our test function at x\n",
    "    \n",
    "    Arguements: x - the input value\n",
    "    \n",
    "    Retured: f'(x)\n",
    "    \"\"\"\n",
    "    return 2*x\n",
    "\n",
    "newton(simpleFunc,simpleFuncP,0.5,1e-8, verbose = True, max_iterations = 100)"
   ]
  },
  {
   "cell_type": "markdown",
   "metadata": {},
   "source": [
    "<div class=answer>\n",
    "<div/>\n",
    "When we ran the function with x = 0, it gave us a \"divide by zero\" error, and when we used a value of 0.5 it gave us a solution of 1, even though there is no actual solution to thiis equation."
   ]
  },
  {
   "cell_type": "markdown",
   "metadata": {},
   "source": [
    "*Comment:* Notice that we were applying a rootfinding method, to a function which\n",
    "had no root. A physics professor of mine promulgated this bit of wisdom:\n",
    "\n",
    "    **First rule: Think before you try cranking away!**\n",
    "\n",
    "But, even if we were immune to being so silly as to ever attempt this, there is\n",
    "a lesson to be learned.  What if our function *had* a root, off somewhere far away from the initial guess point, but the guess point landed us near a local minimum in the function?  Our function would locally look just like this parabola, and the Newton-Raphson method could become trapped oscillating around the minimum, in just this fashion.\n",
    "\n",
    "**Summary:** Here is an attempt at summarizing the lessons we have learned.  When it works, Newton-Raphson converges much more rapidly than bisection.  However, sometimes it jumps around before converging.  Sometimes it just oscillates, without converging.  Or, if the starting point is not close enough to a root, the method may go\n",
    "completely astray.\n",
    "\n",
    "**When it's good, it's very, very good.  When it's bad, it's horrid.**"
   ]
  },
  {
   "cell_type": "markdown",
   "metadata": {},
   "source": [
    "## Exericise 8 - The Lagrange Point.  \n",
    "Work out Newman's Exercise 6.16 below **in a lab format**.  As in the percolation problem, \n",
    "* plot and label the numerical function you are trying to solve before \"cranking away.\"  \n",
    "* write a thoughtful description about each plot\n",
    "* take note of the tolerance you choose and the number of steps required to solve.\n",
    "\n",
    "You can use the astropy version of the constants library, you may have to install astropy to use them, but I did not\n",
    "http://docs.astropy.org/en/stable/constants/"
   ]
  },
  {
   "cell_type": "code",
<<<<<<< HEAD
   "execution_count": 130,
   "metadata": {
    "collapsed": false
   },
=======
   "execution_count": 10,
   "metadata": {},
>>>>>>> 442af8e851ebb9d2bdb0bb4366fedf69dca4eb85
   "outputs": [
    {
     "name": "stdout",
     "output_type": "stream",
     "text": [
      "6.67384e-11\n",
      "Note that you can do arithmetic with the 'Value': 5*G =\n",
      "3.3369200000000003e-10\n"
     ]
    }
   ],
   "source": [
    "from astropy import constants as a_const\n",
    "\n",
    "print(const.G)\n",
    "print(\"Note that you can do arithmetic with the 'Value': 5*G =\")\n",
    "print(const.G*5)\n"
   ]
  },
  {
   "cell_type": "code",
   "execution_count": 120,
   "metadata": {
    "collapsed": true
   },
   "outputs": [],
   "source": [
    "M = 5.974e24 #kg\n",
    "m = 7.348e22 #kg\n",
    "R = 3.844e8 #m\n",
    "omega = 2.662e-6 #s^-1"
   ]
  },
  {
   "cell_type": "code",
   "execution_count": 132,
   "metadata": {
    "collapsed": false
   },
   "outputs": [
    {
     "data": {
      "text/plain": [
       "<function matplotlib.pyplot.show>"
      ]
     },
     "execution_count": 132,
     "metadata": {},
     "output_type": "execute_result"
    },
    {
     "data": {
      "image/png": "iVBORw0KGgoAAAANSUhEUgAAAZwAAAEXCAYAAACZNvIiAAAABHNCSVQICAgIfAhkiAAAAAlwSFlz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\nM6uI/wdtGnaTQf1GaAAAAABJRU5ErkJggg==\n",
      "text/plain": [
       "<matplotlib.figure.Figure at 0xa2ba0f0>"
      ]
     },
     "metadata": {},
     "output_type": "display_data"
    }
   ],
   "source": [
    "def orbit (r):\n",
    "    \"\"\"Returns the numerical model for the net acceleration of the satellite\n",
    "    \n",
    "    Arguements: r - the distance from the center of earth to the satellite\n",
    "    \n",
    "    Retured: the numerical model for the net acceleration of the satellite at r\n",
    "    \"\"\"\n",
    "    return (const.G * M / r**2) - (const.G * m / (R - r)**2) - (omega**2 * r) \n",
    "def orbitP (r):\n",
    "    \"\"\"Returns the derivative of the numerical model for the net acceleration of the satellite\n",
    "    \n",
    "    Arguements: r - the distance from the center of earth to the satellite\n",
    "    \n",
    "    Retured: the derivative numerical model for the net acceleration of the satellite at r\n",
    "    \"\"\"\n",
    "    return (-2 * const.G * M * r**-3) - (2 * const.G * m * (R - r)**-3) - (omega**2) \n",
    "\n",
    "rValues = np.linspace (1.5e8,3.7e8)\n",
    "yValues = []\n",
    "zeroValues = []\n",
    "for i in rValues:\n",
    "    yValues.append(orbit(i))\n",
    "    zeroValues.append(0)\n",
    "    \n",
    "plt.plot(rValues,yValues)\n",
    "plt.plot(rValues,zeroValues)\n",
    "plt.show"
   ]
  },
  {
   "cell_type": "code",
   "execution_count": 133,
   "metadata": {
    "collapsed": false
   },
   "outputs": [
    {
     "name": "stdout",
     "output_type": "stream",
     "text": [
      "330522567.2565018 30522567.256501794\n",
      "326364931.6119637 -4157635.6445381045\n",
      "326045888.7018119 -319042.91015177965\n",
      "326044374.51547277 -1514.1863391399384\n",
      "326044374.48191315 -0.03355962038040161\n",
      "326044374.4819132 5.960464477539063e-08\n",
      "326044374.4819132 0.0\n"
     ]
    },
    {
     "data": {
      "text/plain": [
       "326044374.4819132"
      ]
     },
     "execution_count": 133,
     "metadata": {},
     "output_type": "execute_result"
    }
   ],
   "source": [
    "newton(orbit,orbitP,3e8,1e-8, verbose = True, max_iterations = 100)"
   ]
  },
  {
   "cell_type": "code",
   "execution_count": null,
   "metadata": {
    "collapsed": true
   },
   "outputs": [],
   "source": []
  }
 ],
 "metadata": {
  "kernelspec": {
   "display_name": "Python 3",
   "language": "python",
   "name": "python3"
  },
  "language_info": {
   "codemirror_mode": {
    "name": "ipython",
    "version": 3
   },
   "file_extension": ".py",
   "mimetype": "text/x-python",
   "name": "python",
   "nbconvert_exporter": "python",
   "pygments_lexer": "ipython3",
   "version": "3.6.3"
  }
 },
 "nbformat": 4,
 "nbformat_minor": 2
}
