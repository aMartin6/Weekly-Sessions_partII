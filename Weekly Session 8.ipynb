{
 "cells": [
  {
   "cell_type": "markdown",
   "metadata": {},
   "source": [
    "# Weekly Session 8\n",
    "\n",
    "## Goal\n",
    "To develop a basic familiarity and proficiency with numerical rootfinding.\n",
    "\n",
    "## Readings\n",
    "We will skip the remainder of the linear equations material (6.2) and move directly onto solutions of nonlinear equations.\n",
    "\n",
    "    6.3.1 Relaxation Method\n",
    "    \n",
    "    6.3.2 Convergence Rate\n",
    "    \n",
    "    6.3.4 Binary search -- a.k.a. the bisection method\n",
    "\n",
    "    6.3.5 Newton's method -- a.k.a. the Newton-Raphson method\n",
    "\n",
    "Although we will not specifically cover extremization in this week's handout, you should also read enough to get a basic idea of what is possible:\n",
    "\n",
    "    6.4 Maxima and minima of functions\n",
    "    \n",
    "## Overview\n",
    "\n",
    "We will start with a brief introduction to solving non-linear equations, using the relaxation method.  Then you will build up your own module named ```rootfind```, containing functions which implement each of the basic numerical rootfinding methods: the **bisection** method, the **Newton-Raphson** method (for when the derivative is known), and the **Dekker secant** method (for when it is not).  You will also see the value in *hybridizing* these latter two methods with the bisection method.  \n",
    "\n",
    "As always, scipy has some beautiful versions of these codes available.  So after you have written your own **Newton-Raphson** method, we will switch over to using library functions.\n",
    "\n",
    "https://docs.scipy.org/doc/scipy-0.15.1/reference/generated/scipy.optimize.newton.html"
   ]
  },
  {
   "cell_type": "code",
   "execution_count": 3,
   "metadata": {
    "collapsed": false
   },
   "outputs": [
    {
     "data": {
      "text/html": [
       "<style>\n",
       "div.warn {\n",
       "    background-color: black;\n",
       "    border-color: #dFb5b4;\n",
       "    border-left: 5px solid #dfb5b4;\n",
       "    padding: 0.5em\n",
       "    color: white;\n",
       "    }\n",
       " </style>\n",
       "\n",
       " <style>\n",
       " div.answer {\n",
       "     background-color: lightblue;\n",
       "     border-color: #dFb5b4;\n",
       "     border-left: 5px solid #dfb5b4;\n",
       "     padding: 0.5em\n",
       "     }\n",
       "  </style>\n"
      ],
      "text/plain": [
       "<IPython.core.display.HTML object>"
      ]
     },
     "execution_count": 3,
     "metadata": {},
     "output_type": "execute_result"
    }
   ],
   "source": [
    "#For colored cells, currently blue cells, black text \n",
    "#https://stackoverflow.com/questions/18024769/adding-custom-styled-paragraphs-in-markdown-cells\n",
    "from IPython.core.display import HTML\n",
    "def css_styling():\n",
    "    styles = open(\"style.css\", \"r\").read()\n",
    "    return HTML(styles)\n",
    "css_styling()"
   ]
  },
  {
   "cell_type": "markdown",
   "metadata": {},
   "source": [
    "<div class=answer>\n",
    "*This should be a blue cell with black font if you set the filepath correctly*</font>\n",
    "<div/>"
   ]
  },
  {
   "cell_type": "markdown",
   "metadata": {},
   "source": [
    "## Exercise 0 - Jupyter Notebook \n",
    "\n",
    "### Keyboard Shortcuts\n",
    "\n",
    "Read this and try some out.\n",
    "http://maxmelnick.com/2016/04/19/python-beginner-tips-and-tricks.html\n",
    "\n",
    "My favorites are \"B,\" \"M,\" and \"Enter\" so far, but I'm working on more."
   ]
  },
  {
   "cell_type": "markdown",
   "metadata": {},
   "source": [
    "### Some plotting tricks\n",
    "\n",
    "Run the following code cell.  Notice the last (active) line resets the default font on your plots to a larger size.  You can use similar calls to change many more plotting defaults [link](https://matplotlib.org/api/matplotlib_configuration_api.html)."
   ]
  },
  {
   "cell_type": "code",
   "execution_count": 4,
   "metadata": {
    "collapsed": true
   },
   "outputs": [],
   "source": [
    "import math\n",
    "import numpy as np\n",
    "import matplotlib.pylab as plt\n",
    "%matplotlib inline\n",
    "plt.rcParams['font.size']=14\n",
    "\n",
    "#line below prints all possible default variables stored in the dictionary rcParams\n",
    "#plt.rcParams.keys()  "
   ]
  },
  {
   "cell_type": "markdown",
   "metadata": {},
   "source": [
    "### Passing function arguments\n",
    "These semester you have become very experienced passing functions as arguments in other functions.  For instance: "
   ]
  },
  {
   "cell_type": "code",
   "execution_count": 5,
   "metadata": {
    "collapsed": false
   },
   "outputs": [
    {
     "name": "stdout",
     "output_type": "stream",
     "text": [
      "2\n"
     ]
    }
   ],
   "source": [
    "def q(x):\n",
    "    '''Calculates a simple mathematic function \n",
    "    \n",
    "    It is written using numpy's exponential function (not math) so it can operate on numpy arrays.\n",
    "    accepts: x - float\n",
    "    returns f(x) - float\n",
    "    '''\n",
    "    \n",
    "    return x\n",
    "\n",
    "def g(f,x):\n",
    "    '''Calls another function f(x) and prints its return value \n",
    "    \n",
    "    accepts: \n",
    "        x - float\n",
    "        f(x) - float\n",
    "    returns \n",
    "        None\n",
    "    '''\n",
    "    \n",
    "    print(f(x))\n",
    "    return None\n",
    "\n",
    "#call g to act on q at x=2, which prints q(x)=x.  \n",
    "#Very convoluted way to do something simple\n",
    "g(q,2)"
   ]
  },
  {
   "cell_type": "markdown",
   "metadata": {},
   "source": [
    "But what if we want to work with a more complicated function?  For instance what if I want to call the following: "
   ]
  },
  {
   "cell_type": "code",
   "execution_count": 6,
   "metadata": {
    "collapsed": true
   },
   "outputs": [],
   "source": [
    "def r(x,y,z):\n",
    "    return x+y+z"
   ]
  },
  {
   "cell_type": "markdown",
   "metadata": {},
   "source": [
    "You are probably thinking, this is easy - we can just do the same thing you did with ```x``` above, by passing it to g(f,x) as a separate argument.  But notice that you would have to redefine the function ```g``` to be ```g(f,x,y,z).```  Doesn't this seem inefficient?  \n",
    "\n",
    "*For instance, what if you want to write ```g``` so it could print the output of any function, not just design it for a single function?*\n",
    "\n",
    "Lets do that.  The method for doing so is to use a function parameter named ```*args``` or \"star args\".  "
   ]
  },
  {
   "cell_type": "code",
   "execution_count": 7,
   "metadata": {
    "collapsed": true
   },
   "outputs": [],
   "source": [
    "def g1(f,*args):\n",
    "    '''Calls another function f(x) and prints its return value \n",
    "    \n",
    "    accepts: \n",
    "        x - float\n",
    "        f(x) - float\n",
    "    returns \n",
    "        None\n",
    "    '''\n",
    "    \n",
    "    print(\"You passed the function (object): \",f, \"with arguments:\" ,*args)\n",
    "    for key in args:\n",
    "        print (\"Arguement: \", key)\n",
    "\n",
    "    print(f(*args))\n",
    "    return None"
   ]
  },
  {
   "cell_type": "markdown",
   "metadata": {},
   "source": [
    "So lets run ```g1``` on the function r:"
   ]
  },
  {
   "cell_type": "code",
   "execution_count": 8,
   "metadata": {
    "collapsed": false
   },
   "outputs": [
    {
     "name": "stdout",
     "output_type": "stream",
     "text": [
      "You passed the function (object):  <function r at 0x000000000743DC80> with arguments: 1 2 3\n",
      "Arguement:  1\n",
      "Arguement:  2\n",
      "Arguement:  3\n",
      "6\n"
     ]
    }
   ],
   "source": [
    "g1(r,1,2,3)"
   ]
  },
  {
   "cell_type": "markdown",
   "metadata": {},
   "source": [
    "Play around with the codes above.  For instance, \n",
    "* call ```g1``` on another function which takes 2 or 4 arguments (instead of 1 or 3). \n",
    "* print individual values of ```*args``` - **see the last link below for this**\n",
    "\n",
    "<div class=answer>\n",
    "Answer below.  Add code cells as necessary.\n",
    "<div/>"
   ]
  },
  {
   "cell_type": "code",
   "execution_count": 9,
   "metadata": {
    "collapsed": false
   },
   "outputs": [
    {
     "name": "stdout",
     "output_type": "stream",
     "text": [
      "You passed the function (object):  <function s at 0x0000000007450400> with arguments: 2 4 6 8\n",
      "Arguement:  2\n",
      "Arguement:  4\n",
      "Arguement:  6\n",
      "Arguement:  8\n",
      "20\n"
     ]
    }
   ],
   "source": [
    "def s(x,y,z,q):\n",
    "    return x+y+z+q\n",
    "\n",
    "g1(s,2,4,6,8)"
   ]
  },
  {
   "cell_type": "markdown",
   "metadata": {},
   "source": [
    "Want to know more?  Here are a few links to show you the big picture:\n",
    "* https://www.python-course.eu/passing_arguments.php\n",
    "* http://www.informit.com/articles/article.aspx?p=2314818\n",
    "* https://www.saltycrane.com/blog/2008/01/how-to-use-args-and-kwargs-in-python/"
   ]
  },
  {
   "cell_type": "markdown",
   "metadata": {},
   "source": [
    "## Exercise 1: Intro to the Relaxation Method and Convergence\n",
    "\n",
    "Newman uses $f(x) = 2 - e^{-x}$ as his first test case.  Let's start by plotting that and simply checking that the solution in Newman 6.3.1 is approximately correct.  "
   ]
  },
  {
   "cell_type": "code",
   "execution_count": 10,
   "metadata": {
    "collapsed": false
   },
   "outputs": [
    {
     "data": {
      "image/png": "[encoded data removed]",
      "text/plain": [
       "<matplotlib.figure.Figure at 0x744ea90>"
      ]
     },
     "metadata": {},
     "output_type": "display_data"
    }
   ],
   "source": [
    "def f(x):\n",
    "    '''Calculates a simple mathematic function from Newman 6.3.1\n",
    "    \n",
    "    It is written using numpy's exponential function (not math) so it can operate on numpy arrays.\n",
    "    accepts: x - float\n",
    "    returns f(x) - float\n",
    "    '''\n",
    "    \n",
    "    return 2 - np.exp(-x)\n",
    "\n",
    "#define the x-range\n",
    "x = np.linspace(0,3)\n",
    "\n",
    "#set up the plot\n",
    "fig = plt.figure(figsize=(7,7))\n",
    "ax = fig.add_subplot(111)\n",
    "\n",
    "#plot the function - both left hand side and right hand side\n",
    "ax.plot(x,f(x),label=r\"$2-e^{-x}$\")\n",
    "ax.plot(x,x,label=r\"$x$\",ls='--')\n",
    "\n",
    "#add good labels\n",
    "ax.legend(loc='best')\n",
    "ax.set_xlabel('x')\n",
    "ax.set_ylabel('f(x)')\n",
    "ax.set_aspect('equal')\n",
    "\n",
    "#add a label to be extra transparent\n",
    "text1 = ax.annotate(r'solution, $x^* \\approx 1.84$', xy=(1.84, 1.84), xytext=(1.8, 1.0),\n",
    "            arrowprops=dict(facecolor='black', shrink=0.05),\n",
    "            )"
   ]
  },
  {
   "cell_type": "markdown",
   "metadata": {},
   "source": [
    "*Notice how I added an arrow and text to the figure above?  This is very useful.*\n",
    "\n",
    "### Solve the equation $x=2-e^{-x}$ as in Newman, and include a measure of the error at each step."
   ]
  },
  {
   "cell_type": "code",
   "execution_count": 11,
   "metadata": {
    "collapsed": false
   },
   "outputs": [
    {
     "name": "stdout",
     "output_type": "stream",
     "text": [
      "x Values: 1.63212055883 Error: 0.632120558829\n",
      "x Values: 1.80448546585 Error: 0.172364907019\n",
      "x Values: 1.83544089392 Error: 0.0309554280746\n",
      "x Values: 1.84045685534 Error: 0.00501596142149\n",
      "x Values: 1.84125511391 Error: 0.000798258567897\n",
      "x Values: 1.84138178281 Error: 0.000126668901436\n",
      "x Values: 1.84140187354 Error: 2.00907228571e-05\n",
      "x Values: 1.84140505985 Error: 3.18631899665e-06\n",
      "x Values: 1.84140556519 Error: 5.05333265455e-07\n",
      "x Values: 1.84140564533 Error: 8.01430233288e-08\n"
     ]
    }
   ],
   "source": [
    "x = 1.0\n",
    "for k in range (10):\n",
    "    xOld = x\n",
    "    x = 2-np.exp(-x)\n",
    "    error = (x-xOld)\n",
    "    print(\"x Values:\", x, \"Error:\", error)\n"
   ]
  },
  {
   "cell_type": "markdown",
   "metadata": {},
   "source": [
    "#### Prove mathematically that the Relaxation Method will work on the function above.  Show your work and briefly explain"
   ]
  },
  {
   "cell_type": "markdown",
   "metadata": {},
   "source": [
    "<div class=answer>\n",
    "<div/>\n",
    "The difference between the calcualted value and the actual value becomes smaller by a factor of f'(x*) at each iteration. So f'(x*) must be less than 1."
   ]
  },
  {
   "cell_type": "code",
   "execution_count": 12,
   "metadata": {
    "collapsed": false
   },
   "outputs": [
    {
     "data": {
      "text/plain": [
       "0.1585952372788415"
      ]
     },
     "execution_count": 12,
     "metadata": {},
     "output_type": "execute_result"
    }
   ],
   "source": [
    "math.exp(-1.8414)"
   ]
  },
  {
   "cell_type": "markdown",
   "metadata": {},
   "source": [
    "## Exercise 2\n",
    "\n",
    "### Newman's Exercise 6.10: The percolation transition\n",
    "\n",
    "Consider the equation $x = 1 - \\ e^{-cx}$, where $c$ is a known parameter and $x$ is unknown.  This equation arises in a variety of situations, including the physics of contact processes, mathematical models of epidemics, and the theory of random graphs.\n",
    "\n",
    "####  First plot the function for the case $c=2$.  \n",
    "Mark both the trivial solution and the (approximate) non-trivial solution. \n",
    "\n",
    "**Lab-like exercise: **\n",
    "Write a full description of your plots for this section, as if you were in lab.  While it might not be so clear why this is named *the percolation transition* hopefully it is very clear why this is called *the epidemic threshold*.  Please include some insights related to this name in your description of these plots."
   ]
  },
  {
   "cell_type": "code",
   "execution_count": 13,
   "metadata": {
    "collapsed": false
   },
   "outputs": [
    {
     "data": {
      "image/png": "[encoded data removed]",
      "text/plain": [
       "<matplotlib.figure.Figure at 0x77d3828>"
      ]
     },
     "metadata": {},
     "output_type": "display_data"
    }
   ],
   "source": [
    "def f2(x, c):\n",
    "    '''Calculates a simple mathematic function from Newman 6.3.1\n",
    "    \n",
    "    It is written using numpy's exponential function (not math) so it can operate on numpy arrays.\n",
    "    accepts: x - float\n",
    "    returns f(x) - float\n",
    "    '''\n",
    "    \n",
    "    return 1 - np.exp(-c*x)\n",
    "\n",
    "#define the x-range\n",
    "x = np.linspace(0,3)\n",
    "\n",
    "#set up the plot\n",
    "fig = plt.figure(figsize=(7,7))\n",
    "ax = fig.add_subplot(111)\n",
    "\n",
    "#plot the function - both left hand side and right hand side\n",
    "ax.plot(x,f2(x, 2),label=r\"$1-e^{-2x}$\")\n",
    "ax.plot(x,x,label=r\"$x$\",ls='--')\n",
    "\n",
    "#add good labels\n",
    "ax.legend(loc='best')\n",
    "ax.set_xlabel('x')\n",
    "ax.set_ylabel('f2(x)')\n",
    "ax.set_aspect('equal')\n",
    "\n",
    "#add a label to be extra transparent\n",
    "text1 = ax.annotate(r'solution, $x^* \\approx 0.8$', xy=(0.8, 0.8), xytext=(2.0, 0.2),\n",
    "            arrowprops=dict(facecolor='black', shrink=0.05),\n",
    "            )"
   ]
  },
  {
   "cell_type": "markdown",
   "metadata": {},
   "source": [
    "#### Write a program to solve this equation for $x$ using the relaxation method for the case $c=2$.  \n",
    "Calculate your solution to an accuracy of at least $10^{-6}$."
   ]
  },
  {
   "cell_type": "code",
   "execution_count": 14,
   "metadata": {
    "collapsed": false
   },
   "outputs": [
    {
     "name": "stdout",
     "output_type": "stream",
     "text": [
      "x Values: 0.864664716763 Error: -0.135335283237\n",
      "x Values: 0.822596669181 Error: -0.0420680475825\n",
      "x Values: 0.807024750332 Error: -0.0155719188491\n",
      "x Values: 0.800920194237 Error: -0.00610455609513\n",
      "x Values: 0.798474708325 Error: -0.00244548591188\n",
      "x Values: 0.797486639463 Error: -0.00098806886216\n",
      "x Values: 0.797086049491 Error: -0.000400589971551\n",
      "x Values: 0.796923413762 Error: -0.000162635728866\n",
      "x Values: 0.796857348001 Error: -6.60657613076e-05\n",
      "x Values: 0.79683050468 Error: -2.68433213021e-05\n",
      "x Values: 0.796819596899 Error: -1.09077808818e-05\n",
      "x Values: 0.796815164356 Error: -4.43254298199e-06\n",
      "x Values: 0.796813363097 Error: -1.80125901883e-06\n",
      "x Values: 0.796812631112 Error: -7.31984842961e-07\n"
     ]
    },
    {
     "data": {
      "text/plain": [
       "0.79681263111184575"
      ]
     },
     "execution_count": 14,
     "metadata": {},
     "output_type": "execute_result"
    }
   ],
   "source": [
    "def relax(f, *args, tol = 1e-6, verbose = False):\n",
    "    \"\"\"Returns the numerical solution to an equation calculated using the relaxation method\n",
    "    \n",
    "    Arguements: f - the fucntion to find the roots of\n",
    "                tol - tolerence of error\n",
    "                \n",
    "    Retured: The numerical solution to f\n",
    "    \"\"\"\n",
    "    x = 1.0\n",
    "    error = 2*tol\n",
    "    while abs(error) >= abs(tol):\n",
    "        xOld = x\n",
    "        x = f(x,*args)\n",
    "        error = (x-xOld)\n",
    "        if verbose == True:\n",
    "            print(\"x Values:\", x, \"Error:\", error)\n",
    "        \n",
    "    return x\n",
    "\n",
    "relax(f2, 2, tol = 1e-6, verbose = True)"
   ]
  },
  {
   "cell_type": "markdown",
   "metadata": {},
   "source": [
    "#### Modify your program to calculate the solution for values of $c$ from 0 to 3 in steps of 0.01 and make a plot of $x$ as a function of $c$.  \n",
    "   \n",
    "   You should see a clear transition from a regime in which $x=0$ to a regime of nonzero $x$.   This is another example of a phase transition.   In physics this transition is known as the *percolation transition*;   in epidemiology it is the *epidemic threshold*."
   ]
  },
  {
   "cell_type": "code",
   "execution_count": 15,
   "metadata": {
    "collapsed": false
   },
   "outputs": [
    {
     "data": {
      "text/plain": [
       "[<matplotlib.lines.Line2D at 0x78950b8>]"
      ]
     },
     "execution_count": 15,
     "metadata": {},
     "output_type": "execute_result"
    },
    {
     "data": {
      "image/png": "[encoded data removed]",
      "text/plain": [
       "<matplotlib.figure.Figure at 0x7858978>"
      ]
     },
     "metadata": {},
     "output_type": "display_data"
    }
   ],
   "source": [
    "xValues = np.linspace (0,3,300)\n",
    "yValues = []\n",
    "for i in np.linspace (0,3,300):\n",
    "    yValues.append(relax(f2, i))\n",
    "    \n",
    "plt.plot(xValues, yValues)"
   ]
  },
  {
   "cell_type": "markdown",
   "metadata": {},
   "source": [
    "<div class=answer>\n",
    "<div/>\n",
    "This plot shows the solution to the above function at various values of c calculated using the relaxation method. The solution is zero for values of c that are less than 1, and then they increase as c increases."
   ]
  },
  {
   "cell_type": "markdown",
   "metadata": {},
   "source": [
    "## Exercise 3: Benchmark function for rootfinding\n",
    "You will use the function\n",
    "$$\n",
    "f(x)=\\cos x - x\n",
    "$$\n",
    "\n",
    "as a benchmark  in developing the following routines.  To orient yourself, first make a plot of the benchmark function. You will want to plot it over a\n",
    "reasonably wide range, *e.g.*, $-10\\leq x \\leq 10$, since you will be playing with different choices of initial intervals and guess points in this range.\n"
   ]
  },
  {
   "cell_type": "code",
   "execution_count": 36,
   "metadata": {
    "collapsed": false
   },
   "outputs": [
    {
     "data": {
      "text/plain": [
       "<matplotlib.lines.Line2D at 0x75092b0>"
      ]
     },
     "execution_count": 36,
     "metadata": {},
     "output_type": "execute_result"
    },
    {
     "data": {
      "image/png": "[encoded data removed]",
      "text/plain": [
       "<matplotlib.figure.Figure at 0x8ae1208>"
      ]
     },
     "metadata": {},
     "output_type": "display_data"
    }
   ],
   "source": [
    "xValues = np.linspace (-10, 10)\n",
    "yValues = []\n",
    "for i in xValues:\n",
    "    yValues.append(math.cos(i) - i)\n",
    "    \n",
    "fig = plt.figure(figsize=(7,7))\n",
    "ax = fig.add_subplot(111)\n",
    "\n",
    "ax.plot(xValues, yValues, label = \"cos(x)-x\")\n",
    "\n",
    "ax.legend(loc='best')\n",
    "ax.set_xlabel('x')\n",
    "ax.set_ylabel('f(x)')\n",
    "ax.set_aspect('equal')\n",
    "    \n",
    "ax.axhline(y=0,ls='--',color='gray')"
   ]
  },
  {
   "cell_type": "markdown",
   "metadata": {},
   "source": [
    "## Exercise 4 - introduction to bisection"
   ]
  },
  {
   "cell_type": "markdown",
   "metadata": {},
   "source": [
    "For efficiency, I have provided a basic code on the bisection method.  Read the code below carefully and check that it is written as you would expect."
   ]
  },
  {
   "cell_type": "markdown",
   "metadata": {},
   "source": [
    "The bisection method is our baseline method, to which we will be\n",
    "comparing the other new members.  Moreover, we will be using bisection\n",
    "steps when we \"hybridize\" the bisection method with the other, more\n",
    "sophisticated rootfinding methods.  So, let us start off our new\n",
    "rootfind methods by bundling the code above into a function.  \n",
    "\n",
    "Take a close look, and make sure you understand the logic.  The loop structure is designed to provide a better starting point for the approach we will need to take with in the other rootfinding methods.\n",
    "\n",
    "For instance, all these other methods are based on the idea of finding successive approximations $x_i$ ($i=0$, $1$, $2$, $\\ldots$).  Then the \"error\" is estimated the difference between the two most recent approximate roots, *i.e.*,\n",
    "$$\n",
    "\\epsilon_i = x_i - x_{i-1}.\n",
    "$$"
   ]
  },
  {
   "cell_type": "code",
   "execution_count": 78,
   "metadata": {
    "collapsed": true
   },
   "outputs": [],
   "source": [
    "\"\"\" rootfind.py -- library of rootfinding routines\n",
    "     \n",
    "    Language: Python 3\n",
    "    Mark A. Caprio\n",
    "    University of Notre Dame\n",
    "    Written for Computational Methods in Physics, Spring 2014.\n",
    "\"\"\"\n",
    "\n",
    "def bisection(f,interval,tolerance,verbose=False, maxIterations = 100):\n",
    "    \"\"\" Find root by bisection.\n",
    "\n",
    "    The 'approximation' x_i at each iteration is defined by the\n",
    "    midpoint of the interval.\n",
    "    \n",
    "    The 'error' x_i-x_(i-1) is defined by the change in midpoint from\n",
    "    the midpoint of the last interval.  (Of course, for bisection,\n",
    "    that is always half the width of the new interval.)\n",
    "\n",
    "    Returns None if the sign of the function does not change on the\n",
    "    given interval.  Otherwise, returns final midpoint x_i when\n",
    "    termination condition is reached.\n",
    "\n",
    "    f: function for rootfinding\n",
    "    interval: tuple containing initial interval endpoints (xa,xb)\n",
    "    tolerance: difference x_i-x_(i-1) at which search should terminate\n",
    "    verbose (optional): whether or not to print iteration log\n",
    "    \"\"\"\n",
    "\n",
    "    # set up initial bracketing interval\n",
    "    #   Note: Sign of function *must* change in this interval for method to work.\n",
    "    (xa,xb) = interval\n",
    "    fxa = f(xa)\n",
    "    fxb = f(xb)\n",
    "    if (fxa*fxb >=0):\n",
    "        # no sign change in interval\n",
    "        return None\n",
    "\n",
    "    # set up for first iteration\n",
    "    xm = (xb + xa)/2\n",
    "    error = (xb - xa)/2\n",
    "    iteration_count = 0\n",
    "\n",
    "    # bisect until tolerance reached\n",
    "    while (abs(error) > tolerance and iteration_count < maxIterations):\n",
    "\n",
    "        # increment iteration count\n",
    "        iteration_count += 1\n",
    "        \n",
    "        # evaluate function\n",
    "        fxa = f(xa)\n",
    "        fxb = f(xb)\n",
    "        fxm = f(xm)\n",
    "\n",
    "        # find which subinterval contains root\n",
    "        if (fxm == 0):\n",
    "            # accidentally landed on root (often occurs for \"toy\" test intervals)\n",
    "            xa = xm\n",
    "            xb = xm\n",
    "        elif ((fxa * fxm) < 0):\n",
    "            # sign change is in left half of interval\n",
    "            xb = xm\n",
    "        else:\n",
    "            # sign change is in right half of interval\n",
    "            xa = xm\n",
    "\n",
    "        # find new midpoint (and change in midpoint)\n",
    "        xm_old = xm\n",
    "        xm = (xb + xa)/2\n",
    "        error = xm - xm_old\n",
    "\n",
    "        # verbose iteration log\n",
    "        if (verbose):\n",
    "            print(\"iteration\", iteration_count, \"(bisection):\",\n",
    "                  \"interval\", (xa, xb), \"root\", xm)\n",
    "            \n",
    "    return xm"
   ]
  },
  {
   "cell_type": "markdown",
   "metadata": {},
   "source": [
    " When this estimated error falls below the tolerance, we terminate and return the \"last guess\" $x_i$.  We can think about the bisection method somewhat the same way (at least, we can phrase the termination condition and return value the same way) if we think of the \"midpoint\" of our interval as $x_i$.  \n",
    " \n",
    " **See the usage example below:**"
   ]
  },
  {
   "cell_type": "code",
   "execution_count": 18,
   "metadata": {
    "collapsed": false
   },
   "outputs": [
    {
     "name": "stdout",
     "output_type": "stream",
     "text": [
      "bisection(f_bench,(-1,0),1e-10,verbose=True)\n",
      "None\n",
      "bisection(f_bench,(0,1),1e-10,verbose=True)\n",
      "iteration 1 (bisection): interval (0.5, 1) root 0.75\n",
      "iteration 2 (bisection): interval (0.5, 0.75) root 0.625\n",
      "iteration 3 (bisection): interval (0.625, 0.75) root 0.6875\n",
      "iteration 4 (bisection): interval (0.6875, 0.75) root 0.71875\n",
      "iteration 5 (bisection): interval (0.71875, 0.75) root 0.734375\n",
      "iteration 6 (bisection): interval (0.734375, 0.75) root 0.7421875\n",
      "iteration 7 (bisection): interval (0.734375, 0.7421875) root 0.73828125\n",
      "iteration 8 (bisection): interval (0.73828125, 0.7421875) root 0.740234375\n",
      "iteration 9 (bisection): interval (0.73828125, 0.740234375) root 0.7392578125\n",
      "iteration 10 (bisection): interval (0.73828125, 0.7392578125) root 0.73876953125\n",
      "iteration 11 (bisection): interval (0.73876953125, 0.7392578125) root 0.739013671875\n",
      "iteration 12 (bisection): interval (0.739013671875, 0.7392578125) root 0.7391357421875\n",
      "iteration 13 (bisection): interval (0.739013671875, 0.7391357421875) root 0.73907470703125\n",
      "iteration 14 (bisection): interval (0.73907470703125, 0.7391357421875) root 0.739105224609375\n",
      "iteration 15 (bisection): interval (0.73907470703125, 0.739105224609375) root 0.7390899658203125\n",
      "iteration 16 (bisection): interval (0.73907470703125, 0.7390899658203125) root 0.7390823364257812\n",
      "iteration 17 (bisection): interval (0.7390823364257812, 0.7390899658203125) root 0.7390861511230469\n",
      "iteration 18 (bisection): interval (0.7390823364257812, 0.7390861511230469) root 0.7390842437744141\n",
      "iteration 19 (bisection): interval (0.7390842437744141, 0.7390861511230469) root 0.7390851974487305\n",
      "iteration 20 (bisection): interval (0.7390842437744141, 0.7390851974487305) root 0.7390847206115723\n",
      "iteration 21 (bisection): interval (0.7390847206115723, 0.7390851974487305) root 0.7390849590301514\n",
      "iteration 22 (bisection): interval (0.7390849590301514, 0.7390851974487305) root 0.7390850782394409\n",
      "iteration 23 (bisection): interval (0.7390850782394409, 0.7390851974487305) root 0.7390851378440857\n",
      "iteration 24 (bisection): interval (0.7390850782394409, 0.7390851378440857) root 0.7390851080417633\n",
      "iteration 25 (bisection): interval (0.7390851080417633, 0.7390851378440857) root 0.7390851229429245\n",
      "iteration 26 (bisection): interval (0.7390851229429245, 0.7390851378440857) root 0.7390851303935051\n",
      "iteration 27 (bisection): interval (0.7390851303935051, 0.7390851378440857) root 0.7390851341187954\n",
      "iteration 28 (bisection): interval (0.7390851303935051, 0.7390851341187954) root 0.7390851322561502\n",
      "iteration 29 (bisection): interval (0.7390851322561502, 0.7390851341187954) root 0.7390851331874728\n",
      "iteration 30 (bisection): interval (0.7390851331874728, 0.7390851341187954) root 0.7390851336531341\n",
      "iteration 31 (bisection): interval (0.7390851331874728, 0.7390851336531341) root 0.7390851334203035\n",
      "iteration 32 (bisection): interval (0.7390851331874728, 0.7390851334203035) root 0.7390851333038881\n",
      "iteration 33 (bisection): interval (0.7390851331874728, 0.7390851333038881) root 0.7390851332456805\n",
      "0.7390851332456805\n"
     ]
    }
   ],
   "source": [
    "# test code\n",
    "if (__name__ == \"__main__\"):\n",
    "\n",
    "    # read in external libraries\n",
    "    import math\n",
    "\n",
    "    # define function for rootfinding\n",
    "    def f_bench(x):\n",
    "        return math.cos(x) - x\n",
    "    def fp_bench(x):\n",
    "        return -math.sin(x) - 1\n",
    "\n",
    "    # bisection tests\n",
    "\n",
    "    print(\"bisection(f_bench,(-1,0),1e-10,verbose=True)\")\n",
    "    print(bisection(f_bench,(-1,0),1e-10,verbose=True))\n",
    "\n",
    "    print(\"bisection(f_bench,(0,1),1e-10,verbose=True)\")\n",
    "    print(bisection(f_bench,(0,1),1e-10,verbose=True))"
   ]
  },
  {
   "cell_type": "markdown",
   "metadata": {},
   "source": [
    "If the tolerance is $10^{-3}$, how many bisections do you expect to need?  What if the tolerance is $10^{-6}$ ?  Or $10^{-9}$ ?  Try this out, and record the number of iteration and the approximate root (or, rather, root-containing interval) you find in each case, for $\\cos x - x$.\n",
    " \n",
    " *Hint:* An incredibly-convenient almost-equality is $2^{10} = 1024 \\approx 1000 = 10^3$.  Remember this.  Forever.  This is why 1024 bytes make a \"kilobyte\" to a computer scientist."
   ]
  },
  {
   "cell_type": "code",
   "execution_count": 28,
   "metadata": {
    "collapsed": false
   },
   "outputs": [
    {
     "name": "stdout",
     "output_type": "stream",
     "text": [
      "bisection(f_bench,(0,1),1e-3,verbose=True)\n",
      "iteration 1 (bisection): interval (0.5, 1) root 0.75\n",
      "iteration 2 (bisection): interval (0.5, 0.75) root 0.625\n",
      "iteration 3 (bisection): interval (0.625, 0.75) root 0.6875\n",
      "iteration 4 (bisection): interval (0.6875, 0.75) root 0.71875\n",
      "iteration 5 (bisection): interval (0.71875, 0.75) root 0.734375\n",
      "iteration 6 (bisection): interval (0.734375, 0.75) root 0.7421875\n",
      "iteration 7 (bisection): interval (0.734375, 0.7421875) root 0.73828125\n",
      "iteration 8 (bisection): interval (0.73828125, 0.7421875) root 0.740234375\n",
      "iteration 9 (bisection): interval (0.73828125, 0.740234375) root 0.7392578125\n",
      "0.7392578125\n"
     ]
    }
   ],
   "source": [
    "print(\"bisection(f_bench,(0,1),1e-3,verbose=True)\")\n",
    "print(bisection(f_bench,(0,1),1e-3,verbose=True))"
   ]
  },
  {
   "cell_type": "code",
   "execution_count": 29,
   "metadata": {
    "collapsed": false
   },
   "outputs": [
    {
     "name": "stdout",
     "output_type": "stream",
     "text": [
      "bisection(f_bench,(0,1),1e-6,verbose=True)\n",
      "iteration 1 (bisection): interval (0.5, 1) root 0.75\n",
      "iteration 2 (bisection): interval (0.5, 0.75) root 0.625\n",
      "iteration 3 (bisection): interval (0.625, 0.75) root 0.6875\n",
      "iteration 4 (bisection): interval (0.6875, 0.75) root 0.71875\n",
      "iteration 5 (bisection): interval (0.71875, 0.75) root 0.734375\n",
      "iteration 6 (bisection): interval (0.734375, 0.75) root 0.7421875\n",
      "iteration 7 (bisection): interval (0.734375, 0.7421875) root 0.73828125\n",
      "iteration 8 (bisection): interval (0.73828125, 0.7421875) root 0.740234375\n",
      "iteration 9 (bisection): interval (0.73828125, 0.740234375) root 0.7392578125\n",
      "iteration 10 (bisection): interval (0.73828125, 0.7392578125) root 0.73876953125\n",
      "iteration 11 (bisection): interval (0.73876953125, 0.7392578125) root 0.739013671875\n",
      "iteration 12 (bisection): interval (0.739013671875, 0.7392578125) root 0.7391357421875\n",
      "iteration 13 (bisection): interval (0.739013671875, 0.7391357421875) root 0.73907470703125\n",
      "iteration 14 (bisection): interval (0.73907470703125, 0.7391357421875) root 0.739105224609375\n",
      "iteration 15 (bisection): interval (0.73907470703125, 0.739105224609375) root 0.7390899658203125\n",
      "iteration 16 (bisection): interval (0.73907470703125, 0.7390899658203125) root 0.7390823364257812\n",
      "iteration 17 (bisection): interval (0.7390823364257812, 0.7390899658203125) root 0.7390861511230469\n",
      "iteration 18 (bisection): interval (0.7390823364257812, 0.7390861511230469) root 0.7390842437744141\n",
      "iteration 19 (bisection): interval (0.7390842437744141, 0.7390861511230469) root 0.7390851974487305\n",
      "0.7390851974487305\n"
     ]
    }
   ],
   "source": [
    "print(\"bisection(f_bench,(0,1),1e-6,verbose=True)\")\n",
    "print(bisection(f_bench,(0,1),1e-6,verbose=True))"
   ]
  },
  {
   "cell_type": "code",
   "execution_count": 30,
   "metadata": {
    "collapsed": false
   },
   "outputs": [
    {
     "name": "stdout",
     "output_type": "stream",
     "text": [
      "bisection(f_bench,(0,1),1e-9,verbose=True)\n",
      "iteration 1 (bisection): interval (0.5, 1) root 0.75\n",
      "iteration 2 (bisection): interval (0.5, 0.75) root 0.625\n",
      "iteration 3 (bisection): interval (0.625, 0.75) root 0.6875\n",
      "iteration 4 (bisection): interval (0.6875, 0.75) root 0.71875\n",
      "iteration 5 (bisection): interval (0.71875, 0.75) root 0.734375\n",
      "iteration 6 (bisection): interval (0.734375, 0.75) root 0.7421875\n",
      "iteration 7 (bisection): interval (0.734375, 0.7421875) root 0.73828125\n",
      "iteration 8 (bisection): interval (0.73828125, 0.7421875) root 0.740234375\n",
      "iteration 9 (bisection): interval (0.73828125, 0.740234375) root 0.7392578125\n",
      "iteration 10 (bisection): interval (0.73828125, 0.7392578125) root 0.73876953125\n",
      "iteration 11 (bisection): interval (0.73876953125, 0.7392578125) root 0.739013671875\n",
      "iteration 12 (bisection): interval (0.739013671875, 0.7392578125) root 0.7391357421875\n",
      "iteration 13 (bisection): interval (0.739013671875, 0.7391357421875) root 0.73907470703125\n",
      "iteration 14 (bisection): interval (0.73907470703125, 0.7391357421875) root 0.739105224609375\n",
      "iteration 15 (bisection): interval (0.73907470703125, 0.739105224609375) root 0.7390899658203125\n",
      "iteration 16 (bisection): interval (0.73907470703125, 0.7390899658203125) root 0.7390823364257812\n",
      "iteration 17 (bisection): interval (0.7390823364257812, 0.7390899658203125) root 0.7390861511230469\n",
      "iteration 18 (bisection): interval (0.7390823364257812, 0.7390861511230469) root 0.7390842437744141\n",
      "iteration 19 (bisection): interval (0.7390842437744141, 0.7390861511230469) root 0.7390851974487305\n",
      "iteration 20 (bisection): interval (0.7390842437744141, 0.7390851974487305) root 0.7390847206115723\n",
      "iteration 21 (bisection): interval (0.7390847206115723, 0.7390851974487305) root 0.7390849590301514\n",
      "iteration 22 (bisection): interval (0.7390849590301514, 0.7390851974487305) root 0.7390850782394409\n",
      "iteration 23 (bisection): interval (0.7390850782394409, 0.7390851974487305) root 0.7390851378440857\n",
      "iteration 24 (bisection): interval (0.7390850782394409, 0.7390851378440857) root 0.7390851080417633\n",
      "iteration 25 (bisection): interval (0.7390851080417633, 0.7390851378440857) root 0.7390851229429245\n",
      "iteration 26 (bisection): interval (0.7390851229429245, 0.7390851378440857) root 0.7390851303935051\n",
      "iteration 27 (bisection): interval (0.7390851303935051, 0.7390851378440857) root 0.7390851341187954\n",
      "iteration 28 (bisection): interval (0.7390851303935051, 0.7390851341187954) root 0.7390851322561502\n",
      "iteration 29 (bisection): interval (0.7390851322561502, 0.7390851341187954) root 0.7390851331874728\n",
      "0.7390851331874728\n"
     ]
    }
   ],
   "source": [
    "print(\"bisection(f_bench,(0,1),1e-9,verbose=True)\")\n",
    "print(bisection(f_bench,(0,1),1e-9,verbose=True))"
   ]
  },
  {
   "cell_type": "markdown",
   "metadata": {},
   "source": [
    "<div class=answer>\n",
    "<div/>\n",
    "For a tolerence of 10^-3 there were 9 iterations. For a tolerence of 10^-6 there were 19 iterations. For a tolerence of 10^-9 there were 29 iterations. "
   ]
  },
  {
   "cell_type": "markdown",
   "metadata": {},
   "source": [
    "Try ```bisection``` out on the benchmark function, using the interval $(0,1)$ and a tolerance $10^{-10}$.  How many iterations are required? "
   ]
  },
  {
   "cell_type": "code",
   "execution_count": 31,
   "metadata": {
    "collapsed": false
   },
   "outputs": [
    {
     "name": "stdout",
     "output_type": "stream",
     "text": [
      "bisection(f_bench,(0,1),1e-10,verbose=True)\n",
      "iteration 1 (bisection): interval (0.5, 1) root 0.75\n",
      "iteration 2 (bisection): interval (0.5, 0.75) root 0.625\n",
      "iteration 3 (bisection): interval (0.625, 0.75) root 0.6875\n",
      "iteration 4 (bisection): interval (0.6875, 0.75) root 0.71875\n",
      "iteration 5 (bisection): interval (0.71875, 0.75) root 0.734375\n",
      "iteration 6 (bisection): interval (0.734375, 0.75) root 0.7421875\n",
      "iteration 7 (bisection): interval (0.734375, 0.7421875) root 0.73828125\n",
      "iteration 8 (bisection): interval (0.73828125, 0.7421875) root 0.740234375\n",
      "iteration 9 (bisection): interval (0.73828125, 0.740234375) root 0.7392578125\n",
      "iteration 10 (bisection): interval (0.73828125, 0.7392578125) root 0.73876953125\n",
      "iteration 11 (bisection): interval (0.73876953125, 0.7392578125) root 0.739013671875\n",
      "iteration 12 (bisection): interval (0.739013671875, 0.7392578125) root 0.7391357421875\n",
      "iteration 13 (bisection): interval (0.739013671875, 0.7391357421875) root 0.73907470703125\n",
      "iteration 14 (bisection): interval (0.73907470703125, 0.7391357421875) root 0.739105224609375\n",
      "iteration 15 (bisection): interval (0.73907470703125, 0.739105224609375) root 0.7390899658203125\n",
      "iteration 16 (bisection): interval (0.73907470703125, 0.7390899658203125) root 0.7390823364257812\n",
      "iteration 17 (bisection): interval (0.7390823364257812, 0.7390899658203125) root 0.7390861511230469\n",
      "iteration 18 (bisection): interval (0.7390823364257812, 0.7390861511230469) root 0.7390842437744141\n",
      "iteration 19 (bisection): interval (0.7390842437744141, 0.7390861511230469) root 0.7390851974487305\n",
      "iteration 20 (bisection): interval (0.7390842437744141, 0.7390851974487305) root 0.7390847206115723\n",
      "iteration 21 (bisection): interval (0.7390847206115723, 0.7390851974487305) root 0.7390849590301514\n",
      "iteration 22 (bisection): interval (0.7390849590301514, 0.7390851974487305) root 0.7390850782394409\n",
      "iteration 23 (bisection): interval (0.7390850782394409, 0.7390851974487305) root 0.7390851378440857\n",
      "iteration 24 (bisection): interval (0.7390850782394409, 0.7390851378440857) root 0.7390851080417633\n",
      "iteration 25 (bisection): interval (0.7390851080417633, 0.7390851378440857) root 0.7390851229429245\n",
      "iteration 26 (bisection): interval (0.7390851229429245, 0.7390851378440857) root 0.7390851303935051\n",
      "iteration 27 (bisection): interval (0.7390851303935051, 0.7390851378440857) root 0.7390851341187954\n",
      "iteration 28 (bisection): interval (0.7390851303935051, 0.7390851341187954) root 0.7390851322561502\n",
      "iteration 29 (bisection): interval (0.7390851322561502, 0.7390851341187954) root 0.7390851331874728\n",
      "iteration 30 (bisection): interval (0.7390851331874728, 0.7390851341187954) root 0.7390851336531341\n",
      "iteration 31 (bisection): interval (0.7390851331874728, 0.7390851336531341) root 0.7390851334203035\n",
      "iteration 32 (bisection): interval (0.7390851331874728, 0.7390851334203035) root 0.7390851333038881\n",
      "iteration 33 (bisection): interval (0.7390851331874728, 0.7390851333038881) root 0.7390851332456805\n",
      "0.7390851332456805\n"
     ]
    }
   ],
   "source": [
    "    print(\"bisection(f_bench,(0,1),1e-10,verbose=True)\")\n",
    "    print(bisection(f_bench,(0,1),1e-10,verbose=True))"
   ]
  },
  {
   "cell_type": "markdown",
   "metadata": {},
   "source": [
    "<div class=answer>\n",
    "<div/>\n",
    "There were 33 iterations"
   ]
  },
  {
   "cell_type": "markdown",
   "metadata": {},
   "source": [
    "What happens if you ask for a tolerance of $10^{-21}$?  Does it take as many iterations as you expect?  Do you get what you asked for?  Explain roughly what is going on. "
   ]
  },
  {
   "cell_type": "code",
   "execution_count": 33,
   "metadata": {
    "collapsed": false
   },
   "outputs": [
    {
     "name": "stdout",
     "output_type": "stream",
     "text": [
      "bisection(f_bench,(0,1),1e-21,verbose=True)\n",
      "iteration 1 (bisection): interval (0.5, 1) root 0.75\n",
      "iteration 2 (bisection): interval (0.5, 0.75) root 0.625\n",
      "iteration 3 (bisection): interval (0.625, 0.75) root 0.6875\n",
      "iteration 4 (bisection): interval (0.6875, 0.75) root 0.71875\n",
      "iteration 5 (bisection): interval (0.71875, 0.75) root 0.734375\n",
      "iteration 6 (bisection): interval (0.734375, 0.75) root 0.7421875\n",
      "iteration 7 (bisection): interval (0.734375, 0.7421875) root 0.73828125\n",
      "iteration 8 (bisection): interval (0.73828125, 0.7421875) root 0.740234375\n",
      "iteration 9 (bisection): interval (0.73828125, 0.740234375) root 0.7392578125\n",
      "iteration 10 (bisection): interval (0.73828125, 0.7392578125) root 0.73876953125\n",
      "iteration 11 (bisection): interval (0.73876953125, 0.7392578125) root 0.739013671875\n",
      "iteration 12 (bisection): interval (0.739013671875, 0.7392578125) root 0.7391357421875\n",
      "iteration 13 (bisection): interval (0.739013671875, 0.7391357421875) root 0.73907470703125\n",
      "iteration 14 (bisection): interval (0.73907470703125, 0.7391357421875) root 0.739105224609375\n",
      "iteration 15 (bisection): interval (0.73907470703125, 0.739105224609375) root 0.7390899658203125\n",
      "iteration 16 (bisection): interval (0.73907470703125, 0.7390899658203125) root 0.7390823364257812\n",
      "iteration 17 (bisection): interval (0.7390823364257812, 0.7390899658203125) root 0.7390861511230469\n",
      "iteration 18 (bisection): interval (0.7390823364257812, 0.7390861511230469) root 0.7390842437744141\n",
      "iteration 19 (bisection): interval (0.7390842437744141, 0.7390861511230469) root 0.7390851974487305\n",
      "iteration 20 (bisection): interval (0.7390842437744141, 0.7390851974487305) root 0.7390847206115723\n",
      "iteration 21 (bisection): interval (0.7390847206115723, 0.7390851974487305) root 0.7390849590301514\n",
      "iteration 22 (bisection): interval (0.7390849590301514, 0.7390851974487305) root 0.7390850782394409\n",
      "iteration 23 (bisection): interval (0.7390850782394409, 0.7390851974487305) root 0.7390851378440857\n",
      "iteration 24 (bisection): interval (0.7390850782394409, 0.7390851378440857) root 0.7390851080417633\n",
      "iteration 25 (bisection): interval (0.7390851080417633, 0.7390851378440857) root 0.7390851229429245\n",
      "iteration 26 (bisection): interval (0.7390851229429245, 0.7390851378440857) root 0.7390851303935051\n",
      "iteration 27 (bisection): interval (0.7390851303935051, 0.7390851378440857) root 0.7390851341187954\n",
      "iteration 28 (bisection): interval (0.7390851303935051, 0.7390851341187954) root 0.7390851322561502\n",
      "iteration 29 (bisection): interval (0.7390851322561502, 0.7390851341187954) root 0.7390851331874728\n",
      "iteration 30 (bisection): interval (0.7390851331874728, 0.7390851341187954) root 0.7390851336531341\n",
      "iteration 31 (bisection): interval (0.7390851331874728, 0.7390851336531341) root 0.7390851334203035\n",
      "iteration 32 (bisection): interval (0.7390851331874728, 0.7390851334203035) root 0.7390851333038881\n",
      "iteration 33 (bisection): interval (0.7390851331874728, 0.7390851333038881) root 0.7390851332456805\n",
      "iteration 34 (bisection): interval (0.7390851331874728, 0.7390851332456805) root 0.7390851332165767\n",
      "iteration 35 (bisection): interval (0.7390851331874728, 0.7390851332165767) root 0.7390851332020247\n",
      "iteration 36 (bisection): interval (0.7390851332020247, 0.7390851332165767) root 0.7390851332093007\n",
      "iteration 37 (bisection): interval (0.7390851332093007, 0.7390851332165767) root 0.7390851332129387\n",
      "iteration 38 (bisection): interval (0.7390851332129387, 0.7390851332165767) root 0.7390851332147577\n",
      "iteration 39 (bisection): interval (0.7390851332147577, 0.7390851332165767) root 0.7390851332156672\n",
      "iteration 40 (bisection): interval (0.7390851332147577, 0.7390851332156672) root 0.7390851332152124\n",
      "iteration 41 (bisection): interval (0.7390851332147577, 0.7390851332152124) root 0.739085133214985\n",
      "iteration 42 (bisection): interval (0.739085133214985, 0.7390851332152124) root 0.7390851332150987\n",
      "iteration 43 (bisection): interval (0.7390851332150987, 0.7390851332152124) root 0.7390851332151556\n",
      "iteration 44 (bisection): interval (0.7390851332151556, 0.7390851332152124) root 0.739085133215184\n",
      "iteration 45 (bisection): interval (0.7390851332151556, 0.739085133215184) root 0.7390851332151698\n",
      "iteration 46 (bisection): interval (0.7390851332151556, 0.7390851332151698) root 0.7390851332151627\n",
      "iteration 47 (bisection): interval (0.7390851332151556, 0.7390851332151627) root 0.7390851332151591\n",
      "iteration 48 (bisection): interval (0.7390851332151591, 0.7390851332151627) root 0.7390851332151609\n",
      "iteration 49 (bisection): interval (0.7390851332151591, 0.7390851332151609) root 0.73908513321516\n",
      "iteration 50 (bisection): interval (0.73908513321516, 0.7390851332151609) root 0.7390851332151605\n",
      "iteration 51 (bisection): interval (0.7390851332151605, 0.7390851332151609) root 0.7390851332151607\n",
      "iteration 52 (bisection): interval (0.7390851332151607, 0.7390851332151607) root 0.7390851332151607\n",
      "0.7390851332151607\n"
     ]
    }
   ],
   "source": [
    "print(\"bisection(f_bench,(0,1),1e-21,verbose=True)\")\n",
    "print(bisection(f_bench,(0,1),1e-21,verbose=True))"
   ]
  },
  {
   "cell_type": "markdown",
   "metadata": {},
   "source": [
    "<div class=answer>\n",
    "<div/>\n",
    "Our guess is 69 becuase the number of iterations seems to increase by 10 for every 10^-3 power. The actual number of iterations was 52. This is not what we expected but it is close. Since the length of the interval is getting so small that the rouding error is becoming a factor, the computer thinks that we have reached our desired accuracy when we have not. "
   ]
  },
  {
   "cell_type": "markdown",
   "metadata": {},
   "source": [
    "What happens if you use the interval $(-1,0)$, and why?"
   ]
  },
  {
   "cell_type": "markdown",
   "metadata": {},
   "source": [
    "<div class=answer>\n",
    "<div/>\n",
    "An output of \"none\" occurs. This is becasue there are no roots in the interval, and we know this because the two outer points of the interval have the same sign."
   ]
  },
  {
   "cell_type": "markdown",
   "metadata": {},
   "source": [
    "## Exercise 5: Wien's Displacement Constant\n",
    "Work out Newman's 6.13 **in a lab format**.  As in the percolation problem, \n",
    "* plot and label the numerical function you are trying to solve before \"cranking away.\"  \n",
    "* write a thoughtful description about each plot\n",
    "* take note of the tolerance you choose and the number of steps required to solve.\n",
    "\n",
    "You may use the scipy constants library if you like:\n",
    "https://docs.scipy.org/doc/scipy/reference/constants.html"
   ]
  },
  {
   "cell_type": "code",
   "execution_count": 43,
   "metadata": {
    "collapsed": false
   },
   "outputs": [
    {
     "name": "stdout",
     "output_type": "stream",
     "text": [
      "299792458.0\n",
      "299792458.0\n",
      "6.62606957e-34\n",
      "1.3806488e-23\n"
     ]
    }
   ],
   "source": [
    "from scipy.constants import c\n",
    "print(c)\n",
    "\n",
    "#or even better, remember to track where your functions come from:\n",
    "from scipy import constants as const\n",
    "print(const.c)\n",
    "print(const.h)\n",
    "print(const.k)"
   ]
  },
  {
   "cell_type": "code",
   "execution_count": 63,
   "metadata": {
    "collapsed": false
   },
   "outputs": [
    {
     "data": {
      "text/plain": [
       "<matplotlib.lines.Line2D at 0x908c3c8>"
      ]
     },
     "execution_count": 63,
     "metadata": {},
     "output_type": "execute_result"
    },
    {
     "data": {
      "image/png": "[encoded data removed]",
      "text/plain": [
       "<matplotlib.figure.Figure at 0x8e6d080>"
      ]
     },
     "metadata": {},
     "output_type": "display_data"
    }
   ],
   "source": [
    "T = 5000\n",
    "alpha = (const.h * const.c) / (const.k)\n",
    "\n",
    "def plankEquation (x):\n",
    "    \"\"\"Calculates the nemerical model for Plank's law of radiation\n",
    "    \n",
    "    Arguements: x - h*c/lambda*kb*T\n",
    "                \n",
    "    Retured: The numerical solution at x\n",
    "    \"\"\"\n",
    "    return 5*math.exp(-x) + x - 5\n",
    "\n",
    "xValues = np.linspace (0, 10)\n",
    "yValues = []\n",
    "for i in xValues:\n",
    "    yValues.append(plankEquation (i))\n",
    "    \n",
    "fig = plt.figure(figsize=(7,7))\n",
    "ax = fig.add_subplot(111)\n",
    "\n",
    "ax.plot(xValues, yValues, label = \"Numerical Model\")\n",
    "\n",
    "ax.legend(loc='best')\n",
    "ax.set_xlabel('x')\n",
    "ax.set_ylabel('f(x)')\n",
    "#ax.set_aspect('equal')\n",
    "    \n",
    "ax.axhline(y=0,ls='--',color='gray')"
   ]
  },
  {
   "cell_type": "code",
   "execution_count": 64,
   "metadata": {
    "collapsed": false
   },
   "outputs": [
    {
     "name": "stdout",
     "output_type": "stream",
     "text": [
      "4.965113639831543\n"
     ]
    }
   ],
   "source": [
    "# Part b\n",
    "solution = bisection(plankEquation,(4,6),1e-6)\n",
    "print (solution)"
   ]
  },
  {
   "cell_type": "code",
   "execution_count": 65,
   "metadata": {
    "collapsed": false
   },
   "outputs": [
    {
     "name": "stdout",
     "output_type": "stream",
     "text": [
      "0.002897772466759956\n"
     ]
    }
   ],
   "source": [
    "displacementConstant = alpha / solution\n",
    "print (displacementConstant)"
   ]
  },
  {
   "cell_type": "code",
   "execution_count": 66,
   "metadata": {
    "collapsed": false
   },
   "outputs": [
    {
     "name": "stdout",
     "output_type": "stream",
     "text": [
      "5772.455113067641\n"
     ]
    }
   ],
   "source": [
    "# Part c\n",
    "sunTemp = displacementConstant / 502e-9\n",
    "print (sunTemp)"
   ]
  },
  {
   "cell_type": "markdown",
   "metadata": {},
   "source": [
    "## Exercise 6: Newton-Raphson method\n",
    "\n",
    "Now let us go ahead and code a function to implement the Newton-Raphson method.  I have gotten us started by defining the interface:"
   ]
  },
  {
   "cell_type": "code",
   "execution_count": 75,
   "metadata": {
    "collapsed": false
   },
   "outputs": [],
   "source": [
    "def newton(f,fp,x_guess,tolerance,verbose=False,max_iterations=100):\n",
    "    \"\"\" Find root by Newton's method.\n",
    "\n",
    "    The 'approximation' x_i at each iteration is defined by Newton's\n",
    "    method, in terms of the previous approximation x_(i-1).\n",
    "    \n",
    "    The 'error' x_i-x_(i-1) is defined by the difference in successive\n",
    "    approximations.\n",
    "\n",
    "    Returns None if the maximum number of iterations is reached\n",
    "    without satisfying the tolerance.  Also returns None if\n",
    "    rootfinding lands on point where f has zero slope.  Otherwise,\n",
    "    returns final approximation x_i when termination condition is\n",
    "    reached.\n",
    "\n",
    "    f: function for rootfinding\n",
    "    fp: derivative of function for rootfinding (i.e., 'f prime')\n",
    "    x_guess: initial guess point\n",
    "    tolerance: error at which search should terminate\n",
    "    verbose (optional): whether or not to print iteration log\n",
    "    max_iterations (optional): limit on number of iterations\n",
    "    \"\"\"\n",
    "\n",
    "    # set up for first iteration\n",
    "    x = x_guess\n",
    "    error = 2*tolerance  # set error big enough to get past while condition\n",
    "    iteration_count = 0\n",
    "\n",
    "    while abs(error) > tolerance and iteration_count < max_iterations:\n",
    "        xp = x - (f(x) / fp(x))\n",
    "        error = xp - x\n",
    "        x = xp\n",
    "        if verbose == True:\n",
    "            print (xp, error)\n",
    "        iteration_count += 1\n",
    "        \n",
    "    return x\n"
   ]
  },
  {
   "cell_type": "markdown",
   "metadata": {},
   "source": [
    "Notice that, in case of complete failure, we should put in a maximum number of iterations as a \"safety net\", to avoid an infinite loop.\n",
    "\n",
    "Try your function out on our benchmark function, picking starting points reasonably near the root.  Actually, when it comes time to print out a test case to hand in, please use $x_0=0.5$.\n",
    "\n",
    "Now, we probably thought of bisection as being pretty \"fast\" as a way to get to the root.  After all, we saw in **Exercise 3** the error in the bisection method falls exponentially with the number of iterations\n",
    "$$\n",
    "\\epsilon_i \\propto \\frac{1}{2^i}.\n",
    "$$\n",
    "And \"exponential\" is \"fast\", right?  But from Newman you have seen that we expect the Newton-Raphson method to be even faster, at least, once we have gotten close enough to a root that the function is basically described by the first couple of terms in its Taylor series around that root.\n",
    " \n",
    "So let us actually compare the performance of ```bisect``` and ```newton```.  We have already run the necessary test cases.  For ```bisect```, we started with the initial interval $(0,1)$, and, for ```newton```, \n",
    "we used $x_0=0.5$, which is the midpoint of this interval.  So it seems reasonable to compare these test cases.  Based on your log of iterations (from the verbose output) make a table indicating how many how many digits of\n",
    "the answer $x_i$ are correct, with each method, after each iteration ($i=0$, $1$, $2$, $\\ldots$)."
   ]
  },
  {
   "cell_type": "code",
   "execution_count": 77,
   "metadata": {
    "collapsed": false
   },
   "outputs": [
    {
     "name": "stdout",
     "output_type": "stream",
     "text": [
      "0.7552224171056364 0.2552224171056364\n",
      "0.7391416661498792 -0.016080750955757228\n",
      "0.7390851339208068 -5.653222907242572e-05\n",
      "0.7390851332151607 -7.056460971099909e-10\n"
     ]
    },
    {
     "data": {
      "text/plain": [
       "0.7390851332151607"
      ]
     },
     "execution_count": 77,
     "metadata": {},
     "output_type": "execute_result"
    }
   ],
   "source": [
    "newton(f_bench,fp_bench,0.5,1e-8, verbose = True)"
   ]
  },
  {
   "cell_type": "code",
   "execution_count": 106,
   "metadata": {
    "collapsed": false
   },
   "outputs": [
    {
     "name": "stdout",
     "output_type": "stream",
     "text": [
      "Newton digits with  1 iterations = 2 Bisection digits with  1 iterations = 2\n",
      "Newton digits with  2 iterations = 5 Bisection digits with  2 iterations = 1\n",
      "Newton digits with  3 iterations = 10 Bisection digits with  3 iterations = 2\n",
      "Newton digits with  4 iterations = 16 Bisection digits with  4 iterations = 2\n",
      "Newton digits with  5 iterations = 16 Bisection digits with  5 iterations = 3\n",
      "Newton digits with  6 iterations = 16 Bisection digits with  6 iterations = 3\n",
      "Newton digits with  7 iterations = 16 Bisection digits with  7 iterations = 4\n",
      "Newton digits with  8 iterations = 16 Bisection digits with  8 iterations = 3\n",
      "Newton digits with  9 iterations = 16 Bisection digits with  9 iterations = 4\n",
      "Newton digits with  10 iterations = 16 Bisection digits with  10 iterations = 4\n",
      "Newton digits with  11 iterations = 16 Bisection digits with  11 iterations = 5\n",
      "Newton digits with  12 iterations = 16 Bisection digits with  12 iterations = 5\n",
      "Newton digits with  13 iterations = 16 Bisection digits with  13 iterations = 5\n",
      "Newton digits with  14 iterations = 16 Bisection digits with  14 iterations = 5\n",
      "Newton digits with  15 iterations = 16 Bisection digits with  15 iterations = 6\n",
      "Newton digits with  16 iterations = 16 Bisection digits with  16 iterations = 6\n",
      "Newton digits with  17 iterations = 16 Bisection digits with  17 iterations = 6\n",
      "Newton digits with  18 iterations = 16 Bisection digits with  18 iterations = 7\n",
      "Newton digits with  19 iterations = 16 Bisection digits with  19 iterations = 8\n",
      "Newton digits with  20 iterations = 16 Bisection digits with  20 iterations = 8\n",
      "Newton digits with  21 iterations = 16 Bisection digits with  21 iterations = 8\n",
      "Newton digits with  22 iterations = 16 Bisection digits with  22 iterations = 8\n",
      "Newton digits with  23 iterations = 16 Bisection digits with  23 iterations = 8\n",
      "Newton digits with  24 iterations = 16 Bisection digits with  24 iterations = 8\n",
      "Newton digits with  25 iterations = 16 Bisection digits with  25 iterations = 8\n",
      "Newton digits with  26 iterations = 16 Bisection digits with  26 iterations = 8\n",
      "Newton digits with  27 iterations = 16 Bisection digits with  27 iterations = 8\n",
      "Newton digits with  28 iterations = 16 Bisection digits with  28 iterations = 8\n",
      "Newton digits with  29 iterations = 16 Bisection digits with  29 iterations = 8\n",
      "Newton digits with  30 iterations = 16 Bisection digits with  30 iterations = 8\n"
     ]
    }
   ],
   "source": [
    "iteration = range(1,31)\n",
    "actual = 0.7390851332151607\n",
    "\n",
    "for i in iteration:\n",
    "    approxN = newton(f_bench,fp_bench,0.5,1e-8, max_iterations=i)\n",
    "    errorN = actual - approxN\n",
    "    digitsN = 0\n",
    "    while abs(errorN) < 1 and digitsN < 30:\n",
    "        errorN = errorN * 10\n",
    "        digitsN += 1\n",
    "        \n",
    "    if digitsN > 16:\n",
    "        digitsN = 16\n",
    "        \n",
    "    \n",
    "    approxB = bisection(f_bench,(0,1),1e-6,maxIterations=i)\n",
    "    errorB = actual - approxB\n",
    "    digitsB = 0\n",
    "    while abs(errorB) < 1 and digitsB < 30:\n",
    "        errorB = errorB * 10\n",
    "        digitsB += 1\n",
    "        \n",
    "    if digitsB > 16:\n",
    "        digitsB = 16\n",
    "        \n",
    "    print (\"Newton digits with \", i, \"iterations =\", digitsN, \"Bisection digits with \", i, \"iterations =\", digitsB)"
   ]
  },
  {
   "cell_type": "markdown",
   "metadata": {},
   "source": [
    "<div class=answer>\n",
    "<div/>\n"
   ]
  },
  {
   "cell_type": "markdown",
   "metadata": {},
   "source": [
    "For the *bisection* method, does the growth in the number of correct digits look linear in the number of iterations, or perhaps quadratic, or exponential?  How about for the *Newton-Raphson* method (the trend here may be\n",
    "harder to judge by eye)?  Explain these results in terms of the expected convergence rates (from Newman)."
   ]
  },
  {
   "cell_type": "markdown",
   "metadata": {},
   "source": [
    "<div class=answer>\n",
    "<div/>\n",
    "For the bisection method, the growth in the number of correct digits appears to be logerithmic. This makes sense, because the length of the interval decreases by a factor of 2 at each iteration. For Newton's method, the growth in the number of correct digits appears to be quadratic. This makes sense, because in Newman's explanation, the error decreses by a factor of the previous error squared. "
   ]
  },
  {
   "cell_type": "markdown",
   "metadata": {},
   "source": [
    "What happens if you start Newton's method instead with the initial guess point $x=5$?  How about $x=10$?  Explain what's going on.  It will help to look back at your plot of this function.  "
   ]
  },
  {
   "cell_type": "code",
   "execution_count": 107,
   "metadata": {
    "collapsed": false
   },
   "outputs": [
    {
     "name": "stdout",
     "output_type": "stream",
     "text": [
      "-109.82056070484798 -114.82056070484798\n",
      "15.960777561082068 125.78133826593005\n",
      "-6.615115461729538 -22.575893022811606\n",
      "4.600099704729104 11.215215166458641\n",
      "-743.6197251930475 -748.2198248977767\n",
      "3090.7583906372142 3834.378115830262\n",
      "-3606.140072709168 -6696.898463346382\n",
      "-1024.218222635432 2581.921850073736\n",
      "65.25924707762556 1089.4774697130576\n",
      "25.37140273241846 -39.8878443452071\n",
      "5.63692971597947 -19.73447301643899\n",
      "-6.52647233436393 -12.1634020503434\n",
      "3.3496519726974086 9.876124307061339\n",
      "-2.1051947424657396 -5.454846715163148\n",
      "9.340912110729942 11.446106853195682\n",
      "-0.19747756557924134 -9.538389676309183\n",
      "1.2681072760549799 1.4655848416342212\n",
      "0.771816587211259 -0.49629068884372085\n",
      "0.739313671562077 -0.03250291564918206\n",
      "0.7390851447450119 -0.00022852681706508893\n",
      "0.7390851332151607 -1.1529851184910456e-08\n",
      "0.7390851332151607 0.0\n"
     ]
    },
    {
     "data": {
      "text/plain": [
       "0.7390851332151607"
      ]
     },
     "execution_count": 107,
     "metadata": {},
     "output_type": "execute_result"
    }
   ],
   "source": [
    "newton(f_bench,fp_bench,5,1e-8, verbose = True)"
   ]
  },
  {
   "cell_type": "code",
   "execution_count": 113,
   "metadata": {
    "collapsed": false
   },
   "outputs": [
    {
     "name": "stdout",
     "output_type": "stream",
     "text": [
      "-13.770994201546603 -23.770994201546603\n",
      "199.35117751530382 213.12217171685043\n",
      "-20202.926342870745 -20402.27752038605\n",
      "31592.34177166328 51795.268114534025\n",
      "10059.580115835786 -21532.761655827493\n",
      "1671.1192026543067 -8388.46091318148\n",
      "-433.8983151322527 -2105.0175177865594\n",
      "236.00274675528692 669.9010618875396\n",
      "-142.46844918750787 -378.4711959427948\n",
      "-67.31957649476091 75.14887269274696\n",
      "-33.3442558989409 33.97532059582001\n",
      "488.41204795953547 521.7563038584764\n",
      "-87192.766475474 -87681.17852343353\n",
      "470338.1773171524 557530.9437926264\n",
      "-1806200.5661173384 -2276538.7434344906\n",
      "-903074.919692168 903125.6464251704\n",
      "-415663.71518534905 487411.20450681896\n",
      "-118233.25235400954 297430.4628313395\n",
      "146863.11334795697 265096.3657019665\n",
      "-9370.856705585727 -156233.9700535427\n",
      "9067.504535656466 18438.361241242194\n",
      "3925.0158936009684 -5142.488642055498\n",
      "-44805.14277324305 -48730.15866684402\n",
      "-8931.684440842328 35873.458332400725\n",
      "-1070.8706372661863 7860.813803576141\n",
      "714.9526285580296 1785.823265824216\n",
      "-24159.094026639432 -24874.04665519746\n",
      "7799.980014924829 31959.07404156426\n",
      "2799.8817087162097 -5000.09830620862\n",
      "-5470.789019377118 -8270.670728093328\n",
      "-2675.328509578843 2795.4605097982753\n",
      "-1314.2459516130984 1361.0825579657444\n",
      "8994.503025697262 10308.74897731036\n",
      "-1261.9938631984369 -10256.4968888957\n",
      "-560.3390668151701 701.6547963832668\n",
      "5454.891618860409 6015.230685675579\n",
      "2561.495557583518 -2893.396061276891\n",
      "-20748.26636472557 -23309.761922309088\n",
      "266641.46269220265 287389.7290569282\n",
      "128980.38913535711 -137661.07355684554\n",
      "-374601.40456448874 -503581.79369984585\n",
      "-173361.3318778897 201240.07268659904\n",
      "2074931.389862353 2248292.7217402426\n",
      "-2259426.106629567 -4334357.49649192\n",
      "-1048424.2744233722 1211001.832206195\n",
      "-375612.23133710166 672812.0430862706\n",
      "-79560.83963105257 296051.3917060491\n",
      "-450.25794402201427 79110.58168703056\n",
      "-206.75929713590494 243.49864688610933\n",
      "-73.07710650482838 133.68219063107657\n",
      "-31.265681637051635 41.81142486777674\n",
      "-3.2105634128167893 28.055118224234846\n",
      "-1.1402971187843933 2.070266294032396\n",
      "15.93093793605096 17.071235054835352\n",
      "-5.775145447615056 -21.706083383666016\n",
      "-1.302223143436299 4.472922304178757\n",
      "42.424435184724665 43.726658328160966\n",
      "-506982.9817305641 -507025.40616574883\n",
      "-228078.39003963931 278904.5916909248\n",
      "-110794.84073314031 117283.549306499\n",
      "-24805.513725102865 85989.32700803745\n",
      "-8056.477059792684 16749.03666531018\n",
      "848037.999725729 856094.4767855217\n",
      "229275.92281453032 -618762.0769111987\n",
      "86486.0800607203 -142789.84275381002\n",
      "-1037247.0273538231 -1123733.1074145434\n",
      "-51913.18543889758 985333.8419149255\n",
      "26651223.4370163 26703136.6224552\n",
      "-12103784.316555217 -38755007.75357152\n",
      "18806233.0104869 30910017.327042118\n",
      "-9746708.338285565 -28552941.348772466\n",
      "-4690441.255750039 5056267.082535527\n",
      "-1624378.3302624696 3066062.925487569\n",
      "-742484.0865076375 881894.2437548321\n",
      "63405.86351012578 805889.9500177633\n",
      "27863.292452458838 -35542.571057666944\n",
      "-26319.576664888024 -54182.86911734686\n",
      "-10210.676564537449 16108.900100350575\n",
      "9419.828227305336 19630.504791842784\n",
      "4643.0753869181635 -4776.752840387172\n",
      "-1139.6869433969377 -5782.762330315101\n",
      "2140.0316937701023 3279.71863716704\n",
      "-2844.322101006003 -4984.353794776105\n",
      "-1366.8662413077811 1477.4558596982217\n",
      "-291.3876066104781 1075.478634697303\n",
      "689.4432414023199 980.830848012798\n",
      "-73612.78630236792 -74302.22954377024\n",
      "-33785.092792315285 39827.69351005264\n",
      "22002.599277393427 55787.69206970871\n",
      "-194138.78356533227 -216141.3828427257\n",
      "766875.1604995576 961013.9440648899\n",
      "-159029.01731516898 -925904.1778147266\n",
      "456421001.0995867 456580030.1169019\n",
      "97951835.5095734 -358469165.5900133\n",
      "-1485533970.9949284 -1583485806.5045018\n",
      "-590769456.3346814 894764514.660247\n",
      "13276161028.092415 13866930484.427095\n",
      "-17081192263.640766 -30357353291.73318\n",
      "-7844308733.150286 9236883530.49048\n",
      "1110711643.7534924 8955020376.903778\n",
      "250014772.37655818 -860696871.3769342\n",
      "-676492344.840429 -926507117.2169871\n",
      "-298743609.6318328 377748735.20859617\n",
      "3958486478.44904 4257230088.0808725\n",
      "1943695581.4902785 -2014790896.9587615\n",
      "-10556647309.883276 -12500342891.373554\n",
      "-4771110347.437308 5785536962.445968\n",
      "-2221910629.0214396 2549199718.4158688\n",
      "-1099063803.4653113 1122846825.5561283\n",
      "1407230954.8416078 2506294758.306919\n",
      "-392198148.467679 -1799429103.3092868\n",
      "296361.26998877525 392494509.7376678\n",
      "128569.86227866675 -167791.4077101085\n",
      "-28590.29547148352 -157160.15775015028\n",
      "1042881.9457907003 1071472.2412621838\n",
      "-10995959.383110695 -12038841.328901395\n",
      "341460041.92590994 352456001.30902064\n",
      "-116265776.8837775 -457725818.80968744\n",
      "178298639.84825063 294564416.7320281\n",
      "-400203066.0942559 -578501705.9425066\n",
      "11986749605.32571 12386952671.419966\n",
      "5885699436.195599 -6101050169.130112\n",
      "-49984613002.06163 -55870312438.25723\n",
      "-23969692811.013847 26014920191.047783\n",
      "4122343278658.613 4146312971469.6265\n",
      "1920839169334.3242 -2201504109324.2886\n",
      "660883898222.0796 -1259955271112.2446\n",
      "-1289710172007.6282 -1950594070229.7078\n",
      "-442290353285.0513 847419818722.5769\n",
      "3793232453580.024 4235522806865.075\n",
      "-12962269203910.734 -16755501657490.758\n",
      "7095867001479474.0 7108829270683385.0\n",
      "-6.919419081785414e+16 -7.629005781933362e+16\n",
      "5.02373263823832e+16 1.1943151720023734e+17\n",
      "2.071661670500598e+16 -2.952070967737722e+16\n",
      "1184876399082648.0 -1.9531740305923332e+16\n",
      "-3.519244039505047e+16 -3.637731679413312e+16\n",
      "5067866339976976.0 4.026030673502745e+16\n",
      "-547267615545690.0 -5615133955522666.0\n",
      "-123629343320678.06 423638272225011.94\n",
      "-43743944357105.03 79885398963573.03\n",
      "47710290217557.16 91454234574662.19\n",
      "19383450076530.215 -28326840141026.94\n",
      "-8666996581680224.0 -8686380031756754.0\n",
      "3260895795200190.0 1.1927892376880414e+16\n",
      "471709893668393.0 -2789185901531797.0\n",
      "162297973650591.3 -309411920017801.7\n",
      "-5259361025126393.0 -5421658998776984.0\n",
      "8675291762147311.0 1.3934652787273704e+16\n",
      "-1.1160850976344288e+17 -1.2028380152559019e+17\n",
      "-1.7383806085159472e+16 9.422470367828341e+16\n",
      "-6742246488129012.0 1.064155959703046e+16\n",
      "7200374789985960.0 1.3942621278114972e+16\n",
      "3531826366367007.5 -3668548423618952.5\n",
      "-2358102103062601.5 -5889928469429609.0\n",
      "1105480079636293.0 3463582182698894.5\n",
      "475678458238962.4 -629801621397330.6\n",
      "-343049457242539.0 -818727915481501.4\n",
      "-141155813227261.44 201893644015277.56\n",
      "877835582513.9375 142033648809775.38\n",
      "196349777842.87256 -681485804671.065\n",
      "-2481513812553.602 -2677863590396.4746\n",
      "-1230230650315.1218 1251283162238.4802\n",
      "-593783998815.0134 636446651500.1084\n",
      "29803342348024.55 30397126346839.562\n",
      "12191868199970.8 -17611474148053.75\n",
      "6091295763775.773 -6100572436195.027\n",
      "-18844104332654.137 -24935400096429.91\n",
      "273430180755174.75 292274285087828.9\n",
      "12205155746962.688 -261225025008212.06\n",
      "-8203872487296.633 -20409028234259.32\n",
      "-3555074760621.1104 4648797726675.522\n",
      "3786988366650.843 7342063127271.953\n",
      "-406438352999.38135 -4193426719650.224\n",
      "-44853476162.01825 361584876837.3631\n",
      "14701400542.899307 59554876704.91756\n",
      "-1064636402049.883 -1079337802592.7823\n",
      "-513380784443.2643 551255617606.6188\n",
      "-102871585593.94623 410509198849.31805\n",
      "-12679079416.0932 90192506177.85303\n",
      "-3927334891.235729 8751744524.857471\n",
      "8072652119.519251 11999987010.75498\n",
      "-83725145923.21225 -91797798042.7315\n",
      "-41705422153.69361 42019723769.51864\n",
      "1470698097.785843 43176120251.479454\n",
      "388616201.82553244 -1082081895.9603105\n",
      "31113612.31526965 -357502589.5102628\n",
      "15124480.105230538 -15989132.21003911\n",
      "-1820911349.4196026 -1836035829.5248332\n",
      "26157415515.034256 27978326864.453857\n",
      "-2344837447780.1753 -2370994863295.2095\n",
      "43540405599088.72 45885243046868.89\n",
      "1600889429561.625 -41939516169527.09\n",
      "782572986136.3236 -818316443425.3014\n",
      "-40123910180461.9 -40906483166598.22\n",
      "-20007015944101.613 20116894236360.285\n",
      "59918221454130.625 79925237398232.23\n",
      "-4.526682135368382e+16 -4.532673957513795e+16\n",
      "-1.6406007604261592e+16 2.886081374942223e+16\n",
      "-7911892605241954.0 8494114999019638.0\n",
      "-3914687100821897.5 3997205504420056.5\n",
      "-1809679807384034.5 2105007293437863.0\n",
      "4230074441803489.5 6039754249187524.0\n",
      "2062559971896195.2 -2167514469907294.2\n",
      "1003360888040780.2 -1059199083855415.0\n",
      "-473338250197439.75 -1476699138238220.0\n",
      "-216883791363715.0 256454458833724.75\n",
      "-59645746573973.59 157238044789741.4\n",
      "133609282141962.25 193255028715935.84\n",
      "-9284947274208.969 -142894229416171.22\n",
      "-1162681058897.6162 8122266215311.353\n",
      "-482098755963.5094 680582302934.1068\n",
      "191477482305.42712 673576238268.9365\n",
      "-3666990439571.6196 -3858467921877.047\n",
      "-805079144663.6597 2861911294907.96\n",
      "807530572839.492 1612609717503.1516\n",
      "402865115398.3697 -404665457441.12225\n",
      "-250507641075.7221 -653372756474.0918\n",
      "14136443221.039581 264644084296.7617\n",
      "6032614300.138023 -8103828920.901558\n",
      "-17642533504.125515 -23675147804.26354\n",
      "-7968498509.830013 9674034994.295502\n",
      "-3469367497.0588818 4499131012.7711315\n",
      "-925658395.8701749 2543709101.188707\n",
      "9598128544.533749 10523786940.403923\n",
      "4706334758.113662 -4891793786.420087\n",
      "-6569928655.575141 -11276263413.688803\n",
      "152690066488.66568 159259995144.2408\n",
      "-3134603667975.161 -3287293734463.8267\n",
      "556836849410841.3 559971453078816.5\n",
      "-4.314219139044106e+17 -4.3197875075382144e+17\n",
      "-1.053862771716722e+17 3.260356367327384e+17\n",
      "7.2630275194467885e+19 7.273566147163956e+19\n",
      "2.6844959563363836e+19 -4.578531563110405e+19\n",
      "1.229218753429191e+19 -1.4552772029071925e+19\n",
      "-2.380779661608389e+19 -3.60999841503758e+19\n",
      "6.669360850215014e+19 9.050140511823403e+19\n",
      "-1.6400287681344708e+21 -1.7067223766366209e+21\n",
      "-4.321099406718505e+20 1.2079188274626203e+21\n",
      "-1.4126200005902326e+20 2.9084794061282722e+20\n",
      "-6.944515338019574e+19 7.1816846678827524e+19\n",
      "-1.224099494383027e+19 5.720415843636547e+19\n",
      "1.9931427470706237e+19 3.2172422414536507e+19\n",
      "9.868296684501326e+18 -1.0063130786204912e+19\n",
      "4.91896349926826e+18 -4.949333185233066e+18\n",
      "-2.5512065056675604e+18 -7.47017000493582e+18\n",
      "-7.128609296446413e+16 2.4799204127030963e+18\n",
      "-3.5552770428252324e+16 3.5733322536211804e+16\n",
      "-1730002723220148.0 3.3822767705032176e+16\n",
      "-681235124394185.1 1048767598825962.9\n",
      "-338739178658263.25 342495945735921.9\n",
      "8.129698788177752e+17 8.133086179964335e+17\n",
      "2.6488603956657178e+17 -5.4808383925120346e+17\n",
      "1.322804149609217e+17 -1.3260562460565008e+17\n",
      "-1.7775369098191632e+17 -3.10034105942838e+17\n",
      "9.671253518854234e+16 2.7446622617045866e+17\n",
      "-2.8008803566344915e+17 -3.768005708519915e+17\n",
      "1.3273330597214656e+17 4.128213416355957e+17\n",
      "3.752202503424714e+16 -9.521128093789942e+16\n",
      "1.0911546478862048e+16 -2.661047855538509e+16\n",
      "5196952298006347.0 -5714594180855701.0\n",
      "-2.3769440215219868e+16 -2.8966392513226216e+16\n",
      "-1872109476124244.0 2.1897330739095624e+16\n",
      "695206399010186.0 2567315875134430.0\n",
      "-2073725335827740.0 -2768931734837926.0\n",
      "-45206683340679.5 2028518652487060.5\n",
      "413514593501787.2 458721276842466.7\n",
      "194047581064243.8 -219467012437543.38\n",
      "-1411210011489969.0 -1605257592554212.8\n",
      "-163301549142354.0 1247908462347615.0\n",
      "-79639472430653.42 83662076711700.58\n",
      "2860288367694152.5 2939927840124806.0\n",
      "597347172445625.0 -2262941195248527.5\n",
      "110538339010379.31 -486808833435245.7\n",
      "-54654269960284.78 -165192608970664.1\n",
      "1610712178543966.5 1665366448504251.2\n",
      "-1.6492283764164033e+19 -1.6493894476342577e+19\n",
      "3.352607490110587e+20 3.517530327752227e+20\n",
      "-8.701916252461916e+21 -9.037177001472975e+21\n",
      "5.3943084784784475e+22 6.264500103724639e+22\n",
      "1.006022826030385e+22 -4.3882856524480625e+22\n",
      "-3.66014630316734e+21 -1.372037456347119e+22\n",
      "5.77588718760187e+22 6.141901817918604e+22\n",
      "2.4142738477152865e+22 -3.3616133398865834e+22\n",
      "-1.6566705162732226e+22 -4.070944363988509e+22\n",
      "-8.283266940135961e+21 8.283438222596264e+21\n",
      "-2.858862608593084e+21 5.424404331542877e+21\n",
      "-1.4085932118825317e+21 1.4502693967105522e+21\n",
      "-6.155187584946096e+20 7.930744533879221e+20\n",
      "-1.3964600493110034e+20 4.7587275356350926e+20\n",
      "5.141317005596259e+19 1.9105917498706294e+20\n",
      "-7.862160678588378e+19 -1.3003477684184637e+20\n",
      "2.7289043622158664e+18 8.135051114809965e+19\n",
      "1.1933123268456394e+18 -1.535592035370227e+18\n",
      "5.92048437034684e+17 -6.012638898109554e+17\n",
      "1.3709204825382694e+17 -4.549563887808571e+17\n",
      "-2.3957231230570694e+17 -3.766643605595339e+17\n",
      "1.8327969333277847e+18 2.0723692456334917e+18\n",
      "3.2266918828125005e+17 -1.5101277450465347e+18\n",
      "-2.852963121670853e+20 -2.8561898135536655e+20\n",
      "-1.4226531702107583e+20 1.4303099514600948e+20\n",
      "-2.0584070990540472e+19 1.2168124603053536e+20\n",
      "9.482281053446353e+18 3.0066352043986825e+19\n",
      "-1.195572515742597e+18 -1.067785356918895e+19\n",
      "1.0116949302927557e+18 2.2072674460353528e+18\n",
      "-2.218976547298455e+17 -1.2335925850226012e+18\n",
      "1.8723877924074317e+17 4.091364339705887e+17\n",
      "-1.2538408616846167e+18 -1.4410796409253599e+18\n",
      "1.0932395461151283e+17 1.3631648162961295e+18\n",
      "3.031191431372837e+16 -7.901204029778446e+16\n",
      "9067327384808572.0 -2.1244586928919796e+16\n",
      "2519861210553151.0 -6547466174255421.0\n",
      "1258111301431713.5 -1261749909121437.5\n",
      "-7.796573238015667e+17 -7.809154351029984e+17\n",
      "9.531455949867223e+18 1.031111327366879e+19\n",
      "3.890708388182993e+18 -5.64074756168423e+18\n",
      "-1.4044583596540125e+19 -1.7935291984723118e+19\n",
      "4.465595918590318e+20 4.606041754555719e+20\n",
      "1.5701385364957833e+20 -2.8954573820945344e+20\n",
      "-8.170320475105808e+19 -2.387170584006364e+20\n",
      "4.823690133994617e+19 1.2994010609100425e+20\n",
      "5.73117978649011e+18 -4.250572155345606e+19\n",
      "2.77621549311814e+18 -2.95496429337197e+18\n",
      "-3.4899217116464154e+18 -6.266137204764555e+18\n",
      "3.043117665671774e+20 3.0780168827882386e+20\n",
      "9.585108517239511e+19 -2.084606813947823e+20\n",
      "-9.557902758189038e+20 -1.0516413609912989e+21\n",
      "8.465960778755964e+21 9.421751054574868e+21\n",
      "4.1977409795552885e+21 -4.2682197992006757e+21\n",
      "2.043101471610899e+21 -2.1546395079443895e+21\n",
      "8.993128062711718e+20 -1.1437886653397272e+21\n",
      "3.184279248198979e+20 -5.8088488145127395e+20\n",
      "-1.869828661054243e+19 -3.371262114304403e+20\n",
      "4.186182068741607e+21 4.204880355352149e+21\n",
      "1.962130780374486e+21 -2.224051288367121e+21\n",
      "9.186413215374293e+20 -1.0434894588370567e+21\n",
      "4.039009483519037e+20 -5.147403731855256e+20\n",
      "1.6362322162207834e+20 -2.402777267298254e+20\n",
      "2.965673961832471e+19 -1.3396648200375363e+20\n",
      "1.479471750214313e+19 -1.486202211618158e+19\n",
      "-3.605051405522434e+20 -3.7529985805438655e+20\n",
      "3.0119124670420935e+21 3.372417607594337e+21\n",
      "-8.595691782169188e+27 -8.595694794081655e+27\n",
      "-1.2355279376725699e+27 7.360163844496618e+27\n",
      "-6.1490032694193734e+26 6.206276107306325e+26\n",
      "-9.128254444817859e+25 5.2361778249375876e+26\n",
      "1.0065467935431799e+26 1.9193722380249658e+26\n",
      "-3.2129453798863125e+25 -1.3278413315318111e+26\n",
      "-1.3342201029886367e+25 1.8787252768976758e+25\n",
      "-5.607230600922387e+24 7.73497042896398e+24\n",
      "8.368855545133952e+24 1.3976086146056339e+25\n",
      "7.351257655611759e+23 -7.633729779572776e+24\n",
      "-1.929918651682026e+22 -7.544249520779962e+23\n",
      "1.8717521219884832e+23 2.0647439871566858e+23\n",
      "6.043049713978572e+22 -1.267447150590626e+23\n",
      "3.0209193188378406e+22 -3.0221303951407314e+22\n",
      "-1.4392176724510023e+23 -1.7413096043347864e+23\n",
      "2.1388610673412407e+22 1.6531037791851264e+23\n",
      "-1.5869821158022047e+23 -1.800868222536329e+23\n",
      "-6.697931484414507e+22 9.17188967360754e+22\n",
      "-2.0831356710406236e+22 4.614795813373883e+22\n",
      "-7.012422206662984e+21 1.3818934503743253e+22\n",
      "2.73242561027036e+21 9.744847816933343e+21\n",
      "-6.954873325989751e+21 -9.68729893626011e+21\n",
      "-3.465073797666779e+21 3.489799528322972e+21\n",
      "-1.3174578594983114e+21 2.1476159381684675e+21\n",
      "1.0486795220257808e+21 2.366137381524092e+21\n",
      "4.4702587120458046e+20 -6.016536508212003e+20\n",
      "-3.122598968044884e+20 -7.592857680090688e+20\n",
      "2.269732508771801e+22 2.30095849845225e+22\n",
      "-1.0896755042419762e+22 -3.359408013013777e+22\n",
      "1.6218512957023317e+21 1.2518606338122093e+22\n",
      "7.453886324927971e+20 -8.764626632095346e+20\n",
      "3.6472258404678094e+20 -3.806660484460161e+20\n",
      "6.952931146688037e+18 -3.577696529000929e+20\n",
      "3.2741204376711895e+18 -3.6788107090168474e+18\n",
      "1.6213093550687619e+18 -1.6528110826024276e+18\n",
      "-8.457470817295632e+18 -1.0078780172364394e+19\n",
      "-4.2198167446940887e+18 4.2376540726015437e+18\n",
      "-2.1082635313675666e+18 2.111553213326522e+18\n",
      "3.1865280931199293e+18 5.294791624487496e+18\n",
      "-9.67632131985044e+17 -4.1541602251049733e+18\n",
      "5.551191288670545e+22 5.551288051883743e+22\n",
      "-1.1465139895242942e+25 -1.1520651808129646e+25\n",
      "9.357477495111411e+24 2.0822617390354353e+25\n",
      "3.2173258067368365e+24 -6.140151688374574e+24\n",
      "1.5339394321600614e+24 -1.683386374576775e+24\n",
      "7.000367843424607e+23 -8.339026478176007e+23\n",
      "3.49254992765654e+23 -3.507817915768067e+23\n",
      "1.6876068048221227e+23 -1.804943122834417e+23\n",
      "7.598507071417934e+22 -9.277560976803292e+22\n",
      "-5.131718668540655e+23 -5.891569375682448e+23\n",
      "4.566891095198355e+23 9.69860976373901e+23\n",
      "-2.2844057001232511e+24 -2.7410948096430867e+24\n",
      "-8.349425377241769e+23 1.4494631623990742e+24\n",
      "2.275165201660986e+24 3.110107739385163e+24\n",
      "8.976458436719105e+23 -1.3775193579890754e+24\n",
      "2.885436007577185e+23 -6.09102242914192e+23\n",
      "1.1958136700624336e+23 -1.6896223375147514e+23\n",
      "5.931717138615804e+22 -6.026419562008532e+22\n",
      "-1.0115027866260634e+23 -1.6046745004876438e+23\n",
      "-5.010571826689172e+22 5.104456039571463e+22\n",
      "3.5075483061039175e+22 8.51812013279309e+22\n",
      "1.607249215702134e+22 -1.9002990904017836e+22\n",
      "-2.762134385977054e+21 -1.8834626542998393e+22\n",
      "-3.017872539839124e+20 2.4603471319931415e+21\n",
      "8.279036854532718e+20 1.1296909394371842e+21\n",
      "3.4470774442729806e+20 -4.831959410259737e+20\n",
      "1.4136686563515682e+20 -2.0334087879214124e+20\n",
      "6.929733068302412e+19 -7.20695349521327e+19\n",
      "-1.5232846691997414e+20 -2.2162579760299826e+20\n",
      "-6.0583565797186404e+19 9.174490112278774e+19\n",
      "1.1884189077258002e+19 7.246775487444441e+19\n",
      "-4.689126001133754e+18 -1.6573315078391757e+19\n",
      "2.075709423844969e+19 2.5446220239583445e+19\n",
      "1.0004376509610815e+19 -1.0752717728838873e+19\n",
      "-1.1229010698081806e+20 -1.2229448349042888e+20\n",
      "6.329902346282261e+19 1.7558913044364067e+20\n",
      "-6.895522635262545e+19 -1.3225424981544806e+20\n",
      "4.2224223819957666e+21 4.291377608348392e+21\n",
      "1.237837992009738e+21 -2.9845843899860286e+21\n",
      "6.159754748538177e+20 -6.218625171559202e+20\n",
      "-1.1304417920444603e+21 -1.746417266898278e+21\n",
      "-5.645055584828483e+20 5.6593623356161196e+20\n",
      "-2.7961408128043647e+19 5.365441503548047e+20\n",
      "5.241725248566391e+18 3.3203133376610038e+19\n",
      "-3.5611930170431386e+19 -4.085365541899778e+19\n",
      "-5.797265880363479e+18 2.9814664290067907e+19\n",
      "-3.5503436981079654e+17 5.442231510552682e+18\n",
      "9.937448552248233e+17 1.3487792250356198e+18\n",
      "-3521180380537728.0 -9.97266035605361e+17\n",
      "1070072375691883.0 4591252756229611.0\n",
      "-2103116132402483.5 -3173188508094366.5\n",
      "1.3761942071330229e+17 1.3972253684570477e+17\n",
      "-4.301955829276759e+17 -5.678150036409782e+17\n",
      "2.5234769733501906e+18 2.9536725562778665e+18\n",
      "2.8156512032384614e+17 -2.2419118530263444e+18\n",
      "-9.025544799530734e+17 -1.1841196002769196e+18\n",
      "-3.147786122971557e+17 5.877758676559177e+17\n",
      "-1.4841657100276886e+17 1.6636204129438685e+17\n",
      "1.895189172166787e+16 1.6736846272443674e+17\n",
      "1499411417169998.0 -1.7452480304497874e+16\n",
      "698507007852614.1 -800904409317383.9\n",
      "-1241224779991439.5 -1939731787844053.5\n",
      "-536908118044223.5 704316661947216.0\n",
      "53357006178390.5 590265124222614.0\n",
      "-214811513003777.8 -268168519182168.3\n",
      "3129675130355005.0 3344486643358783.0\n",
      "-1940549621134214.0 -5070224751489219.0\n",
      "-777297912208804.2 1163251708925409.8\n",
      "1.7072085113787574e+16 1.7849383025996378e+16\n",
      "-7.609442028883746e+16 -9.316650540262502e+16\n",
      "3.1123284398741536e+17 3.873272642762528e+17\n",
      "6.033599329184064e+16 -2.5089685069557472e+17\n",
      "-2.2085257454567875e+18 -2.268861738748628e+18\n",
      "8.34933629841429e+17 3.0434593752982164e+18\n",
      "-1.1502449884970342e+17 -9.499581286911324e+17\n",
      "-2.420393826694163e+16 9.08205605827618e+16\n",
      "1.4289316931775267e+19 1.4313520870042208e+19\n",
      "7.131299329020462e+18 -7.158017602754805e+18\n",
      "6.203765248489114e+17 -6.510922804171551e+18\n",
      "2.8809075688336634e+17 -3.32285767965545e+17\n",
      "-3.8019430592199644e+18 -4.090033816103331e+18\n",
      "4.5509646985684465e+18 8.352907757788411e+18\n",
      "-1.0698085921985659e+19 -1.5249050620554105e+19\n",
      "-5.348998702475555e+18 5.349087219510104e+18\n",
      "4.430463014447905e+18 9.77946171692346e+18\n",
      "1.9543819692074563e+18 -2.4760810452404485e+18\n",
      "-4.2731772947472563e+18 -6.227559263954713e+18\n",
      "4.50186883111586e+19 4.929186560590586e+19\n",
      "2.0496473144065225e+19 -2.452221516709338e+19\n",
      "-3.8363561378711064e+20 -4.0413208693117583e+20\n",
      "-1.8640917530671527e+20 1.9722643848039537e+20\n",
      "7.443821961748364e+21 7.630231137055079e+21\n",
      "2.9761830194876635e+21 -4.4676389422607006e+21\n",
      "1.4847772760078082e+21 -1.4914057434798553e+21\n",
      "-1.8562524936832018e+22 -2.0047302212839826e+22\n",
      "1.82852758959279e+21 2.039105252642481e+22\n",
      "-1.3739043245939433e+21 -3.202431914186733e+21\n",
      "-2.6236729803682323e+20 1.1115370265571201e+21\n",
      "1.1834621543144653e+19 2.7420191957996788e+20\n",
      "-4.407026874989101e+18 -1.6241648418133754e+19\n",
      "-1.7038570609694152e+18 2.703169814019686e+18\n",
      "-2.4102372131699046e+17 1.4628333396524247e+18\n",
      "5.147271788824006e+16 2.924964392052305e+17\n",
      "1.2238205146792408e+16 -3.9234512741447656e+16\n",
      "5970271621471621.0 -6267933525320787.0\n",
      "-1470350224489315.0 -7440621845960936.0\n",
      "478622161565993.75 1948972386055308.8\n",
      "-3415844466790914.0 -3894466628356908.0\n",
      "360122267175021.5 3775966733965935.5\n",
      "-878488545443413.8 -1238610812618435.2\n",
      "731108374315627.0 1609596919759040.8\n",
      "-8.130127060488184e+16 -8.203237897919747e+16\n",
      "6.162585034907176e+17 6.975597740955994e+17\n",
      "-3.5983509987017324e+18 -4.21460950219245e+18\n",
      "-1.7869402650057743e+18 1.811410733695958e+18\n",
      "-8.904168409493751e+17 8.965234240563992e+17\n",
      "2.735950221955385e+18 3.62636706290476e+18\n",
      "-2.472834552242587e+20 -2.500194054462141e+20\n",
      "-1.2355873705409321e+20 1.2372471817016548e+20\n",
      "4.993237670363557e+22 5.005593544068966e+22\n",
      "2.166035908296099e+22 -2.827201762067458e+22\n",
      "9.450493365057462e+21 -1.220986571790353e+22\n",
      "-2.264932283323322e+21 -1.1715425648380784e+22\n",
      "-1.7054102735720966e+20 2.0943912559661123e+21\n",
      "-5.16907358510619e+18 1.6537195377210347e+20\n",
      "-1.8107336440988314e+18 3.358339941007359e+18\n",
      "-8.599827467627748e+17 9.507508973360566e+17\n",
      "-1.664336510328676e+17 6.935490957299072e+17\n",
      "-8.137379340156858e+16 8.5059857631299e+16\n",
      "-3.148575032813157e+16 4.988804307343701e+16\n",
      "-1.1648116101889744e+16 1.9837634226241824e+16\n",
      "-3175275145949266.0 8472840955940478.0\n",
      "3423893269737361.0 6599168415686627.0\n",
      "1474799054011476.8 -1949094215725884.2\n",
      "-7555095161280137.0 -9029894215291614.0\n",
      "953856056798686.0 8508951218078823.0\n",
      "-494050863889836.0 -1447906920688522.0\n",
      "-156700213671019.56 337350650218816.44\n",
      "-32434750504078.67 124265463166940.89\n",
      "9187244938293.844 41621995442372.516\n",
      "1823359955288.8389 -7363884983005.005\n",
      "333820775276.41675 -1489539180012.422\n",
      "20625975265.31494 -313194800011.1018\n",
      "-13931394909.620995 -34557370174.935936\n",
      "3403134796.770397 17334529706.39139\n",
      "-3602323111.5380964 -7005457908.308494\n",
      "-1722775189.82474 1879547921.7133565\n",
      "38609063379.601006 40331838569.42574\n",
      "2658118055.320442 -35950945324.28056\n",
      "-21064529215.34034 -23722647270.66078\n",
      "-2855177309.946415 18209351905.393925\n",
      "140726530156.05368 143581707466.0001\n",
      "-6102170773.2716675 -146828700929.32535\n",
      "30736191714.71936 36838362487.99103\n",
      "15209203979.657726 -15526987735.061634\n",
      "-56669775944.49539 -71878979924.15312\n",
      "9715663310.637787 66385439255.13318\n",
      "4712199451.937438 -5003463858.700349\n",
      "-8417806830.202691 -13130006282.14013\n",
      "1170473825.0408506 9588280655.243542\n",
      "100246277.77651656 -1070227547.2643341\n",
      "-298896088.1279449 -399142365.90446144\n",
      "-112780110.79617664 186115977.33176824\n",
      "223306666.76393548 336086777.5601121\n",
      "-1185010865.285619 -1408317532.0495546\n",
      "-555640539.9987535 629370325.2868655\n",
      "-70081555.06445181 485558984.93430173\n",
      "-24750752.78797265 45330802.27647916\n",
      "-11109039.504021566 13641713.283951085\n",
      "-2625129.1742264535 8483910.329795113\n",
      "110637100.77556685 113262229.9497933\n",
      "13511338.214978442 -97125762.5605884\n",
      "6741240.100569372 -6770098.1144090695\n",
      "-74176916.26445861 -80918156.36502798\n",
      "-29296709.56550885 44880206.69894976\n",
      "106991228.33427337 136287937.8997822\n",
      "-385798192.35398304 -492789420.6882564\n",
      "1671742308.7460494 2057540501.1000323\n",
      "124238384.98441076 -1547503923.7616386\n",
      "43903952.27726179 -80334432.70714897\n",
      "6181168.199631311 -37722784.07763048\n",
      "891338.1968764272 -5289830.002754884\n",
      "-1934262.5533328177 -2825600.750209245\n",
      "949507.4998202459 2883770.0531530636\n",
      "-11683681.824028382 -12633189.323848628\n",
      "-5773909.304413908 5909772.519614474\n",
      "151652297.11199638 157426206.4164103\n",
      "-6766804038.026621 -6918456335.1386175\n",
      "-2300748777.607003 4466055260.419618\n",
      "-1146356308.268366 1154392469.338637\n",
      "40924644.06320381 1187280952.33157\n",
      "15398653.526782136 -25525990.536421675\n",
      "-123161181.20125933 -138559834.72804147\n",
      "-60820608.23794351 62340572.96331582\n",
      "32890756.456721596 93711364.6946651\n",
      "4881635.342645902 -28009121.114075694\n",
      "1853590.402467682 -3028044.94017822\n",
      "578861.482711494 -1274728.919756188\n",
      "-3708823.832821384 -4287685.315532878\n",
      "-1641686.7110852762 2067137.1217361079\n",
      "-415812.576626373 1225874.1344589032\n",
      "-173470.3210579009 242342.2555684721\n",
      "-79254.87696438849 94215.44409351241\n",
      "-38400.737990305715 40854.13897408277\n",
      "-17842.907833541627 20557.83015676409\n",
      "-8799.82799175798 9043.079841783647\n",
      "-1617.2389607350133 7182.589031022967\n",
      "2748.8525089184077 4366.091469653421\n",
      "107.43482608672002 -2641.4176828316877\n",
      "40.02059681001053 -67.41422927670949\n",
      "16.509572252932557 -23.511024557077974\n",
      "-44.60469567876281 -61.114267931695366\n",
      "64.30563919235396 108.91033487111677\n",
      "32.12559657765819 -32.18004261469577\n",
      "13.133508368358171 -18.99208820930002\n",
      "5.138513914835592 -7.99499445352258\n",
      "-47.70054395602177 -52.83905787085736\n",
      "-17.373350589526297 30.32719336649547\n",
      "-8.619884576395071 8.753466013131225\n",
      "19.76646416498467 28.38634874137974\n",
      "9.085791522189966 -10.680672642794702\n",
      "1.559602004868844 -7.526189517321122\n",
      "0.7853737915674017 -0.7742282133014422\n",
      "0.7395356706442151 -0.04583812092318662\n",
      "0.7390851780139345 -0.00045049263028063\n",
      "0.7390851332151611 -4.479877335761273e-08\n",
      "0.7390851332151607 -4.440892098500626e-16\n"
     ]
    },
    {
     "data": {
      "text/plain": [
       "0.7390851332151607"
      ]
     },
     "execution_count": 113,
     "metadata": {},
     "output_type": "execute_result"
    }
   ],
   "source": [
    "newton(f_bench,fp_bench,10,1e-8, verbose = True, max_iterations = 1000)"
   ]
  },
  {
   "cell_type": "markdown",
   "metadata": {},
   "source": [
    "<div class=answer>\n",
    "<div/>\n",
    "When we increase x the number of iterations needed increases rapidly. This is because the first iteration projects the value of x' to a number that is very far away from the solution, so it takes much longer for the method to converge on a spot. "
   ]
  },
  {
   "cell_type": "markdown",
   "metadata": {},
   "source": [
    "## Exercise 7: More on Newton's method\n",
    "\n",
    "Here's one more illustration with Newton's method.  Let's try it out on the function\n",
    "\n",
    "$$\n",
    "\\begin{equation}\n",
    "f(x)=x^2+1.\n",
    "\\end{equation}\n",
    "$$\n",
    "\n",
    "What happens if you pick $x=0$ as the starting point?  How about\n",
    "$x=0.5$?"
   ]
  },
  {
   "cell_type": "code",
   "execution_count": 115,
   "metadata": {
    "collapsed": false
   },
   "outputs": [
    {
     "name": "stdout",
     "output_type": "stream",
     "text": [
      "1.25 0.75\n",
      "1.025 -0.2250000000000001\n",
      "1.0003048780487804 -0.02469512195121948\n",
      "1.0000000464611474 -0.00030483158763305873\n",
      "1.000000000000001 -4.6461146263609976e-08\n",
      "1.0 -1.1102230246251565e-15\n"
     ]
    },
    {
     "data": {
      "text/plain": [
       "1.0"
      ]
     },
     "execution_count": 115,
     "metadata": {},
     "output_type": "execute_result"
    }
   ],
   "source": [
    "def simpleFunc (x):\n",
    "    \"\"\"Returns the value of our test function at x\n",
    "    \n",
    "    Arguements: x - the input value\n",
    "    \n",
    "    Retured: f(x)\n",
    "    \"\"\"\n",
    "    return (x**2) - 1\n",
    "\n",
    "def simpleFuncP (x):\n",
    "    \"\"\"Returns derivative value of our test function at x\n",
    "    \n",
    "    Arguements: x - the input value\n",
    "    \n",
    "    Retured: f'(x)\n",
    "    \"\"\"\n",
    "    return 2*x\n",
    "\n",
    "newton(simpleFunc,simpleFuncP,0.5,1e-8, verbose = True, max_iterations = 100)"
   ]
  },
  {
   "cell_type": "markdown",
   "metadata": {},
   "source": [
    "<div class=answer>\n",
    "<div/>\n",
    "When we ran the function with x = 0, it gave us a \"divide by zero\" error, and when we used a value of 0.5 it gave us a solution of 1, even though there is no actual solution to thiis equation."
   ]
  },
  {
   "cell_type": "markdown",
   "metadata": {},
   "source": [
    "*Comment:* Notice that we were applying a rootfinding method, to a function which\n",
    "had no root. A physics professor of mine promulgated this bit of wisdom:\n",
    "\n",
    "    **First rule: Think before you try cranking away!**\n",
    "\n",
    "But, even if we were immune to being so silly as to ever attempt this, there is\n",
    "a lesson to be learned.  What if our function *had* a root, off somewhere far away from the initial guess point, but the guess point landed us near a local minimum in the function?  Our function would locally look just like this parabola, and the Newton-Raphson method could become trapped oscillating around the minimum, in just this fashion.\n",
    "\n",
    "**Summary:** Here is an attempt at summarizing the lessons we have learned.  When it works, Newton-Raphson converges much more rapidly than bisection.  However, sometimes it jumps around before converging.  Sometimes it just oscillates, without converging.  Or, if the starting point is not close enough to a root, the method may go\n",
    "completely astray.\n",
    "\n",
    "**When it's good, it's very, very good.  When it's bad, it's horrid.**"
   ]
  },
  {
   "cell_type": "markdown",
   "metadata": {},
   "source": [
    "## Exericise 8 - The Lagrange Point.  \n",
    "Work out Newman's Exercise 6.16 below **in a lab format**.  As in the percolation problem, \n",
    "* plot and label the numerical function you are trying to solve before \"cranking away.\"  \n",
    "* write a thoughtful description about each plot\n",
    "* take note of the tolerance you choose and the number of steps required to solve.\n",
    "\n",
    "You can use the astropy version of the constants library, you may have to install astropy to use them, but I did not\n",
    "http://docs.astropy.org/en/stable/constants/"
   ]
  },
  {
   "cell_type": "code",
   "execution_count": 130,
   "metadata": {
    "collapsed": false
   },
   "outputs": [
    {
     "name": "stdout",
     "output_type": "stream",
     "text": [
      "6.67384e-11\n",
      "Note that you can do arithmetic with the 'Value': 5*G =\n",
      "3.3369200000000003e-10\n"
     ]
    }
   ],
   "source": [
    "from astropy import constants as a_const\n",
    "\n",
    "print(const.G)\n",
    "print(\"Note that you can do arithmetic with the 'Value': 5*G =\")\n",
    "print(const.G*5)\n"
   ]
  },
  {
   "cell_type": "code",
   "execution_count": 120,
   "metadata": {
    "collapsed": true
   },
   "outputs": [],
   "source": [
    "M = 5.974e24 #kg\n",
    "m = 7.348e22 #kg\n",
    "R = 3.844e8 #m\n",
    "omega = 2.662e-6 #s^-1"
   ]
  },
  {
   "cell_type": "code",
   "execution_count": 132,
   "metadata": {
    "collapsed": false
   },
   "outputs": [
    {
     "data": {
      "text/plain": [
       "<function matplotlib.pyplot.show>"
      ]
     },
     "execution_count": 132,
     "metadata": {},
     "output_type": "execute_result"
    },
    {
     "data": {
      "image/png": "[encoded data removed]",
      "text/plain": [
       "<matplotlib.figure.Figure at 0xa2ba0f0>"
      ]
     },
     "metadata": {},
     "output_type": "display_data"
    }
   ],
   "source": [
    "def orbit (r):\n",
    "    \"\"\"Returns the numerical model for the net acceleration of the satellite\n",
    "    \n",
    "    Arguements: r - the distance from the center of earth to the satellite\n",
    "    \n",
    "    Retured: the numerical model for the net acceleration of the satellite at r\n",
    "    \"\"\"\n",
    "    return (const.G * M / r**2) - (const.G * m / (R - r)**2) - (omega**2 * r) \n",
    "def orbitP (r):\n",
    "    \"\"\"Returns the derivative of the numerical model for the net acceleration of the satellite\n",
    "    \n",
    "    Arguements: r - the distance from the center of earth to the satellite\n",
    "    \n",
    "    Retured: the derivative numerical model for the net acceleration of the satellite at r\n",
    "    \"\"\"\n",
    "    return (-2 * const.G * M * r**-3) - (2 * const.G * m * (R - r)**-3) - (omega**2) \n",
    "\n",
    "rValues = np.linspace (1.5e8,3.7e8)\n",
    "yValues = []\n",
    "zeroValues = []\n",
    "for i in rValues:\n",
    "    yValues.append(orbit(i))\n",
    "    zeroValues.append(0)\n",
    "    \n",
    "plt.plot(rValues,yValues)\n",
    "plt.plot(rValues,zeroValues)\n",
    "plt.show"
   ]
  },
  {
   "cell_type": "code",
   "execution_count": 133,
   "metadata": {
    "collapsed": false
   },
   "outputs": [
    {
     "name": "stdout",
     "output_type": "stream",
     "text": [
      "330522567.2565018 30522567.256501794\n",
      "326364931.6119637 -4157635.6445381045\n",
      "326045888.7018119 -319042.91015177965\n",
      "326044374.51547277 -1514.1863391399384\n",
      "326044374.48191315 -0.03355962038040161\n",
      "326044374.4819132 5.960464477539063e-08\n",
      "326044374.4819132 0.0\n"
     ]
    },
    {
     "data": {
      "text/plain": [
       "326044374.4819132"
      ]
     },
     "execution_count": 133,
     "metadata": {},
     "output_type": "execute_result"
    }
   ],
   "source": [
    "newton(orbit,orbitP,3e8,1e-8, verbose = True, max_iterations = 100)"
   ]
  },
  {
   "cell_type": "code",
   "execution_count": null,
   "metadata": {
    "collapsed": true
   },
   "outputs": [],
   "source": []
  }
 ],
 "metadata": {
  "kernelspec": {
   "display_name": "Python 3",
   "language": "python",
   "name": "python3"
  },
  "language_info": {
   "codemirror_mode": {
    "name": "ipython",
    "version": 3
   },
   "file_extension": ".py",
   "mimetype": "text/x-python",
   "name": "python",
   "nbconvert_exporter": "python",
   "pygments_lexer": "ipython3",
   "version": "3.4.4"
  }
 },
 "nbformat": 4,
 "nbformat_minor": 2
}
