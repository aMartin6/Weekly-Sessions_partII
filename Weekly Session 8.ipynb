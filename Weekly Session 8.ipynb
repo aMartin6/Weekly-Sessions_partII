{
 "cells": [
  {
   "cell_type": "markdown",
   "metadata": {},
   "source": [
    "# Weekly Session 8\n",
    "\n",
    "## Goal\n",
    "To develop a basic familiarity and proficiency with numerical rootfinding.\n",
    "\n",
    "## Readings\n",
    "We will skip the remainder of the linear equations material (6.2) and move directly onto solutions of nonlinear equations.\n",
    "\n",
    "    6.3.1 Relaxation Method\n",
    "    \n",
    "    6.3.2 Convergence Rate\n",
    "    \n",
    "    6.3.4 Binary search -- a.k.a. the bisection method\n",
    "\n",
    "    6.3.5 Newton's method -- a.k.a. the Newton-Raphson method\n",
    "\n",
    "Although we will not specifically cover extremization in this week's handout, you should also read enough to get a basic idea of what is possible:\n",
    "\n",
    "    6.4 Maxima and minima of functions\n",
    "    \n",
    "## Overview\n",
    "\n",
    "We will start with a brief introduction to solving non-linear equations, using the relaxation method.  Then you will build up your own module named ```rootfind```, containing functions which implement each of the basic numerical rootfinding methods: the **bisection** method, the **Newton-Raphson** method (for when the derivative is known), and the **Dekker secant** method (for when it is not).  You will also see the value in *hybridizing* these latter two methods with the bisection method.  \n",
    "\n",
    "As always, scipy has some beautiful versions of these codes available.  So after you have written your own **Newton-Raphson** method, we will switch over to using library functions.\n",
    "\n",
    "https://docs.scipy.org/doc/scipy-0.15.1/reference/generated/scipy.optimize.newton.html"
   ]
  },
  {
   "cell_type": "code",
   "execution_count": 2,
   "metadata": {
    "collapsed": false
   },
   "outputs": [
    {
     "data": {
      "text/html": [
       "<style>\n",
       "div.warn {\n",
       "    background-color: black;\n",
       "    border-color: #dFb5b4;\n",
       "    border-left: 5px solid #dfb5b4;\n",
       "    padding: 0.5em\n",
       "    color: white;\n",
       "    }\n",
       " </style>\n",
       "\n",
       " <style>\n",
       " div.answer {\n",
       "     background-color: lightblue;\n",
       "     border-color: #dFb5b4;\n",
       "     border-left: 5px solid #dfb5b4;\n",
       "     padding: 0.5em\n",
       "     }\n",
       "  </style>\n"
      ],
      "text/plain": [
       "<IPython.core.display.HTML object>"
      ]
     },
     "execution_count": 2,
     "metadata": {},
     "output_type": "execute_result"
    }
   ],
   "source": [
    "#For colored cells, currently blue cells, black text \n",
    "#https://stackoverflow.com/questions/18024769/adding-custom-styled-paragraphs-in-markdown-cells\n",
    "from IPython.core.display import HTML\n",
    "def css_styling():\n",
    "    styles = open(\"style.css\", \"r\").read()\n",
    "    return HTML(styles)\n",
    "css_styling()"
   ]
  },
  {
   "cell_type": "markdown",
   "metadata": {},
   "source": [
    "<div class=answer>\n",
    "*This should be a blue cell with black font if you set the filepath correctly*</font>\n",
    "<div/>"
   ]
  },
  {
   "cell_type": "markdown",
   "metadata": {},
   "source": [
    "## Exercise 0 - Jupyter Notebook \n",
    "\n",
    "### Keyboard Shortcuts\n",
    "\n",
    "Read this and try some out.\n",
    "http://maxmelnick.com/2016/04/19/python-beginner-tips-and-tricks.html\n",
    "\n",
    "My favorites are \"B,\" \"M,\" and \"Enter\" so far, but I'm working on more."
   ]
  },
  {
   "cell_type": "markdown",
   "metadata": {},
   "source": [
    "### Some plotting tricks\n",
    "\n",
    "Run the following code cell.  Notice the last (active) line resets the default font on your plots to a larger size.  You can use similar calls to change many more plotting defaults [link](https://matplotlib.org/api/matplotlib_configuration_api.html)."
   ]
  },
  {
   "cell_type": "code",
   "execution_count": 3,
   "metadata": {
    "collapsed": true
   },
   "outputs": [],
   "source": [
    "import math\n",
    "import numpy as np\n",
    "import matplotlib.pylab as plt\n",
    "%matplotlib inline\n",
    "\n",
    "plt.rcParams['font.size']=14\n",
    "\n",
    "#line below prints all possible default variables stored in the dictionary rcParams\n",
    "#plt.rcParams.keys()  "
   ]
  },
  {
   "cell_type": "markdown",
   "metadata": {},
   "source": [
    "### Passing function arguments\n",
    "These semester you have become very experienced passing functions as arguments in other functions.  For instance: "
   ]
  },
  {
   "cell_type": "code",
   "execution_count": 4,
   "metadata": {
    "collapsed": false
   },
   "outputs": [
    {
     "name": "stdout",
     "output_type": "stream",
     "text": [
      "2\n"
     ]
    }
   ],
   "source": [
    "def q(x):\n",
    "    '''Calculates a simple mathematic function \n",
    "    \n",
    "    It is written using numpy's exponential function (not math) so it can operate on numpy arrays.\n",
    "    accepts: x - float\n",
    "    returns f(x) - float\n",
    "    '''\n",
    "    \n",
    "    return x\n",
    "\n",
    "def g(f,x):\n",
    "    '''Calls another function f(x) and prints its return value \n",
    "    \n",
    "    accepts: \n",
    "        x - float\n",
    "        f(x) - float\n",
    "    returns \n",
    "        None\n",
    "    '''\n",
    "    \n",
    "    print(f(x))\n",
    "    return None\n",
    "\n",
    "#call g to act on q at x=2, which prints q(x)=x.  \n",
    "#Very convoluted way to do something simple\n",
    "g(q,2)"
   ]
  },
  {
   "cell_type": "markdown",
   "metadata": {},
   "source": [
    "But what if we want to work with a more complicated function?  For instance what if I want to call the following: "
   ]
  },
  {
   "cell_type": "code",
   "execution_count": 13,
   "metadata": {
    "collapsed": true
   },
   "outputs": [],
   "source": [
    "def r(x,y,z):\n",
    "    return x+y+z"
   ]
  },
  {
   "cell_type": "markdown",
   "metadata": {},
   "source": [
    "You are probably thinking, this is easy - we can just do the same thing you did with ```x``` above, by passing it to g(f,x) as a separate argument.  But notice that you would have to redefine the function ```g``` to be ```g(f,x,y,z).```  Doesn't this seem inefficient?  \n",
    "\n",
    "*For instance, what if you want to write ```g``` so it could print the output of any function, not just design it for a single function?*\n",
    "\n",
    "Lets do that.  The method for doing so is to use a function parameter named ```*args``` or \"star args\".  "
   ]
  },
  {
   "cell_type": "code",
   "execution_count": 17,
   "metadata": {
    "collapsed": true
   },
   "outputs": [],
   "source": [
    "def g1(f,*args):\n",
    "    '''Calls another function f(x) and prints its return value \n",
    "    \n",
    "    accepts: \n",
    "        x - float\n",
    "        f(x) - float\n",
    "    returns \n",
    "        None\n",
    "    '''\n",
    "    \n",
    "    print(\"You passed the function (object): \",f, \"with arguments:\" ,*args)\n",
    "    for key in args:\n",
    "        print (\"Arguement: \", key)\n",
    "\n",
    "    print(f(*args))\n",
    "    return None"
   ]
  },
  {
   "cell_type": "markdown",
   "metadata": {},
   "source": [
    "So lets run ```g1``` on the function r:"
   ]
  },
  {
   "cell_type": "code",
   "execution_count": 15,
   "metadata": {
    "collapsed": false
   },
   "outputs": [
    {
     "name": "stdout",
     "output_type": "stream",
     "text": [
      "You passed the function (object):  <function r at 0x000000000742F488> with arguments: 1 2 3\n",
      "6\n"
     ]
    }
   ],
   "source": [
    "g1(r,1,2,3)"
   ]
  },
  {
   "cell_type": "markdown",
   "metadata": {},
   "source": [
    "Play around with the codes above.  For instance, \n",
    "* call ```g1``` on another function which takes 2 or 4 arguments (instead of 1 or 3). \n",
    "* print individual values of ```*args``` - **see the last link below for this**\n",
    "\n",
    "<div class=answer>\n",
    "Answer below.  Add code cells as necessary.\n",
    "<div/>"
   ]
  },
  {
   "cell_type": "code",
   "execution_count": 18,
   "metadata": {
    "collapsed": false
   },
   "outputs": [
    {
     "name": "stdout",
     "output_type": "stream",
     "text": [
      "You passed the function (object):  <function s at 0x000000000742F730> with arguments: 2 4 6 8\n",
      "Arguement:  2\n",
      "Arguement:  4\n",
      "Arguement:  6\n",
      "Arguement:  8\n",
      "20\n"
     ]
    }
   ],
   "source": [
    "def s(x,y,z,q):\n",
    "    return x+y+z+q\n",
    "\n",
    "g1(s,2,4,6,8)"
   ]
  },
  {
   "cell_type": "markdown",
   "metadata": {},
   "source": [
    "Want to know more?  Here are a few links to show you the big picture:\n",
    "* https://www.python-course.eu/passing_arguments.php\n",
    "* http://www.informit.com/articles/article.aspx?p=2314818\n",
    "* https://www.saltycrane.com/blog/2008/01/how-to-use-args-and-kwargs-in-python/"
   ]
  },
  {
   "cell_type": "markdown",
   "metadata": {},
   "source": [
    "## Exercise 1: Intro to the Relaxation Method and Convergence\n",
    "\n",
    "Newman uses $f(x) = 2 - e^{-x}$ as his first test case.  Let's start by plotting that and simply checking that the solution in Newman 6.3.1 is approximately correct.  "
   ]
  },
  {
   "cell_type": "code",
   "execution_count": 19,
   "metadata": {
    "collapsed": false
   },
   "outputs": [
    {
     "data": {
      "image/png": "[encoded data removed]",
      "text/plain": [
       "<matplotlib.figure.Figure at 0x743f828>"
      ]
     },
     "metadata": {},
     "output_type": "display_data"
    }
   ],
   "source": [
    "def f(x):\n",
    "    '''Calculates a simple mathematic function from Newman 6.3.1\n",
    "    \n",
    "    It is written using numpy's exponential function (not math) so it can operate on numpy arrays.\n",
    "    accepts: x - float\n",
    "    returns f(x) - float\n",
    "    '''\n",
    "    \n",
    "    return 2 - np.exp(-x)\n",
    "\n",
    "#define the x-range\n",
    "x = np.linspace(0,3)\n",
    "\n",
    "#set up the plot\n",
    "fig = plt.figure(figsize=(7,7))\n",
    "ax = fig.add_subplot(111)\n",
    "\n",
    "#plot the function - both left hand side and right hand side\n",
    "ax.plot(x,f(x),label=r\"$2-e^{-x}$\")\n",
    "ax.plot(x,x,label=r\"$x$\",ls='--')\n",
    "\n",
    "#add good labels\n",
    "ax.legend(loc='best')\n",
    "ax.set_xlabel('x')\n",
    "ax.set_ylabel('f(x)')\n",
    "ax.set_aspect('equal')\n",
    "\n",
    "#add a label to be extra transparent\n",
    "text1 = ax.annotate(r'solution, $x^* \\approx 1.84$', xy=(1.84, 1.84), xytext=(1.8, 1.0),\n",
    "            arrowprops=dict(facecolor='black', shrink=0.05),\n",
    "            )"
   ]
  },
  {
   "cell_type": "markdown",
   "metadata": {},
   "source": [
    "*Notice how I added an arrow and text to the figure above?  This is very useful.*\n",
    "\n",
    "### Solve the equation $x=2-e^{-x}$ as in Newman, and include a measure of the error at each step."
   ]
  },
  {
   "cell_type": "code",
   "execution_count": 37,
   "metadata": {
    "collapsed": false
   },
   "outputs": [
    {
     "name": "stdout",
     "output_type": "stream",
     "text": [
      "x Values: 1.63212055883 Error: 0.632120558829\n",
      "x Values: 1.80448546585 Error: 0.172364907019\n",
      "x Values: 1.83544089392 Error: 0.0309554280746\n",
      "x Values: 1.84045685534 Error: 0.00501596142149\n",
      "x Values: 1.84125511391 Error: 0.000798258567897\n",
      "x Values: 1.84138178281 Error: 0.000126668901436\n",
      "x Values: 1.84140187354 Error: 2.00907228571e-05\n",
      "x Values: 1.84140505985 Error: 3.18631899665e-06\n",
      "x Values: 1.84140556519 Error: 5.05333265455e-07\n",
      "x Values: 1.84140564533 Error: 8.01430233288e-08\n"
     ]
    }
   ],
   "source": [
    "x = 1.0\n",
    "for k in range (10):\n",
    "    xOld = x\n",
    "    x = 2-np.exp(-x)\n",
    "    error = (x-xOld)\n",
    "    print(\"x Values:\", x, \"Error:\", error)\n"
   ]
  },
  {
   "cell_type": "markdown",
   "metadata": {},
   "source": [
    "#### Prove mathematically that the Relaxation Method will work on the function above.  Show your work and briefly explain"
   ]
  },
  {
   "cell_type": "markdown",
   "metadata": {},
   "source": [
    "<div class=answer>\n",
    "<div/>\n",
    "The difference between the calcualted value and the actual value becomes smaller by a factor of f'(x*) at each iteration. So f'(x*) must be less than 1."
   ]
  },
  {
   "cell_type": "code",
   "execution_count": 24,
   "metadata": {
    "collapsed": false
   },
   "outputs": [
    {
     "data": {
      "text/plain": [
       "0.1585952372788415"
      ]
     },
     "execution_count": 24,
     "metadata": {},
     "output_type": "execute_result"
    }
   ],
   "source": [
    "math.exp(-1.8414)"
   ]
  },
  {
   "cell_type": "markdown",
   "metadata": {},
   "source": [
    "## Exercise 2\n",
    "\n",
    "### Newman's Exercise 6.10: The percolation transition\n",
    "\n",
    "Consider the equation $x = 1 - \\ e^{-cx}$, where $c$ is a known parameter and $x$ is unknown.  This equation arises in a variety of situations, including the physics of contact processes, mathematical models of epidemics, and the theory of random graphs.\n",
    "\n",
    "####  First plot the function for the case $c=2$.  \n",
    "Mark both the trivial solution and the (approximate) non-trivial solution. \n",
    "\n",
    "**Lab-like exercise: **\n",
    "Write a full description of your plots for this section, as if you were in lab.  While it might not be so clear why this is named *the percolation transition* hopefully it is very clear why this is called *the epidemic threshold*.  Please include some insights related to this name in your description of these plots."
   ]
  },
  {
   "cell_type": "code",
   "execution_count": 35,
   "metadata": {
    "collapsed": false
   },
   "outputs": [
    {
     "data": {
      "image/png": "[encoded data removed]",
      "text/plain": [
       "<matplotlib.figure.Figure at 0x7853828>"
      ]
     },
     "metadata": {},
     "output_type": "display_data"
    }
   ],
   "source": [
    "def f2(x, c):\n",
    "    '''Calculates a simple mathematic function from Newman 6.3.1\n",
    "    \n",
    "    It is written using numpy's exponential function (not math) so it can operate on numpy arrays.\n",
    "    accepts: x - float\n",
    "    returns f(x) - float\n",
    "    '''\n",
    "    \n",
    "    return 1 - np.exp(-c*x)\n",
    "\n",
    "#define the x-range\n",
    "x = np.linspace(0,3)\n",
    "\n",
    "#set up the plot\n",
    "fig = plt.figure(figsize=(7,7))\n",
    "ax = fig.add_subplot(111)\n",
    "\n",
    "#plot the function - both left hand side and right hand side\n",
    "ax.plot(x,f2(x, 2),label=r\"$1-e^{-2x}$\")\n",
    "ax.plot(x,x,label=r\"$x$\",ls='--')\n",
    "\n",
    "#add good labels\n",
    "ax.legend(loc='best')\n",
    "ax.set_xlabel('x')\n",
    "ax.set_ylabel('f2(x)')\n",
    "ax.set_aspect('equal')\n",
    "\n",
    "#add a label to be extra transparent\n",
    "text1 = ax.annotate(r'solution, $x^* \\approx 0.8$', xy=(0.8, 0.8), xytext=(2.0, 0.2),\n",
    "            arrowprops=dict(facecolor='black', shrink=0.05),\n",
    "            )"
   ]
  },
  {
   "cell_type": "markdown",
   "metadata": {},
   "source": [
    "#### Write a program to solve this equation for $x$ using the relaxation method for the case $c=2$.  \n",
    "Calculate your solution to an accuracy of at least $10^{-6}$."
   ]
  },
  {
   "cell_type": "code",
   "execution_count": 63,
   "metadata": {
    "collapsed": false
   },
   "outputs": [
    {
     "name": "stdout",
     "output_type": "stream",
     "text": [
      "x Values: 0.864664716763 Error: -0.135335283237\n",
      "x Values: 0.822596669181 Error: -0.0420680475825\n",
      "x Values: 0.807024750332 Error: -0.0155719188491\n",
      "x Values: 0.800920194237 Error: -0.00610455609513\n",
      "x Values: 0.798474708325 Error: -0.00244548591188\n",
      "x Values: 0.797486639463 Error: -0.00098806886216\n",
      "x Values: 0.797086049491 Error: -0.000400589971551\n",
      "x Values: 0.796923413762 Error: -0.000162635728866\n",
      "x Values: 0.796857348001 Error: -6.60657613076e-05\n",
      "x Values: 0.79683050468 Error: -2.68433213021e-05\n",
      "x Values: 0.796819596899 Error: -1.09077808818e-05\n",
      "x Values: 0.796815164356 Error: -4.43254298199e-06\n",
      "x Values: 0.796813363097 Error: -1.80125901883e-06\n",
      "x Values: 0.796812631112 Error: -7.31984842961e-07\n"
     ]
    }
   ],
   "source": [
    "def relax(f,*args,tol = 1e-6):\n",
    "    x = 1.0\n",
    "    error = 2*tol\n",
    "    while abs(error) >= abs(tol):\n",
    "        xOld = x\n",
    "        x = f(x,*args)\n",
    "        error = (x-xOld)\n",
    "        print(\"x Values:\", x, \"Error:\", error)\n",
    "\n",
    "relax(f2, 2, tol = 1e-6)"
   ]
  },
  {
   "cell_type": "markdown",
   "metadata": {},
   "source": [
    "#### Modify your program to calculate the solution for values of $c$ from 0 to 3 in steps of 0.01 and make a plot of $x$ as a function of $c$.  \n",
    "   \n",
    "   You should see a clear transition from a regime in which $x=0$ to a regime of nonzero $x$.   This is another example of a phase transition.   In physics this transition is known as the *percolation transition*;   in epidemiology it is the *epidemic threshold*."
   ]
  },
  {
   "cell_type": "code",
   "execution_count": 64,
   "metadata": {
    "collapsed": false
   },
   "outputs": [],
   "source": [
    "for i in np.linspace (0,3,0.01):\n",
    "    relax(f2, i)"
   ]
  },
  {
   "cell_type": "markdown",
   "metadata": {},
   "source": [
    "<div class=answer>\n",
    "<div/>\n",
    "Describe your plot here."
   ]
  },
  {
   "cell_type": "markdown",
   "metadata": {},
   "source": [
    "## Exercise 3: Benchmark function for rootfinding\n",
    "You will use the function\n",
    "$$\n",
    "f(x)=\\cos x - x\n",
    "$$\n",
    "\n",
    "as a benchmark  in developing the following routines.  To orient yourself, first make a plot of the benchmark function. You will want to plot it over a\n",
    "reasonably wide range, *e.g.*, $-10\\leq x \\leq 10$, since you will be playing with different choices of initial intervals and guess points in this range.\n"
   ]
  },
  {
   "cell_type": "code",
   "execution_count": 4,
   "metadata": {
    "collapsed": true
   },
   "outputs": [],
   "source": [
    "#your plot here\n",
    "\n",
    "#include the following line so you can see where your function crosses zero.\n",
    "#ax.axhline(y=0,ls='--',color='gray')"
   ]
  },
  {
   "cell_type": "markdown",
   "metadata": {},
   "source": [
    "## Exercise 4 - introduction to bisection"
   ]
  },
  {
   "cell_type": "markdown",
   "metadata": {},
   "source": [
    "For efficiency, I have provided a basic code on the bisection method.  Read the code below carefully and check that it is written as you would expect."
   ]
  },
  {
   "cell_type": "markdown",
   "metadata": {},
   "source": [
    "The bisection method is our baseline method, to which we will be\n",
    "comparing the other new members.  Moreover, we will be using bisection\n",
    "steps when we \"hybridize\" the bisection method with the other, more\n",
    "sophisticated rootfinding methods.  So, let us start off our new\n",
    "rootfind methods by bundling the code above into a function.  \n",
    "\n",
    "Take a close look, and make sure you understand the logic.  The loop structure is designed to provide a better starting point for the approach we will need to take with in the other rootfinding methods.\n",
    "\n",
    "For instance, all these other methods are based on the idea of finding successive approximations $x_i$ ($i=0$, $1$, $2$, $\\ldots$).  Then the \"error\" is estimated the difference between the two most recent approximate roots, *i.e.*,\n",
    "$$\n",
    "\\epsilon_i = x_i - x_{i-1}.\n",
    "$$"
   ]
  },
  {
   "cell_type": "code",
   "execution_count": 5,
   "metadata": {
    "collapsed": true
   },
   "outputs": [],
   "source": [
    "\"\"\" rootfind.py -- library of rootfinding routines\n",
    "     \n",
    "    Language: Python 3\n",
    "    Mark A. Caprio\n",
    "    University of Notre Dame\n",
    "    Written for Computational Methods in Physics, Spring 2014.\n",
    "\"\"\"\n",
    "\n",
    "def bisection(f,interval,tolerance,verbose=False):\n",
    "    \"\"\" Find root by bisection.\n",
    "\n",
    "    The 'approximation' x_i at each iteration is defined by the\n",
    "    midpoint of the interval.\n",
    "    \n",
    "    The 'error' x_i-x_(i-1) is defined by the change in midpoint from\n",
    "    the midpoint of the last interval.  (Of course, for bisection,\n",
    "    that is always half the width of the new interval.)\n",
    "\n",
    "    Returns None if the sign of the function does not change on the\n",
    "    given interval.  Otherwise, returns final midpoint x_i when\n",
    "    termination condition is reached.\n",
    "\n",
    "    f: function for rootfinding\n",
    "    interval: tuple containing initial interval endpoints (xa,xb)\n",
    "    tolerance: difference x_i-x_(i-1) at which search should terminate\n",
    "    verbose (optional): whether or not to print iteration log\n",
    "    \"\"\"\n",
    "\n",
    "    # set up initial bracketing interval\n",
    "    #   Note: Sign of function *must* change in this interval for method to work.\n",
    "    (xa,xb) = interval\n",
    "    fxa = f(xa)\n",
    "    fxb = f(xb)\n",
    "    if (fxa*fxb >=0):\n",
    "        # no sign change in interval\n",
    "        return None\n",
    "\n",
    "    # set up for first iteration\n",
    "    xm = (xb + xa)/2\n",
    "    error = (xb - xa)/2\n",
    "    iteration_count = 0\n",
    "\n",
    "    # bisect until tolerance reached\n",
    "    while (abs(error) > tolerance):\n",
    "\n",
    "        # increment iteration count\n",
    "        iteration_count += 1\n",
    "        \n",
    "        # evaluate function\n",
    "        fxa = f(xa)\n",
    "        fxb = f(xb)\n",
    "        fxm = f(xm)\n",
    "\n",
    "        # find which subinterval contains root\n",
    "        if (fxm == 0):\n",
    "            # accidentally landed on root (often occurs for \"toy\" test intervals)\n",
    "            xa = xm\n",
    "            xb = xm\n",
    "        elif ((fxa * fxm) < 0):\n",
    "            # sign change is in left half of interval\n",
    "            xb = xm\n",
    "        else:\n",
    "            # sign change is in right half of interval\n",
    "            xa = xm\n",
    "\n",
    "        # find new midpoint (and change in midpoint)\n",
    "        xm_old = xm\n",
    "        xm = (xb + xa)/2\n",
    "        error = xm - xm_old\n",
    "\n",
    "        # verbose iteration log\n",
    "        if (verbose):\n",
    "            print(\"iteration\", iteration_count, \"(bisection):\",\n",
    "                  \"interval\", (xa, xb), \"root\", xm)\n",
    "            \n",
    "    return xm"
   ]
  },
  {
   "cell_type": "markdown",
   "metadata": {},
   "source": [
    " When this estimated error falls below the tolerance, we terminate and return the \"last guess\" $x_i$.  We can think about the bisection method somewhat the same way (at least, we can phrase the termination condition and return value the same way) if we think of the \"midpoint\" of our interval as $x_i$.  \n",
    " \n",
    " **See the usage example below:**"
   ]
  },
  {
   "cell_type": "code",
   "execution_count": null,
   "metadata": {
    "collapsed": true
   },
   "outputs": [],
   "source": [
    "# test code\n",
    "if (__name__ == \"__main__\"):\n",
    "\n",
    "    # read in external libraries\n",
    "    import math\n",
    "\n",
    "    # define function for rootfinding\n",
    "    def f_bench(x):\n",
    "        return math.cos(x) - x\n",
    "    def fp_bench(x):\n",
    "        return -math.sin(x) - 1\n",
    "\n",
    "    # bisection tests\n",
    "\n",
    "    print(\"bisection(f_bench,(-1,0),1e-10,verbose=True)\")\n",
    "    print(bisection(f_bench,(-1,0),1e-10,verbose=True))\n",
    "\n",
    "    print(\"bisection(f_bench,(0,1),1e-10,verbose=True)\")\n",
    "    print(bisection(f_bench,(0,1),1e-10,verbose=True))"
   ]
  },
  {
   "cell_type": "markdown",
   "metadata": {},
   "source": [
    "If the tolerance is $10^{-3}$, how many bisections do you expect to need?  What if the tolerance is $10^{-6}$ ?  Or $10^{-9}$ ?  Try this out, and record the number of iteration and the approximate root (or, rather, root-containing interval) you find in each case, for $\\cos x - x$.\n",
    " \n",
    " *Hint:* An incredibly-convenient almost-equality is $2^{10} = 1024 \\approx 1000 = 10^3$.  Remember this.  Forever.  This is why 1024 bytes make a \"kilobyte\" to a computer scientist."
   ]
  },
  {
   "cell_type": "code",
   "execution_count": 3,
   "metadata": {
    "collapsed": true
   },
   "outputs": [],
   "source": [
    "#your code here"
   ]
  },
  {
   "cell_type": "markdown",
   "metadata": {},
   "source": [
    "<div class=answer>\n",
    "<div/>\n",
    "Answer here"
   ]
  },
  {
   "cell_type": "markdown",
   "metadata": {},
   "source": [
    "Try ```bisection``` out on the benchmark function, using the interval $(0,1)$ and a tolerance $10^{-10}$.  How many iterations are required? "
   ]
  },
  {
   "cell_type": "code",
   "execution_count": null,
   "metadata": {
    "collapsed": true
   },
   "outputs": [],
   "source": [
    "#your code here"
   ]
  },
  {
   "cell_type": "markdown",
   "metadata": {},
   "source": [
    "<div class=answer>\n",
    "<div/>\n",
    "Answer here"
   ]
  },
  {
   "cell_type": "markdown",
   "metadata": {},
   "source": [
    "What happens if you ask for a tolerance of $10^{-21}$?  Does it take as many iterations as you expect?  Do you get what you asked for?  Explain roughly what is going on. "
   ]
  },
  {
   "cell_type": "code",
   "execution_count": 3,
   "metadata": {
    "collapsed": true
   },
   "outputs": [],
   "source": [
    "#your code here"
   ]
  },
  {
   "cell_type": "markdown",
   "metadata": {},
   "source": [
    "<div class=answer>\n",
    "<div/>\n",
    "Answer here"
   ]
  },
  {
   "cell_type": "markdown",
   "metadata": {},
   "source": [
    "What happens if you use the interval $(-1,0)$, and why?"
   ]
  },
  {
   "cell_type": "markdown",
   "metadata": {},
   "source": [
    "<div class=answer>\n",
    "<div/>\n",
    "Answer here"
   ]
  },
  {
   "cell_type": "markdown",
   "metadata": {},
   "source": [
    "## Exercise 5: Wien's Displacement Constant\n",
    "Work out Newman's 6.13 **in a lab format**.  As in the percolation problem, \n",
    "* plot and label the numerical function you are trying to solve before \"cranking away.\"  \n",
    "* write a thoughtful description about each plot\n",
    "* take note of the tolerance you choose and the number of steps required to solve.\n",
    "\n",
    "You may use the scipy constants library if you like:\n",
    "https://docs.scipy.org/doc/scipy/reference/constants.html"
   ]
  },
  {
   "cell_type": "code",
   "execution_count": 3,
   "metadata": {
    "collapsed": false
   },
   "outputs": [
    {
     "name": "stdout",
     "output_type": "stream",
     "text": [
      "299792458.0\n",
      "299792458.0\n"
     ]
    }
   ],
   "source": [
    "from scipy.constants import c\n",
    "print(c)\n",
    "\n",
    "#or even better, remember to track where your functions come from:\n",
    "from scipy import constants as const\n",
    "print(const.c)"
   ]
  },
  {
   "cell_type": "code",
   "execution_count": null,
   "metadata": {
    "collapsed": true
   },
   "outputs": [],
   "source": [
    "#insert code and markdown cells as needed"
   ]
  },
  {
   "cell_type": "markdown",
   "metadata": {},
   "source": [
    "## Exercise 6: Newton-Raphson method\n",
    "\n",
    "Now let us go ahead and code a function to implement the Newton-Raphson method.  I have gotten us started by defining the interface:"
   ]
  },
  {
   "cell_type": "code",
   "execution_count": null,
   "metadata": {
    "collapsed": true
   },
   "outputs": [],
   "source": [
    "def newton(f,fp,x_guess,tolerance,verbose=False,max_iterations=100):\n",
    "    \"\"\" Find root by Newton's method.\n",
    "\n",
    "    The 'approximation' x_i at each iteration is defined by Newton's\n",
    "    method, in terms of the previous approximation x_(i-1).\n",
    "    \n",
    "    The 'error' x_i-x_(i-1) is defined by the difference in successive\n",
    "    approximations.\n",
    "\n",
    "    Returns None if the maximum number of iterations is reached\n",
    "    without satisfying the tolerance.  Also returns None if\n",
    "    rootfinding lands on point where f has zero slope.  Otherwise,\n",
    "    returns final approximation x_i when termination condition is\n",
    "    reached.\n",
    "\n",
    "    f: function for rootfinding\n",
    "    fp: derivative of function for rootfinding (i.e., 'f prime')\n",
    "    x_guess: initial guess point\n",
    "    tolerance: error at which search should terminate\n",
    "    verbose (optional): whether or not to print iteration log\n",
    "    max_iterations (optional): limit on number of iterations\n",
    "    \"\"\"\n",
    "\n",
    "    # set up for first iteration\n",
    "    x = x_guess\n",
    "    error = 2*tolerance  # set error big enough to get past while condition\n",
    "    iteration_count = 0\n",
    "\n",
    "    # TODO\n",
    "\n",
    "    return x\n"
   ]
  },
  {
   "cell_type": "markdown",
   "metadata": {},
   "source": [
    "Notice that, in case of complete failure, we should put in a maximum number of iterations as a \"safety net\", to avoid an infinite loop.\n",
    "\n",
    "Try your function out on our benchmark function, picking starting points reasonably near the root.  Actually, when it comes time to print out a test case to hand in, please use $x_0=0.5$.\n",
    "\n",
    "Now, we probably thought of bisection as being pretty \"fast\" as a way to get to the root.  After all, we saw in **Exercise 3** the error in the bisection method falls exponentially with the number of iterations\n",
    "$$\n",
    "\\epsilon_i \\propto \\frac{1}{2^i}.\n",
    "$$\n",
    "And \"exponential\" is \"fast\", right?  But from Newman you have seen that we expect the Newton-Raphson method to be even faster, at least, once we have gotten close enough to a root that the function is basically described by the first couple of terms in its Taylor series around that root.\n",
    " \n",
    "So let us actually compare the performance of ```bisect``` and ```newton```.  We have already run the necessary test cases.  For ```bisect```, we started with the initial interval $(0,1)$, and, for ```newton```, \n",
    "we used $x_0=0.5$, which is the midpoint of this interval.  So it seems reasonable to compare these test cases.  Based on your log of iterations (from the verbose output) make a table indicating how many how many digits of\n",
    "the answer $x_i$ are correct, with each method, after each iteration ($i=0$, $1$, $2$, $\\ldots$)."
   ]
  },
  {
   "cell_type": "code",
   "execution_count": null,
   "metadata": {
    "collapsed": true
   },
   "outputs": [],
   "source": [
    "#your code here"
   ]
  },
  {
   "cell_type": "markdown",
   "metadata": {},
   "source": [
    "<div class=answer>\n",
    "<div/>\n",
    "Answer here"
   ]
  },
  {
   "cell_type": "markdown",
   "metadata": {},
   "source": [
    "For the *bisection* method, does the growth in the number of correct digits look linear in the number of iterations, or perhaps quadratic, or exponential?  How about for the *Newton-Raphson* method (the trend here may be\n",
    "harder to judge by eye)?  Explain these results in terms of the expected convergence rates (from Newman)."
   ]
  },
  {
   "cell_type": "markdown",
   "metadata": {},
   "source": [
    "<div class=answer>\n",
    "<div/>\n",
    "Answer here"
   ]
  },
  {
   "cell_type": "markdown",
   "metadata": {},
   "source": [
    "What happens if you start Newton's method instead with the initial guess point $x=5$?  How about $x=10$?  Explain what's going on.  It will help to look back at your plot of this function.  "
   ]
  },
  {
   "cell_type": "markdown",
   "metadata": {},
   "source": [
    "<div class=answer>\n",
    "<div/>\n",
    "Answer here"
   ]
  },
  {
   "cell_type": "markdown",
   "metadata": {},
   "source": [
    "## Exercise 7: More on Newton's method\n",
    "\n",
    "Here's one more illustration with Newton's method.  Let's try it out on the function\n",
    "\n",
    "$$\n",
    "\\begin{equation}\n",
    "f(x)=x^2+1.\n",
    "\\end{equation}\n",
    "$$\n",
    "\n",
    "What happens if you pick $x=0$ as the starting point?  How about\n",
    "$x=0.5$?"
   ]
  },
  {
   "cell_type": "code",
   "execution_count": null,
   "metadata": {
    "collapsed": true
   },
   "outputs": [],
   "source": [
    "#your code here"
   ]
  },
  {
   "cell_type": "markdown",
   "metadata": {},
   "source": [
    "<div class=answer>\n",
    "<div/>\n",
    "Answer here"
   ]
  },
  {
   "cell_type": "markdown",
   "metadata": {},
   "source": [
    "*Comment:* Notice that we were applying a rootfinding method, to a function which\n",
    "had no root. A physics professor of mine promulgated this bit of wisdom:\n",
    "\n",
    "    **First rule: Think before you try cranking away!**\n",
    "\n",
    "But, even if we were immune to being so silly as to ever attempt this, there is\n",
    "a lesson to be learned.  What if our function *had* a root, off somewhere far away from the initial guess point, but the guess point landed us near a local minimum in the function?  Our function would locally look just like this parabola, and the Newton-Raphson method could become trapped oscillating around the minimum, in just this fashion.\n",
    "\n",
    "**Summary:** Here is an attempt at summarizing the lessons we have learned.  When it works, Newton-Raphson converges much more rapidly than bisection.  However, sometimes it jumps around before converging.  Sometimes it just oscillates, without converging.  Or, if the starting point is not close enough to a root, the method may go\n",
    "completely astray.\n",
    "\n",
    "**When it's good, it's very, very good.  When it's bad, it's horrid.**"
   ]
  },
  {
   "cell_type": "markdown",
   "metadata": {},
   "source": [
    "## Exericise 8 - The Lagrange Point.  \n",
    "Work out Newman's Exercise 6.16 below **in a lab format**.  As in the percolation problem, \n",
    "* plot and label the numerical function you are trying to solve before \"cranking away.\"  \n",
    "* write a thoughtful description about each plot\n",
    "* take note of the tolerance you choose and the number of steps required to solve.\n",
    "\n",
    "You can use the astropy version of the constants library, you may have to install astropy to use them, but I did not\n",
    "http://docs.astropy.org/en/stable/constants/"
   ]
  },
  {
   "cell_type": "code",
   "execution_count": 10,
   "metadata": {
    "collapsed": false
   },
   "outputs": [
    {
     "name": "stdout",
     "output_type": "stream",
     "text": [
      "  Name   = Gravitational constant\n",
      "  Value  = 6.67408e-11\n",
      "  Uncertainty  = 3.1e-15\n",
      "  Unit  = m3 / (kg s2)\n",
      "  Reference = CODATA 2014\n",
      "Note that you can do arithmetic with the 'Value': 5*G =\n",
      "3.3370400000000003e-10 m3 / (kg s2)\n"
     ]
    }
   ],
   "source": [
    "from astropy import constants as a_const\n",
    "\n",
    "print(const.G)\n",
    "print(\"Note that you can do arithmetic with the 'Value': 5*G =\")\n",
    "print(const.G*5)\n",
    "\n"
   ]
  },
  {
   "cell_type": "code",
   "execution_count": null,
   "metadata": {
    "collapsed": true
   },
   "outputs": [],
   "source": []
  }
 ],
 "metadata": {
  "kernelspec": {
   "display_name": "Python 3",
   "language": "python",
   "name": "python3"
  },
  "language_info": {
   "codemirror_mode": {
    "name": "ipython",
    "version": 3
   },
   "file_extension": ".py",
   "mimetype": "text/x-python",
   "name": "python",
   "nbconvert_exporter": "python",
   "pygments_lexer": "ipython3",
   "version": "3.4.4"
  }
 },
 "nbformat": 4,
 "nbformat_minor": 2
}
